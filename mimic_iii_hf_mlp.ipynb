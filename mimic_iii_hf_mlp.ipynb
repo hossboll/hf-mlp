{
  "cells": [
    {
      "cell_type": "markdown",
      "metadata": {},
      "source": [
        "## Heart failure prediction based on the MIMIC-III dataset\n",
        "This notebook provides a basic code to preprocess the MIMIC-III dataset. It can be used both on Google Colab or in your local machine.\n",
        "Tables ADMISSIONS and DIAGNOSES were selected and transformed to be further used in the MLP model. The categorical features are converted to numbers and the numerical ones are scaled for inputting in the PyTorch models."
      ]
    },
    {
      "cell_type": "code",
      "execution_count": 1,
      "metadata": {
        "colab": {
          "base_uri": "https://localhost:8080/"
        },
        "id": "8Jo221tlG8d5",
        "outputId": "bbf74371-0b54-40bb-e5a4-e6c5895476f0"
      },
      "outputs": [
        {
          "data": {
            "text/plain": [
              "\" # if using google drive, mounting drive for mimic-iii access\\nfrom google.colab import drive\\ndrive.mount('/content/drive') \""
            ]
          },
          "execution_count": 1,
          "metadata": {},
          "output_type": "execute_result"
        }
      ],
      "source": [
        "\"\"\" # if using google drive, mounting drive for mimic-iii access\n",
        "from google.colab import drive\n",
        "drive.mount('/content/drive') \"\"\""
      ]
    },
    {
      "cell_type": "code",
      "execution_count": 2,
      "metadata": {
        "colab": {
          "base_uri": "https://localhost:8080/"
        },
        "id": "zqPZ608UHuQt",
        "outputId": "643ea1b8-8351-49c0-fe62-4f1095b5150e"
      },
      "outputs": [],
      "source": [
        "import pandas as pd\n",
        "\n",
        "# add the path to the files\n",
        "# if they are in your google drive, it will look something like this:\n",
        "# /content/drive/MyDrive/Colab Notebooks/mimic-iii-demo/ADMISSIONS.csv\n",
        "\n",
        "admissions_path = \"data\\mimic-iii\\ADMISSIONS.csv\"\n",
        "diagnoses_path = \"data\\mimic-iii\\DIAGNOSES_ICD.csv\"\n",
        "\n",
        "# loading data\n",
        "admissions = pd.read_csv(admissions_path)\n",
        "diagnoses = pd.read_csv(diagnoses_path)"
      ]
    },
    {
      "cell_type": "code",
      "execution_count": 3,
      "metadata": {
        "colab": {
          "base_uri": "https://localhost:8080/",
          "height": 478
        },
        "id": "FxfCvDvUKYO_",
        "outputId": "387f1938-06f1-43b2-eeb6-92fecb23403c"
      },
      "outputs": [
        {
          "name": "stdout",
          "output_type": "stream",
          "text": [
            "\n",
            "Admissions table, containing data about patients admissions:\n"
          ]
        },
        {
          "data": {
            "text/html": [
              "<div>\n",
              "<style scoped>\n",
              "    .dataframe tbody tr th:only-of-type {\n",
              "        vertical-align: middle;\n",
              "    }\n",
              "\n",
              "    .dataframe tbody tr th {\n",
              "        vertical-align: top;\n",
              "    }\n",
              "\n",
              "    .dataframe thead th {\n",
              "        text-align: right;\n",
              "    }\n",
              "</style>\n",
              "<table border=\"1\" class=\"dataframe\">\n",
              "  <thead>\n",
              "    <tr style=\"text-align: right;\">\n",
              "      <th></th>\n",
              "      <th>ROW_ID</th>\n",
              "      <th>SUBJECT_ID</th>\n",
              "      <th>HADM_ID</th>\n",
              "      <th>ADMITTIME</th>\n",
              "      <th>DISCHTIME</th>\n",
              "      <th>DEATHTIME</th>\n",
              "      <th>ADMISSION_TYPE</th>\n",
              "      <th>ADMISSION_LOCATION</th>\n",
              "      <th>DISCHARGE_LOCATION</th>\n",
              "      <th>INSURANCE</th>\n",
              "      <th>LANGUAGE</th>\n",
              "      <th>RELIGION</th>\n",
              "      <th>MARITAL_STATUS</th>\n",
              "      <th>ETHNICITY</th>\n",
              "      <th>EDREGTIME</th>\n",
              "      <th>EDOUTTIME</th>\n",
              "      <th>DIAGNOSIS</th>\n",
              "      <th>HOSPITAL_EXPIRE_FLAG</th>\n",
              "      <th>HAS_CHARTEVENTS_DATA</th>\n",
              "    </tr>\n",
              "  </thead>\n",
              "  <tbody>\n",
              "    <tr>\n",
              "      <th>0</th>\n",
              "      <td>21</td>\n",
              "      <td>22</td>\n",
              "      <td>165315</td>\n",
              "      <td>2196-04-09 12:26:00</td>\n",
              "      <td>2196-04-10 15:54:00</td>\n",
              "      <td>NaN</td>\n",
              "      <td>EMERGENCY</td>\n",
              "      <td>EMERGENCY ROOM ADMIT</td>\n",
              "      <td>DISC-TRAN CANCER/CHLDRN H</td>\n",
              "      <td>Private</td>\n",
              "      <td>NaN</td>\n",
              "      <td>UNOBTAINABLE</td>\n",
              "      <td>MARRIED</td>\n",
              "      <td>WHITE</td>\n",
              "      <td>2196-04-09 10:06:00</td>\n",
              "      <td>2196-04-09 13:24:00</td>\n",
              "      <td>BENZODIAZEPINE OVERDOSE</td>\n",
              "      <td>0</td>\n",
              "      <td>1</td>\n",
              "    </tr>\n",
              "    <tr>\n",
              "      <th>1</th>\n",
              "      <td>22</td>\n",
              "      <td>23</td>\n",
              "      <td>152223</td>\n",
              "      <td>2153-09-03 07:15:00</td>\n",
              "      <td>2153-09-08 19:10:00</td>\n",
              "      <td>NaN</td>\n",
              "      <td>ELECTIVE</td>\n",
              "      <td>PHYS REFERRAL/NORMAL DELI</td>\n",
              "      <td>HOME HEALTH CARE</td>\n",
              "      <td>Medicare</td>\n",
              "      <td>NaN</td>\n",
              "      <td>CATHOLIC</td>\n",
              "      <td>MARRIED</td>\n",
              "      <td>WHITE</td>\n",
              "      <td>NaN</td>\n",
              "      <td>NaN</td>\n",
              "      <td>CORONARY ARTERY DISEASE\\CORONARY ARTERY BYPASS...</td>\n",
              "      <td>0</td>\n",
              "      <td>1</td>\n",
              "    </tr>\n",
              "    <tr>\n",
              "      <th>2</th>\n",
              "      <td>23</td>\n",
              "      <td>23</td>\n",
              "      <td>124321</td>\n",
              "      <td>2157-10-18 19:34:00</td>\n",
              "      <td>2157-10-25 14:00:00</td>\n",
              "      <td>NaN</td>\n",
              "      <td>EMERGENCY</td>\n",
              "      <td>TRANSFER FROM HOSP/EXTRAM</td>\n",
              "      <td>HOME HEALTH CARE</td>\n",
              "      <td>Medicare</td>\n",
              "      <td>ENGL</td>\n",
              "      <td>CATHOLIC</td>\n",
              "      <td>MARRIED</td>\n",
              "      <td>WHITE</td>\n",
              "      <td>NaN</td>\n",
              "      <td>NaN</td>\n",
              "      <td>BRAIN MASS</td>\n",
              "      <td>0</td>\n",
              "      <td>1</td>\n",
              "    </tr>\n",
              "    <tr>\n",
              "      <th>3</th>\n",
              "      <td>24</td>\n",
              "      <td>24</td>\n",
              "      <td>161859</td>\n",
              "      <td>2139-06-06 16:14:00</td>\n",
              "      <td>2139-06-09 12:48:00</td>\n",
              "      <td>NaN</td>\n",
              "      <td>EMERGENCY</td>\n",
              "      <td>TRANSFER FROM HOSP/EXTRAM</td>\n",
              "      <td>HOME</td>\n",
              "      <td>Private</td>\n",
              "      <td>NaN</td>\n",
              "      <td>PROTESTANT QUAKER</td>\n",
              "      <td>SINGLE</td>\n",
              "      <td>WHITE</td>\n",
              "      <td>NaN</td>\n",
              "      <td>NaN</td>\n",
              "      <td>INTERIOR MYOCARDIAL INFARCTION</td>\n",
              "      <td>0</td>\n",
              "      <td>1</td>\n",
              "    </tr>\n",
              "    <tr>\n",
              "      <th>4</th>\n",
              "      <td>25</td>\n",
              "      <td>25</td>\n",
              "      <td>129635</td>\n",
              "      <td>2160-11-02 02:06:00</td>\n",
              "      <td>2160-11-05 14:55:00</td>\n",
              "      <td>NaN</td>\n",
              "      <td>EMERGENCY</td>\n",
              "      <td>EMERGENCY ROOM ADMIT</td>\n",
              "      <td>HOME</td>\n",
              "      <td>Private</td>\n",
              "      <td>NaN</td>\n",
              "      <td>UNOBTAINABLE</td>\n",
              "      <td>MARRIED</td>\n",
              "      <td>WHITE</td>\n",
              "      <td>2160-11-02 01:01:00</td>\n",
              "      <td>2160-11-02 04:27:00</td>\n",
              "      <td>ACUTE CORONARY SYNDROME</td>\n",
              "      <td>0</td>\n",
              "      <td>1</td>\n",
              "    </tr>\n",
              "  </tbody>\n",
              "</table>\n",
              "</div>"
            ],
            "text/plain": [
              "   ROW_ID  SUBJECT_ID  HADM_ID            ADMITTIME            DISCHTIME  \\\n",
              "0      21          22   165315  2196-04-09 12:26:00  2196-04-10 15:54:00   \n",
              "1      22          23   152223  2153-09-03 07:15:00  2153-09-08 19:10:00   \n",
              "2      23          23   124321  2157-10-18 19:34:00  2157-10-25 14:00:00   \n",
              "3      24          24   161859  2139-06-06 16:14:00  2139-06-09 12:48:00   \n",
              "4      25          25   129635  2160-11-02 02:06:00  2160-11-05 14:55:00   \n",
              "\n",
              "  DEATHTIME ADMISSION_TYPE         ADMISSION_LOCATION  \\\n",
              "0       NaN      EMERGENCY       EMERGENCY ROOM ADMIT   \n",
              "1       NaN       ELECTIVE  PHYS REFERRAL/NORMAL DELI   \n",
              "2       NaN      EMERGENCY  TRANSFER FROM HOSP/EXTRAM   \n",
              "3       NaN      EMERGENCY  TRANSFER FROM HOSP/EXTRAM   \n",
              "4       NaN      EMERGENCY       EMERGENCY ROOM ADMIT   \n",
              "\n",
              "          DISCHARGE_LOCATION INSURANCE LANGUAGE           RELIGION  \\\n",
              "0  DISC-TRAN CANCER/CHLDRN H   Private      NaN       UNOBTAINABLE   \n",
              "1           HOME HEALTH CARE  Medicare      NaN           CATHOLIC   \n",
              "2           HOME HEALTH CARE  Medicare     ENGL           CATHOLIC   \n",
              "3                       HOME   Private      NaN  PROTESTANT QUAKER   \n",
              "4                       HOME   Private      NaN       UNOBTAINABLE   \n",
              "\n",
              "  MARITAL_STATUS ETHNICITY            EDREGTIME            EDOUTTIME  \\\n",
              "0        MARRIED     WHITE  2196-04-09 10:06:00  2196-04-09 13:24:00   \n",
              "1        MARRIED     WHITE                  NaN                  NaN   \n",
              "2        MARRIED     WHITE                  NaN                  NaN   \n",
              "3         SINGLE     WHITE                  NaN                  NaN   \n",
              "4        MARRIED     WHITE  2160-11-02 01:01:00  2160-11-02 04:27:00   \n",
              "\n",
              "                                           DIAGNOSIS  HOSPITAL_EXPIRE_FLAG  \\\n",
              "0                            BENZODIAZEPINE OVERDOSE                     0   \n",
              "1  CORONARY ARTERY DISEASE\\CORONARY ARTERY BYPASS...                     0   \n",
              "2                                         BRAIN MASS                     0   \n",
              "3                     INTERIOR MYOCARDIAL INFARCTION                     0   \n",
              "4                            ACUTE CORONARY SYNDROME                     0   \n",
              "\n",
              "   HAS_CHARTEVENTS_DATA  \n",
              "0                     1  \n",
              "1                     1  \n",
              "2                     1  \n",
              "3                     1  \n",
              "4                     1  "
            ]
          },
          "execution_count": 3,
          "metadata": {},
          "output_type": "execute_result"
        }
      ],
      "source": [
        "print(\"\\nAdmissions table, containing data about patients admissions:\")\n",
        "admissions.head()"
      ]
    },
    {
      "cell_type": "code",
      "execution_count": 4,
      "metadata": {
        "colab": {
          "base_uri": "https://localhost:8080/",
          "height": 241
        },
        "id": "QJujKXGbMs3C",
        "outputId": "01bbeeec-29fa-4bc7-d0dc-cdd488759db3"
      },
      "outputs": [
        {
          "name": "stdout",
          "output_type": "stream",
          "text": [
            "\n",
            "Diagnoses table, containing data about patients' diagnoses based on ICD codes:\n"
          ]
        },
        {
          "data": {
            "text/html": [
              "<div>\n",
              "<style scoped>\n",
              "    .dataframe tbody tr th:only-of-type {\n",
              "        vertical-align: middle;\n",
              "    }\n",
              "\n",
              "    .dataframe tbody tr th {\n",
              "        vertical-align: top;\n",
              "    }\n",
              "\n",
              "    .dataframe thead th {\n",
              "        text-align: right;\n",
              "    }\n",
              "</style>\n",
              "<table border=\"1\" class=\"dataframe\">\n",
              "  <thead>\n",
              "    <tr style=\"text-align: right;\">\n",
              "      <th></th>\n",
              "      <th>ROW_ID</th>\n",
              "      <th>SUBJECT_ID</th>\n",
              "      <th>HADM_ID</th>\n",
              "      <th>SEQ_NUM</th>\n",
              "      <th>ICD9_CODE</th>\n",
              "    </tr>\n",
              "  </thead>\n",
              "  <tbody>\n",
              "    <tr>\n",
              "      <th>0</th>\n",
              "      <td>1297</td>\n",
              "      <td>109</td>\n",
              "      <td>172335</td>\n",
              "      <td>1.0</td>\n",
              "      <td>40301</td>\n",
              "    </tr>\n",
              "    <tr>\n",
              "      <th>1</th>\n",
              "      <td>1298</td>\n",
              "      <td>109</td>\n",
              "      <td>172335</td>\n",
              "      <td>2.0</td>\n",
              "      <td>486</td>\n",
              "    </tr>\n",
              "    <tr>\n",
              "      <th>2</th>\n",
              "      <td>1299</td>\n",
              "      <td>109</td>\n",
              "      <td>172335</td>\n",
              "      <td>3.0</td>\n",
              "      <td>58281</td>\n",
              "    </tr>\n",
              "    <tr>\n",
              "      <th>3</th>\n",
              "      <td>1300</td>\n",
              "      <td>109</td>\n",
              "      <td>172335</td>\n",
              "      <td>4.0</td>\n",
              "      <td>5855</td>\n",
              "    </tr>\n",
              "    <tr>\n",
              "      <th>4</th>\n",
              "      <td>1301</td>\n",
              "      <td>109</td>\n",
              "      <td>172335</td>\n",
              "      <td>5.0</td>\n",
              "      <td>4254</td>\n",
              "    </tr>\n",
              "  </tbody>\n",
              "</table>\n",
              "</div>"
            ],
            "text/plain": [
              "   ROW_ID  SUBJECT_ID  HADM_ID  SEQ_NUM ICD9_CODE\n",
              "0    1297         109   172335      1.0     40301\n",
              "1    1298         109   172335      2.0       486\n",
              "2    1299         109   172335      3.0     58281\n",
              "3    1300         109   172335      4.0      5855\n",
              "4    1301         109   172335      5.0      4254"
            ]
          },
          "execution_count": 4,
          "metadata": {},
          "output_type": "execute_result"
        }
      ],
      "source": [
        "print(\"\\nDiagnoses table, containing data about patients' diagnoses based on ICD codes:\")\n",
        "diagnoses.head()"
      ]
    },
    {
      "cell_type": "code",
      "execution_count": 5,
      "metadata": {
        "colab": {
          "base_uri": "https://localhost:8080/"
        },
        "id": "6MfGdjszMwOY",
        "outputId": "18f36449-3307-40bb-ed81-f58cbafb0f4c"
      },
      "outputs": [
        {
          "name": "stdout",
          "output_type": "stream",
          "text": [
            "\n",
            "Missing values in Admissions:\n",
            "ROW_ID                      0\n",
            "SUBJECT_ID                  0\n",
            "HADM_ID                     0\n",
            "ADMITTIME                   0\n",
            "DISCHTIME                   0\n",
            "DEATHTIME               53122\n",
            "ADMISSION_TYPE              0\n",
            "ADMISSION_LOCATION          0\n",
            "DISCHARGE_LOCATION          0\n",
            "INSURANCE                   0\n",
            "LANGUAGE                25332\n",
            "RELIGION                  458\n",
            "MARITAL_STATUS          10128\n",
            "ETHNICITY                   0\n",
            "EDREGTIME               28099\n",
            "EDOUTTIME               28099\n",
            "DIAGNOSIS                  25\n",
            "HOSPITAL_EXPIRE_FLAG        0\n",
            "HAS_CHARTEVENTS_DATA        0\n",
            "dtype: int64\n",
            "\n",
            "Missing values in Diagnoses:\n",
            "ROW_ID         0\n",
            "SUBJECT_ID     0\n",
            "HADM_ID        0\n",
            "SEQ_NUM       47\n",
            "ICD9_CODE     47\n",
            "dtype: int64\n"
          ]
        }
      ],
      "source": [
        "# checking for missing values\n",
        "print(\"\\nMissing values in Admissions:\")\n",
        "print(admissions.isnull().sum())\n",
        "\n",
        "print(\"\\nMissing values in Diagnoses:\")\n",
        "print(diagnoses.isnull().sum())"
      ]
    },
    {
      "cell_type": "code",
      "execution_count": 6,
      "metadata": {
        "id": "S4cuGBqEQJTX"
      },
      "outputs": [
        {
          "data": {
            "text/plain": [
              "\" # first, remove patients with less than 2 encounters\\nadmissions = admissions.groupby('SUBJECT_ID').filter(lambda x: len(x['HADM_ID']) > 1) \""
            ]
          },
          "execution_count": 6,
          "metadata": {},
          "output_type": "execute_result"
        }
      ],
      "source": [
        "# first, remove patients with less than 2 encounters\n",
        "admissions = admissions.groupby('SUBJECT_ID').filter(lambda x: len(x['HADM_ID']) > 1)"
      ]
    },
    {
      "cell_type": "code",
      "execution_count": 7,
      "metadata": {
        "id": "lySkAOtNQs79"
      },
      "outputs": [
        {
          "data": {
            "text/plain": [
              "(58976, 19)"
            ]
          },
          "execution_count": 7,
          "metadata": {},
          "output_type": "execute_result"
        }
      ],
      "source": [
        "admissions.shape"
      ]
    },
    {
      "cell_type": "code",
      "execution_count": 8,
      "metadata": {
        "colab": {
          "base_uri": "https://localhost:8080/"
        },
        "id": "dJAKXGQfEpBt",
        "outputId": "49927115-d8f2-4e52-f0cc-60f492553e43"
      },
      "outputs": [
        {
          "name": "stdout",
          "output_type": "stream",
          "text": [
            "Number of unique patients with multiple visits: 7537\n"
          ]
        }
      ],
      "source": [
        "filtered_admissions = admissions.groupby('SUBJECT_ID').filter(lambda x: len(x['HADM_ID']) > 1)\n",
        "unique_patients_with_multiple_visits = filtered_admissions['SUBJECT_ID'].nunique()\n",
        "print(f\"Number of unique patients with multiple visits: {unique_patients_with_multiple_visits}\")"
      ]
    },
    {
      "cell_type": "code",
      "execution_count": 9,
      "metadata": {
        "colab": {
          "base_uri": "https://localhost:8080/"
        },
        "id": "KXM8CEOqFsoR",
        "outputId": "0c8955e4-f0c6-4f72-f5f0-c3672502f73d"
      },
      "outputs": [
        {
          "name": "stdout",
          "output_type": "stream",
          "text": [
            "Total number of patients: 46520\n"
          ]
        }
      ],
      "source": [
        "unique_subject_ids_count = admissions['SUBJECT_ID'].nunique()\n",
        "print(f\"Total number of patients: {unique_subject_ids_count}\")"
      ]
    },
    {
      "cell_type": "code",
      "execution_count": 10,
      "metadata": {},
      "outputs": [
        {
          "name": "stdout",
          "output_type": "stream",
          "text": [
            "   ROW_ID  SUBJECT_ID  HADM_ID           ADMITTIME           DISCHTIME  \\\n",
            "0      21          22   165315 2196-04-09 12:26:00 2196-04-10 15:54:00   \n",
            "1      22          23   152223 2153-09-03 07:15:00 2153-09-08 19:10:00   \n",
            "2      23          23   124321 2157-10-18 19:34:00 2157-10-25 14:00:00   \n",
            "3      24          24   161859 2139-06-06 16:14:00 2139-06-09 12:48:00   \n",
            "4      25          25   129635 2160-11-02 02:06:00 2160-11-05 14:55:00   \n",
            "\n",
            "  DEATHTIME ADMISSION_TYPE         ADMISSION_LOCATION  \\\n",
            "0       NaN      EMERGENCY       EMERGENCY ROOM ADMIT   \n",
            "1       NaN       ELECTIVE  PHYS REFERRAL/NORMAL DELI   \n",
            "2       NaN      EMERGENCY  TRANSFER FROM HOSP/EXTRAM   \n",
            "3       NaN      EMERGENCY  TRANSFER FROM HOSP/EXTRAM   \n",
            "4       NaN      EMERGENCY       EMERGENCY ROOM ADMIT   \n",
            "\n",
            "          DISCHARGE_LOCATION INSURANCE LANGUAGE           RELIGION  \\\n",
            "0  DISC-TRAN CANCER/CHLDRN H   Private      NaN       UNOBTAINABLE   \n",
            "1           HOME HEALTH CARE  Medicare      NaN           CATHOLIC   \n",
            "2           HOME HEALTH CARE  Medicare     ENGL           CATHOLIC   \n",
            "3                       HOME   Private      NaN  PROTESTANT QUAKER   \n",
            "4                       HOME   Private      NaN       UNOBTAINABLE   \n",
            "\n",
            "  MARITAL_STATUS ETHNICITY            EDREGTIME            EDOUTTIME  \\\n",
            "0        MARRIED     WHITE  2196-04-09 10:06:00  2196-04-09 13:24:00   \n",
            "1        MARRIED     WHITE                  NaN                  NaN   \n",
            "2        MARRIED     WHITE                  NaN                  NaN   \n",
            "3         SINGLE     WHITE                  NaN                  NaN   \n",
            "4        MARRIED     WHITE  2160-11-02 01:01:00  2160-11-02 04:27:00   \n",
            "\n",
            "                                           DIAGNOSIS  HOSPITAL_EXPIRE_FLAG  \\\n",
            "0                            BENZODIAZEPINE OVERDOSE                     0   \n",
            "1  CORONARY ARTERY DISEASE\\CORONARY ARTERY BYPASS...                     0   \n",
            "2                                         BRAIN MASS                     0   \n",
            "3                     INTERIOR MYOCARDIAL INFARCTION                     0   \n",
            "4                            ACUTE CORONARY SYNDROME                     0   \n",
            "\n",
            "   HAS_CHARTEVENTS_DATA  length_of_stay  \n",
            "0                     1               1  \n",
            "1                     1               5  \n",
            "2                     1               6  \n",
            "3                     1               2  \n",
            "4                     1               3  \n"
          ]
        }
      ],
      "source": [
        "# adding a column with length of stay\n",
        "admissions['ADMITTIME'] = pd.to_datetime(admissions['ADMITTIME'], format='%Y-%m-%d %H:%M:%S', errors='coerce')\n",
        "admissions['DISCHTIME'] = pd.to_datetime(admissions['DISCHTIME'], format='%Y-%m-%d %H:%M:%S', errors='coerce')\n",
        "\n",
        "admissions['length_of_stay'] = (admissions['DISCHTIME'] - admissions['ADMITTIME']).dt.days\n",
        "print(admissions.head())"
      ]
    },
    {
      "cell_type": "code",
      "execution_count": 11,
      "metadata": {
        "colab": {
          "base_uri": "https://localhost:8080/"
        },
        "id": "3_7kK80pNjul",
        "outputId": "2c0a868e-357f-41a6-a6eb-567b7cf438a1"
      },
      "outputs": [
        {
          "name": "stdout",
          "output_type": "stream",
          "text": [
            "   HADM_ID ADMISSION_TYPE                                          DIAGNOSIS  \\\n",
            "0   165315      EMERGENCY                            BENZODIAZEPINE OVERDOSE   \n",
            "1   152223       ELECTIVE  CORONARY ARTERY DISEASE\\CORONARY ARTERY BYPASS...   \n",
            "2   124321      EMERGENCY                                         BRAIN MASS   \n",
            "3   161859      EMERGENCY                     INTERIOR MYOCARDIAL INFARCTION   \n",
            "4   129635      EMERGENCY                            ACUTE CORONARY SYNDROME   \n",
            "\n",
            "          ADMISSION_LOCATION         DISCHARGE_LOCATION INSURANCE ETHNICITY  \\\n",
            "0       EMERGENCY ROOM ADMIT  DISC-TRAN CANCER/CHLDRN H   Private     WHITE   \n",
            "1  PHYS REFERRAL/NORMAL DELI           HOME HEALTH CARE  Medicare     WHITE   \n",
            "2  TRANSFER FROM HOSP/EXTRAM           HOME HEALTH CARE  Medicare     WHITE   \n",
            "3  TRANSFER FROM HOSP/EXTRAM                       HOME   Private     WHITE   \n",
            "4       EMERGENCY ROOM ADMIT                       HOME   Private     WHITE   \n",
            "\n",
            "   length_of_stay  \n",
            "0               1  \n",
            "1               5  \n",
            "2               6  \n",
            "3               2  \n",
            "4               3  \n",
            "\n",
            "Missing values in selected Admissions:\n",
            "HADM_ID                0\n",
            "ADMISSION_TYPE         0\n",
            "DIAGNOSIS             25\n",
            "ADMISSION_LOCATION     0\n",
            "DISCHARGE_LOCATION     0\n",
            "INSURANCE              0\n",
            "ETHNICITY              0\n",
            "length_of_stay         0\n",
            "dtype: int64\n"
          ]
        }
      ],
      "source": [
        "# selecting only important attributes\n",
        "select_adm = ['HADM_ID', 'ADMISSION_TYPE', 'DIAGNOSIS', 'ADMISSION_LOCATION', 'DISCHARGE_LOCATION', 'INSURANCE', 'ETHNICITY', 'length_of_stay']\n",
        "\n",
        "adms = admissions[select_adm]\n",
        "print(adms.head())\n",
        "print(\"\\nMissing values in selected Admissions:\")\n",
        "print(adms.isnull().sum())"
      ]
    },
    {
      "cell_type": "code",
      "execution_count": 12,
      "metadata": {
        "colab": {
          "base_uri": "https://localhost:8080/"
        },
        "id": "KMzrsrfhUD5N",
        "outputId": "3f1dcaa6-4ca9-46ab-c43f-cc74780cf2c5"
      },
      "outputs": [
        {
          "name": "stdout",
          "output_type": "stream",
          "text": [
            "   HADM_ID ICD9_CODE\n",
            "0   172335     40301\n",
            "1   172335       486\n",
            "2   172335     58281\n",
            "3   172335      5855\n",
            "4   172335      4254\n",
            "\n",
            "Missing values in selected Diagnoses:\n",
            "HADM_ID       0\n",
            "ICD9_CODE    47\n",
            "dtype: int64\n"
          ]
        }
      ],
      "source": [
        "# for diagnosis, hospital admission id, and icd-9 codes\n",
        "# goal: diagnose HF in an admission\n",
        "diags = diagnoses[['HADM_ID','ICD9_CODE']]\n",
        "print(diags.head())\n",
        "print(\"\\nMissing values in selected Diagnoses:\")\n",
        "print(diags.isnull().sum())"
      ]
    },
    {
      "cell_type": "code",
      "execution_count": 13,
      "metadata": {
        "colab": {
          "base_uri": "https://localhost:8080/",
          "height": 206
        },
        "id": "xXqpRGr4VNCp",
        "outputId": "ae6d2131-68d7-41e5-9f33-fe5a373b39e7"
      },
      "outputs": [
        {
          "data": {
            "text/html": [
              "<div>\n",
              "<style scoped>\n",
              "    .dataframe tbody tr th:only-of-type {\n",
              "        vertical-align: middle;\n",
              "    }\n",
              "\n",
              "    .dataframe tbody tr th {\n",
              "        vertical-align: top;\n",
              "    }\n",
              "\n",
              "    .dataframe thead th {\n",
              "        text-align: right;\n",
              "    }\n",
              "</style>\n",
              "<table border=\"1\" class=\"dataframe\">\n",
              "  <thead>\n",
              "    <tr style=\"text-align: right;\">\n",
              "      <th></th>\n",
              "      <th>HADM_ID</th>\n",
              "      <th>ICD9_CODE</th>\n",
              "      <th>heart_failure</th>\n",
              "    </tr>\n",
              "  </thead>\n",
              "  <tbody>\n",
              "    <tr>\n",
              "      <th>0</th>\n",
              "      <td>172335</td>\n",
              "      <td>40301</td>\n",
              "      <td>0</td>\n",
              "    </tr>\n",
              "    <tr>\n",
              "      <th>1</th>\n",
              "      <td>172335</td>\n",
              "      <td>486</td>\n",
              "      <td>0</td>\n",
              "    </tr>\n",
              "    <tr>\n",
              "      <th>2</th>\n",
              "      <td>172335</td>\n",
              "      <td>58281</td>\n",
              "      <td>0</td>\n",
              "    </tr>\n",
              "    <tr>\n",
              "      <th>3</th>\n",
              "      <td>172335</td>\n",
              "      <td>5855</td>\n",
              "      <td>0</td>\n",
              "    </tr>\n",
              "    <tr>\n",
              "      <th>4</th>\n",
              "      <td>172335</td>\n",
              "      <td>4254</td>\n",
              "      <td>1</td>\n",
              "    </tr>\n",
              "  </tbody>\n",
              "</table>\n",
              "</div>"
            ],
            "text/plain": [
              "   HADM_ID ICD9_CODE  heart_failure\n",
              "0   172335     40301              0\n",
              "1   172335       486              0\n",
              "2   172335     58281              0\n",
              "3   172335      5855              0\n",
              "4   172335      4254              1"
            ]
          },
          "execution_count": 13,
          "metadata": {},
          "output_type": "execute_result"
        }
      ],
      "source": [
        "# extracting heart failure diagnosis for binary labels\n",
        "hf_icd9_codes = ['4250', '4251', '4252', '4253', '4254', '4255', '4257', '4258', '4259', '42983',\n",
        "                 '42830', '42832', '42840', '42842',\n",
        "                 '39891', '4280', '4281', '42820', '42822', '4289',\n",
        "                 '40211', '40291',\n",
        "                 '40411', '40491',\n",
        "                 '4168', '4169'\n",
        "                 ]\n",
        "\n",
        "# new binary label column indicating heart failure = 1\n",
        "diags = diagnoses[['HADM_ID', 'ICD9_CODE']].copy()\n",
        "diags['heart_failure'] = diags['ICD9_CODE'].isin(hf_icd9_codes).astype(int)\n",
        "diags.head()"
      ]
    },
    {
      "cell_type": "code",
      "execution_count": 14,
      "metadata": {},
      "outputs": [
        {
          "data": {
            "text/html": [
              "<div>\n",
              "<style scoped>\n",
              "    .dataframe tbody tr th:only-of-type {\n",
              "        vertical-align: middle;\n",
              "    }\n",
              "\n",
              "    .dataframe tbody tr th {\n",
              "        vertical-align: top;\n",
              "    }\n",
              "\n",
              "    .dataframe thead th {\n",
              "        text-align: right;\n",
              "    }\n",
              "</style>\n",
              "<table border=\"1\" class=\"dataframe\">\n",
              "  <thead>\n",
              "    <tr style=\"text-align: right;\">\n",
              "      <th></th>\n",
              "      <th>HADM_ID</th>\n",
              "      <th>heart_failure</th>\n",
              "    </tr>\n",
              "  </thead>\n",
              "  <tbody>\n",
              "    <tr>\n",
              "      <th>0</th>\n",
              "      <td>100001</td>\n",
              "      <td>0</td>\n",
              "    </tr>\n",
              "    <tr>\n",
              "      <th>1</th>\n",
              "      <td>100003</td>\n",
              "      <td>0</td>\n",
              "    </tr>\n",
              "    <tr>\n",
              "      <th>2</th>\n",
              "      <td>100006</td>\n",
              "      <td>0</td>\n",
              "    </tr>\n",
              "    <tr>\n",
              "      <th>3</th>\n",
              "      <td>100007</td>\n",
              "      <td>0</td>\n",
              "    </tr>\n",
              "    <tr>\n",
              "      <th>4</th>\n",
              "      <td>100009</td>\n",
              "      <td>0</td>\n",
              "    </tr>\n",
              "  </tbody>\n",
              "</table>\n",
              "</div>"
            ],
            "text/plain": [
              "   HADM_ID  heart_failure\n",
              "0   100001              0\n",
              "1   100003              0\n",
              "2   100006              0\n",
              "3   100007              0\n",
              "4   100009              0"
            ]
          },
          "execution_count": 14,
          "metadata": {},
          "output_type": "execute_result"
        }
      ],
      "source": [
        "diags = diags.groupby('HADM_ID').agg({\n",
        "    'heart_failure': 'max'\n",
        "}).reset_index()\n",
        "diags.head()"
      ]
    },
    {
      "cell_type": "code",
      "execution_count": 15,
      "metadata": {
        "colab": {
          "base_uri": "https://localhost:8080/",
          "height": 270
        },
        "id": "LhweDR53Wose",
        "outputId": "fb5ca830-1f9f-4b23-e093-361472fd2bb3"
      },
      "outputs": [
        {
          "data": {
            "text/html": [
              "<div>\n",
              "<style scoped>\n",
              "    .dataframe tbody tr th:only-of-type {\n",
              "        vertical-align: middle;\n",
              "    }\n",
              "\n",
              "    .dataframe tbody tr th {\n",
              "        vertical-align: top;\n",
              "    }\n",
              "\n",
              "    .dataframe thead th {\n",
              "        text-align: right;\n",
              "    }\n",
              "</style>\n",
              "<table border=\"1\" class=\"dataframe\">\n",
              "  <thead>\n",
              "    <tr style=\"text-align: right;\">\n",
              "      <th></th>\n",
              "      <th>HADM_ID</th>\n",
              "      <th>ADMISSION_TYPE</th>\n",
              "      <th>DIAGNOSIS</th>\n",
              "      <th>ADMISSION_LOCATION</th>\n",
              "      <th>DISCHARGE_LOCATION</th>\n",
              "      <th>INSURANCE</th>\n",
              "      <th>ETHNICITY</th>\n",
              "      <th>length_of_stay</th>\n",
              "      <th>heart_failure</th>\n",
              "    </tr>\n",
              "  </thead>\n",
              "  <tbody>\n",
              "    <tr>\n",
              "      <th>0</th>\n",
              "      <td>165315</td>\n",
              "      <td>EMERGENCY</td>\n",
              "      <td>BENZODIAZEPINE OVERDOSE</td>\n",
              "      <td>EMERGENCY ROOM ADMIT</td>\n",
              "      <td>DISC-TRAN CANCER/CHLDRN H</td>\n",
              "      <td>Private</td>\n",
              "      <td>WHITE</td>\n",
              "      <td>1</td>\n",
              "      <td>0</td>\n",
              "    </tr>\n",
              "    <tr>\n",
              "      <th>1</th>\n",
              "      <td>152223</td>\n",
              "      <td>ELECTIVE</td>\n",
              "      <td>CORONARY ARTERY DISEASE\\CORONARY ARTERY BYPASS...</td>\n",
              "      <td>PHYS REFERRAL/NORMAL DELI</td>\n",
              "      <td>HOME HEALTH CARE</td>\n",
              "      <td>Medicare</td>\n",
              "      <td>WHITE</td>\n",
              "      <td>5</td>\n",
              "      <td>0</td>\n",
              "    </tr>\n",
              "    <tr>\n",
              "      <th>2</th>\n",
              "      <td>124321</td>\n",
              "      <td>EMERGENCY</td>\n",
              "      <td>BRAIN MASS</td>\n",
              "      <td>TRANSFER FROM HOSP/EXTRAM</td>\n",
              "      <td>HOME HEALTH CARE</td>\n",
              "      <td>Medicare</td>\n",
              "      <td>WHITE</td>\n",
              "      <td>6</td>\n",
              "      <td>0</td>\n",
              "    </tr>\n",
              "    <tr>\n",
              "      <th>3</th>\n",
              "      <td>161859</td>\n",
              "      <td>EMERGENCY</td>\n",
              "      <td>INTERIOR MYOCARDIAL INFARCTION</td>\n",
              "      <td>TRANSFER FROM HOSP/EXTRAM</td>\n",
              "      <td>HOME</td>\n",
              "      <td>Private</td>\n",
              "      <td>WHITE</td>\n",
              "      <td>2</td>\n",
              "      <td>0</td>\n",
              "    </tr>\n",
              "    <tr>\n",
              "      <th>4</th>\n",
              "      <td>129635</td>\n",
              "      <td>EMERGENCY</td>\n",
              "      <td>ACUTE CORONARY SYNDROME</td>\n",
              "      <td>EMERGENCY ROOM ADMIT</td>\n",
              "      <td>HOME</td>\n",
              "      <td>Private</td>\n",
              "      <td>WHITE</td>\n",
              "      <td>3</td>\n",
              "      <td>0</td>\n",
              "    </tr>\n",
              "  </tbody>\n",
              "</table>\n",
              "</div>"
            ],
            "text/plain": [
              "   HADM_ID ADMISSION_TYPE                                          DIAGNOSIS  \\\n",
              "0   165315      EMERGENCY                            BENZODIAZEPINE OVERDOSE   \n",
              "1   152223       ELECTIVE  CORONARY ARTERY DISEASE\\CORONARY ARTERY BYPASS...   \n",
              "2   124321      EMERGENCY                                         BRAIN MASS   \n",
              "3   161859      EMERGENCY                     INTERIOR MYOCARDIAL INFARCTION   \n",
              "4   129635      EMERGENCY                            ACUTE CORONARY SYNDROME   \n",
              "\n",
              "          ADMISSION_LOCATION         DISCHARGE_LOCATION INSURANCE ETHNICITY  \\\n",
              "0       EMERGENCY ROOM ADMIT  DISC-TRAN CANCER/CHLDRN H   Private     WHITE   \n",
              "1  PHYS REFERRAL/NORMAL DELI           HOME HEALTH CARE  Medicare     WHITE   \n",
              "2  TRANSFER FROM HOSP/EXTRAM           HOME HEALTH CARE  Medicare     WHITE   \n",
              "3  TRANSFER FROM HOSP/EXTRAM                       HOME   Private     WHITE   \n",
              "4       EMERGENCY ROOM ADMIT                       HOME   Private     WHITE   \n",
              "\n",
              "   length_of_stay  heart_failure  \n",
              "0               1              0  \n",
              "1               5              0  \n",
              "2               6              0  \n",
              "3               2              0  \n",
              "4               3              0  "
            ]
          },
          "execution_count": 15,
          "metadata": {},
          "output_type": "execute_result"
        }
      ],
      "source": [
        "# merging data in a single dataframe\n",
        "mimic_hf = pd.merge(adms, diags, on=['HADM_ID'], how='inner')\n",
        "mimic_hf.head()"
      ]
    },
    {
      "cell_type": "code",
      "execution_count": 16,
      "metadata": {
        "colab": {
          "base_uri": "https://localhost:8080/"
        },
        "id": "l5tiuH5EWTm1",
        "outputId": "1f23db62-e4b0-4e37-937c-4dd3e92f1cfc"
      },
      "outputs": [
        {
          "name": "stdout",
          "output_type": "stream",
          "text": [
            "\n",
            "Frequencies of heart failure (1 = prevalence in an encounter; 0 = non-prevalence):\n",
            "heart_failure\n",
            "0    43769\n",
            "1    15207\n",
            "Name: count, dtype: int64)\n"
          ]
        }
      ],
      "source": [
        "heart_failure_frequencies = mimic_hf['heart_failure'].value_counts()\n",
        "print(f\"\\nFrequencies of heart failure (1 = prevalence in an encounter; 0 = non-prevalence):\\n{heart_failure_frequencies})\")"
      ]
    },
    {
      "cell_type": "code",
      "execution_count": 17,
      "metadata": {
        "colab": {
          "base_uri": "https://localhost:8080/",
          "height": 472
        },
        "id": "uVpmdCzJOOG7",
        "outputId": "6a73a281-1dae-4706-a37f-60ea7491f41c"
      },
      "outputs": [
        {
          "data": {
            "image/png": "[encoded data removed]",
            "text/plain": [
              "<Figure size 640x480 with 1 Axes>"
            ]
          },
          "metadata": {},
          "output_type": "display_data"
        }
      ],
      "source": [
        "# visualizing the classes\n",
        "import matplotlib.pyplot as plt\n",
        "\n",
        "# hf percentages in dataset\n",
        "total = sum(heart_failure_frequencies)\n",
        "percentages = (heart_failure_frequencies / total) * 100\n",
        "\n",
        "# hf value counts\n",
        "ax = heart_failure_frequencies.plot(kind='bar', color='black')\n",
        "plt.title('Heart failure frequencies')\n",
        "plt.xlabel('Heart failure ocurrence')\n",
        "plt.ylabel('Count')\n",
        "plt.xticks(rotation=0)\n",
        "\n",
        "# annotating bars\n",
        "for idx, rect in enumerate(ax.patches):\n",
        "    height = rect.get_height()\n",
        "    ax.text(rect.get_x() + rect.get_width()/2., height + 5,\n",
        "            '{:.1f}%'.format(percentages[idx]),\n",
        "            ha='center', va='bottom', color='black')\n",
        "\n",
        "plt.show()"
      ]
    },
    {
      "cell_type": "code",
      "execution_count": 18,
      "metadata": {},
      "outputs": [
        {
          "data": {
            "text/plain": [
              "tensor([2.8782])"
            ]
          },
          "execution_count": 18,
          "metadata": {},
          "output_type": "execute_result"
        }
      ],
      "source": [
        "# [for optional weighted loss] calculating pos_weight based on heart_failure_frequencies\n",
        "import torch \n",
        "\n",
        "non_hf_frequency = heart_failure_frequencies[0]\n",
        "hf_frequency = heart_failure_frequencies[1]\n",
        "\n",
        "pos_weight = torch.tensor([non_hf_frequency / hf_frequency], dtype=torch.float32)\n",
        "pos_weight"
      ]
    },
    {
      "cell_type": "code",
      "execution_count": 19,
      "metadata": {
        "colab": {
          "base_uri": "https://localhost:8080/"
        },
        "id": "wQusCHPafgv7",
        "outputId": "364ad26b-803a-46d8-d72a-9407e49b2886"
      },
      "outputs": [
        {
          "data": {
            "text/plain": [
              "(58976, 9)"
            ]
          },
          "execution_count": 19,
          "metadata": {},
          "output_type": "execute_result"
        }
      ],
      "source": [
        "mimic_hf.shape"
      ]
    },
    {
      "cell_type": "code",
      "execution_count": 20,
      "metadata": {
        "colab": {
          "base_uri": "https://localhost:8080/"
        },
        "id": "UDcswt_snMKc",
        "outputId": "3c6ceb86-0f29-4970-991e-b5a1c1588e7b"
      },
      "outputs": [
        {
          "data": {
            "text/html": [
              "<div>\n",
              "<style scoped>\n",
              "    .dataframe tbody tr th:only-of-type {\n",
              "        vertical-align: middle;\n",
              "    }\n",
              "\n",
              "    .dataframe tbody tr th {\n",
              "        vertical-align: top;\n",
              "    }\n",
              "\n",
              "    .dataframe thead th {\n",
              "        text-align: right;\n",
              "    }\n",
              "</style>\n",
              "<table border=\"1\" class=\"dataframe\">\n",
              "  <thead>\n",
              "    <tr style=\"text-align: right;\">\n",
              "      <th></th>\n",
              "      <th>HADM_ID</th>\n",
              "      <th>ADMISSION_TYPE</th>\n",
              "      <th>DIAGNOSIS</th>\n",
              "      <th>ADMISSION_LOCATION</th>\n",
              "      <th>DISCHARGE_LOCATION</th>\n",
              "      <th>INSURANCE</th>\n",
              "      <th>ETHNICITY</th>\n",
              "      <th>length_of_stay</th>\n",
              "      <th>heart_failure</th>\n",
              "    </tr>\n",
              "  </thead>\n",
              "  <tbody>\n",
              "    <tr>\n",
              "      <th>0</th>\n",
              "      <td>165315</td>\n",
              "      <td>EMERGENCY</td>\n",
              "      <td>BENZODIAZEPINE OVERDOSE</td>\n",
              "      <td>EMERGENCY ROOM ADMIT</td>\n",
              "      <td>DISC-TRAN CANCER/CHLDRN H</td>\n",
              "      <td>Private</td>\n",
              "      <td>WHITE</td>\n",
              "      <td>-0.691485</td>\n",
              "      <td>0</td>\n",
              "    </tr>\n",
              "    <tr>\n",
              "      <th>1</th>\n",
              "      <td>152223</td>\n",
              "      <td>ELECTIVE</td>\n",
              "      <td>CORONARY ARTERY DISEASE\\CORONARY ARTERY BYPASS...</td>\n",
              "      <td>PHYS REFERRAL/NORMAL DELI</td>\n",
              "      <td>HOME HEALTH CARE</td>\n",
              "      <td>Medicare</td>\n",
              "      <td>WHITE</td>\n",
              "      <td>-0.370263</td>\n",
              "      <td>0</td>\n",
              "    </tr>\n",
              "    <tr>\n",
              "      <th>2</th>\n",
              "      <td>124321</td>\n",
              "      <td>EMERGENCY</td>\n",
              "      <td>BRAIN MASS</td>\n",
              "      <td>TRANSFER FROM HOSP/EXTRAM</td>\n",
              "      <td>HOME HEALTH CARE</td>\n",
              "      <td>Medicare</td>\n",
              "      <td>WHITE</td>\n",
              "      <td>-0.289957</td>\n",
              "      <td>0</td>\n",
              "    </tr>\n",
              "    <tr>\n",
              "      <th>3</th>\n",
              "      <td>161859</td>\n",
              "      <td>EMERGENCY</td>\n",
              "      <td>INTERIOR MYOCARDIAL INFARCTION</td>\n",
              "      <td>TRANSFER FROM HOSP/EXTRAM</td>\n",
              "      <td>HOME</td>\n",
              "      <td>Private</td>\n",
              "      <td>WHITE</td>\n",
              "      <td>-0.611179</td>\n",
              "      <td>0</td>\n",
              "    </tr>\n",
              "    <tr>\n",
              "      <th>4</th>\n",
              "      <td>129635</td>\n",
              "      <td>EMERGENCY</td>\n",
              "      <td>ACUTE CORONARY SYNDROME</td>\n",
              "      <td>EMERGENCY ROOM ADMIT</td>\n",
              "      <td>HOME</td>\n",
              "      <td>Private</td>\n",
              "      <td>WHITE</td>\n",
              "      <td>-0.530874</td>\n",
              "      <td>0</td>\n",
              "    </tr>\n",
              "  </tbody>\n",
              "</table>\n",
              "</div>"
            ],
            "text/plain": [
              "   HADM_ID ADMISSION_TYPE                                          DIAGNOSIS  \\\n",
              "0   165315      EMERGENCY                            BENZODIAZEPINE OVERDOSE   \n",
              "1   152223       ELECTIVE  CORONARY ARTERY DISEASE\\CORONARY ARTERY BYPASS...   \n",
              "2   124321      EMERGENCY                                         BRAIN MASS   \n",
              "3   161859      EMERGENCY                     INTERIOR MYOCARDIAL INFARCTION   \n",
              "4   129635      EMERGENCY                            ACUTE CORONARY SYNDROME   \n",
              "\n",
              "          ADMISSION_LOCATION         DISCHARGE_LOCATION INSURANCE ETHNICITY  \\\n",
              "0       EMERGENCY ROOM ADMIT  DISC-TRAN CANCER/CHLDRN H   Private     WHITE   \n",
              "1  PHYS REFERRAL/NORMAL DELI           HOME HEALTH CARE  Medicare     WHITE   \n",
              "2  TRANSFER FROM HOSP/EXTRAM           HOME HEALTH CARE  Medicare     WHITE   \n",
              "3  TRANSFER FROM HOSP/EXTRAM                       HOME   Private     WHITE   \n",
              "4       EMERGENCY ROOM ADMIT                       HOME   Private     WHITE   \n",
              "\n",
              "   length_of_stay  heart_failure  \n",
              "0       -0.691485              0  \n",
              "1       -0.370263              0  \n",
              "2       -0.289957              0  \n",
              "3       -0.611179              0  \n",
              "4       -0.530874              0  "
            ]
          },
          "execution_count": 20,
          "metadata": {},
          "output_type": "execute_result"
        }
      ],
      "source": [
        "from sklearn.preprocessing import StandardScaler\n",
        "scaler = StandardScaler()\n",
        "\n",
        "# scaling numerical length_of_stay column\n",
        "mimic_hf['length_of_stay_scaled'] = scaler.fit_transform(mimic_hf[['length_of_stay']])\n",
        "\n",
        "# replacing the original length_of_stay column with the scaled values\n",
        "mimic_hf['length_of_stay'] = mimic_hf['length_of_stay_scaled']\n",
        "\n",
        "# dropping length_of_stay_scaled column\n",
        "mimic_hf = mimic_hf.drop('length_of_stay_scaled', axis=1)\n",
        "mimic_hf.head()"
      ]
    },
    {
      "cell_type": "code",
      "execution_count": 1,
      "metadata": {},
      "outputs": [
        {
          "name": "stdout",
          "output_type": "stream",
          "text": [
            "\n",
            "Missing values in mimic_hf:\n"
          ]
        },
        {
          "ename": "NameError",
          "evalue": "name 'mimic_hf' is not defined",
          "output_type": "error",
          "traceback": [
            "\u001b[1;31m---------------------------------------------------------------------------\u001b[0m",
            "\u001b[1;31mNameError\u001b[0m                                 Traceback (most recent call last)",
            "Cell \u001b[1;32mIn[1], line 2\u001b[0m\n\u001b[0;32m      1\u001b[0m \u001b[39mprint\u001b[39m(\u001b[39m\"\u001b[39m\u001b[39m\\n\u001b[39;00m\u001b[39mMissing values in mimic_hf:\u001b[39m\u001b[39m\"\u001b[39m)\n\u001b[1;32m----> 2\u001b[0m \u001b[39mprint\u001b[39m(mimic_hf\u001b[39m.\u001b[39misnull()\u001b[39m.\u001b[39msum())\n",
            "\u001b[1;31mNameError\u001b[0m: name 'mimic_hf' is not defined"
          ]
        }
      ],
      "source": [
        "print(\"\\nMissing values in mimic_hf:\")\n",
        "print(mimic_hf.isnull().sum())"
      ]
    },
    {
      "cell_type": "code",
      "execution_count": 22,
      "metadata": {},
      "outputs": [],
      "source": [
        "mimic_hf = mimic_hf.dropna(subset=['DIAGNOSIS']) # dropping entries that have missing values for diagnosis (not that many)"
      ]
    },
    {
      "cell_type": "code",
      "execution_count": 23,
      "metadata": {},
      "outputs": [
        {
          "name": "stdout",
          "output_type": "stream",
          "text": [
            "\n",
            "Missing values in mimic_hf:\n",
            "HADM_ID               0\n",
            "ADMISSION_TYPE        0\n",
            "DIAGNOSIS             0\n",
            "ADMISSION_LOCATION    0\n",
            "DISCHARGE_LOCATION    0\n",
            "INSURANCE             0\n",
            "ETHNICITY             0\n",
            "length_of_stay        0\n",
            "heart_failure         0\n",
            "dtype: int64\n"
          ]
        }
      ],
      "source": [
        "# check for missing values, there shouldnt be any now\n",
        "print(\"\\nMissing values in mimic_hf:\")\n",
        "print(mimic_hf.isnull().sum())"
      ]
    },
    {
      "cell_type": "markdown",
      "metadata": {},
      "source": [
        "### Feature analysis"
      ]
    },
    {
      "cell_type": "code",
      "execution_count": 24,
      "metadata": {},
      "outputs": [
        {
          "data": {
            "image/png": "[encoded data removed]",
            "text/plain": [
              "<Figure size 1200x600 with 1 Axes>"
            ]
          },
          "metadata": {},
          "output_type": "display_data"
        }
      ],
      "source": [
        "from sklearn.preprocessing import LabelEncoder\n",
        "from sklearn.ensemble import RandomForestClassifier\n",
        "from sklearn.feature_selection import mutual_info_classif\n",
        "import matplotlib.pyplot as plt\n",
        "\n",
        "# label encoding for categoricals\n",
        "label_encoders = {}\n",
        "categorical_columns = ['ADMISSION_TYPE', 'DIAGNOSIS', 'ADMISSION_LOCATION', 'DISCHARGE_LOCATION', 'INSURANCE', 'ETHNICITY']\n",
        "\n",
        "for col in categorical_columns:\n",
        "    le = LabelEncoder()\n",
        "    mimic_hf[col] = le.fit_transform(mimic_hf[col])\n",
        "    label_encoders[col] = le\n",
        "\n",
        "# feature importance analysis w random forest\n",
        "X = mimic_hf.drop(columns=['HADM_ID', 'heart_failure'])\n",
        "y = mimic_hf['heart_failure']\n",
        "\n",
        "clf = RandomForestClassifier()\n",
        "clf.fit(X, y)\n",
        "importances_rf = clf.feature_importances_\n",
        "\n",
        "# feature importance analysis w mutual information\n",
        "mi = mutual_info_classif(X, y)\n",
        "\n",
        "# visualizing feature importance, in terms of heart_failure column\n",
        "features = X.columns\n",
        "\n",
        "plt.figure(figsize=(12, 6))\n",
        "plt.bar(features, importances_rf, label=\"Random Forest\", alpha=0.6)\n",
        "plt.bar(features, mi, label=\"Mutual Information\", alpha=0.6)\n",
        "plt.ylabel(\"Importance\")\n",
        "plt.xlabel(\"Features\")\n",
        "plt.title(\"Feature Importance Comparison\")\n",
        "plt.xticks(rotation=45)\n",
        "plt.legend()\n",
        "plt.show()\n"
      ]
    },
    {
      "cell_type": "markdown",
      "metadata": {},
      "source": [
        "### Preprocessing"
      ]
    },
    {
      "cell_type": "code",
      "execution_count": 25,
      "metadata": {
        "colab": {
          "base_uri": "https://localhost:8080/",
          "height": 317
        },
        "id": "l93wc64Cmq1r",
        "outputId": "330638eb-5861-44bd-98ed-9beee4e44659"
      },
      "outputs": [
        {
          "data": {
            "text/html": [
              "<div>\n",
              "<style scoped>\n",
              "    .dataframe tbody tr th:only-of-type {\n",
              "        vertical-align: middle;\n",
              "    }\n",
              "\n",
              "    .dataframe tbody tr th {\n",
              "        vertical-align: top;\n",
              "    }\n",
              "\n",
              "    .dataframe thead th {\n",
              "        text-align: right;\n",
              "    }\n",
              "</style>\n",
              "<table border=\"1\" class=\"dataframe\">\n",
              "  <thead>\n",
              "    <tr style=\"text-align: right;\">\n",
              "      <th></th>\n",
              "      <th>HADM_ID</th>\n",
              "      <th>length_of_stay</th>\n",
              "      <th>heart_failure</th>\n",
              "      <th>ADMISSION_TYPE_0</th>\n",
              "      <th>ADMISSION_TYPE_1</th>\n",
              "      <th>ADMISSION_TYPE_2</th>\n",
              "      <th>ADMISSION_TYPE_3</th>\n",
              "      <th>DIAGNOSIS_0</th>\n",
              "      <th>DIAGNOSIS_1</th>\n",
              "      <th>DIAGNOSIS_2</th>\n",
              "      <th>...</th>\n",
              "      <th>ETHNICITY_31</th>\n",
              "      <th>ETHNICITY_32</th>\n",
              "      <th>ETHNICITY_33</th>\n",
              "      <th>ETHNICITY_34</th>\n",
              "      <th>ETHNICITY_35</th>\n",
              "      <th>ETHNICITY_36</th>\n",
              "      <th>ETHNICITY_37</th>\n",
              "      <th>ETHNICITY_38</th>\n",
              "      <th>ETHNICITY_39</th>\n",
              "      <th>ETHNICITY_40</th>\n",
              "    </tr>\n",
              "  </thead>\n",
              "  <tbody>\n",
              "    <tr>\n",
              "      <th>0</th>\n",
              "      <td>165315</td>\n",
              "      <td>-0.691485</td>\n",
              "      <td>0</td>\n",
              "      <td>0</td>\n",
              "      <td>1</td>\n",
              "      <td>0</td>\n",
              "      <td>0</td>\n",
              "      <td>0</td>\n",
              "      <td>0</td>\n",
              "      <td>0</td>\n",
              "      <td>...</td>\n",
              "      <td>0</td>\n",
              "      <td>0</td>\n",
              "      <td>0</td>\n",
              "      <td>0</td>\n",
              "      <td>0</td>\n",
              "      <td>1</td>\n",
              "      <td>0</td>\n",
              "      <td>0</td>\n",
              "      <td>0</td>\n",
              "      <td>0</td>\n",
              "    </tr>\n",
              "    <tr>\n",
              "      <th>1</th>\n",
              "      <td>152223</td>\n",
              "      <td>-0.370263</td>\n",
              "      <td>0</td>\n",
              "      <td>1</td>\n",
              "      <td>0</td>\n",
              "      <td>0</td>\n",
              "      <td>0</td>\n",
              "      <td>0</td>\n",
              "      <td>0</td>\n",
              "      <td>0</td>\n",
              "      <td>...</td>\n",
              "      <td>0</td>\n",
              "      <td>0</td>\n",
              "      <td>0</td>\n",
              "      <td>0</td>\n",
              "      <td>0</td>\n",
              "      <td>1</td>\n",
              "      <td>0</td>\n",
              "      <td>0</td>\n",
              "      <td>0</td>\n",
              "      <td>0</td>\n",
              "    </tr>\n",
              "    <tr>\n",
              "      <th>2</th>\n",
              "      <td>124321</td>\n",
              "      <td>-0.289957</td>\n",
              "      <td>0</td>\n",
              "      <td>0</td>\n",
              "      <td>1</td>\n",
              "      <td>0</td>\n",
              "      <td>0</td>\n",
              "      <td>0</td>\n",
              "      <td>0</td>\n",
              "      <td>0</td>\n",
              "      <td>...</td>\n",
              "      <td>0</td>\n",
              "      <td>0</td>\n",
              "      <td>0</td>\n",
              "      <td>0</td>\n",
              "      <td>0</td>\n",
              "      <td>1</td>\n",
              "      <td>0</td>\n",
              "      <td>0</td>\n",
              "      <td>0</td>\n",
              "      <td>0</td>\n",
              "    </tr>\n",
              "    <tr>\n",
              "      <th>3</th>\n",
              "      <td>161859</td>\n",
              "      <td>-0.611179</td>\n",
              "      <td>0</td>\n",
              "      <td>0</td>\n",
              "      <td>1</td>\n",
              "      <td>0</td>\n",
              "      <td>0</td>\n",
              "      <td>0</td>\n",
              "      <td>0</td>\n",
              "      <td>0</td>\n",
              "      <td>...</td>\n",
              "      <td>0</td>\n",
              "      <td>0</td>\n",
              "      <td>0</td>\n",
              "      <td>0</td>\n",
              "      <td>0</td>\n",
              "      <td>1</td>\n",
              "      <td>0</td>\n",
              "      <td>0</td>\n",
              "      <td>0</td>\n",
              "      <td>0</td>\n",
              "    </tr>\n",
              "    <tr>\n",
              "      <th>4</th>\n",
              "      <td>129635</td>\n",
              "      <td>-0.530874</td>\n",
              "      <td>0</td>\n",
              "      <td>0</td>\n",
              "      <td>1</td>\n",
              "      <td>0</td>\n",
              "      <td>0</td>\n",
              "      <td>0</td>\n",
              "      <td>0</td>\n",
              "      <td>0</td>\n",
              "      <td>...</td>\n",
              "      <td>0</td>\n",
              "      <td>0</td>\n",
              "      <td>0</td>\n",
              "      <td>0</td>\n",
              "      <td>0</td>\n",
              "      <td>1</td>\n",
              "      <td>0</td>\n",
              "      <td>0</td>\n",
              "      <td>0</td>\n",
              "      <td>0</td>\n",
              "    </tr>\n",
              "  </tbody>\n",
              "</table>\n",
              "<p>5 rows × 15774 columns</p>\n",
              "</div>"
            ],
            "text/plain": [
              "   HADM_ID  length_of_stay  heart_failure  ADMISSION_TYPE_0  ADMISSION_TYPE_1  \\\n",
              "0   165315       -0.691485              0                 0                 1   \n",
              "1   152223       -0.370263              0                 1                 0   \n",
              "2   124321       -0.289957              0                 0                 1   \n",
              "3   161859       -0.611179              0                 0                 1   \n",
              "4   129635       -0.530874              0                 0                 1   \n",
              "\n",
              "   ADMISSION_TYPE_2  ADMISSION_TYPE_3  DIAGNOSIS_0  DIAGNOSIS_1  DIAGNOSIS_2  \\\n",
              "0                 0                 0            0            0            0   \n",
              "1                 0                 0            0            0            0   \n",
              "2                 0                 0            0            0            0   \n",
              "3                 0                 0            0            0            0   \n",
              "4                 0                 0            0            0            0   \n",
              "\n",
              "   ...  ETHNICITY_31  ETHNICITY_32  ETHNICITY_33  ETHNICITY_34  ETHNICITY_35  \\\n",
              "0  ...             0             0             0             0             0   \n",
              "1  ...             0             0             0             0             0   \n",
              "2  ...             0             0             0             0             0   \n",
              "3  ...             0             0             0             0             0   \n",
              "4  ...             0             0             0             0             0   \n",
              "\n",
              "   ETHNICITY_36  ETHNICITY_37  ETHNICITY_38  ETHNICITY_39  ETHNICITY_40  \n",
              "0             1             0             0             0             0  \n",
              "1             1             0             0             0             0  \n",
              "2             1             0             0             0             0  \n",
              "3             1             0             0             0             0  \n",
              "4             1             0             0             0             0  \n",
              "\n",
              "[5 rows x 15774 columns]"
            ]
          },
          "execution_count": 25,
          "metadata": {},
          "output_type": "execute_result"
        }
      ],
      "source": [
        "# transforming categorical data into one-hot\n",
        "categorical = ['ADMISSION_TYPE', 'DIAGNOSIS', 'ADMISSION_TYPE', 'ADMISSION_LOCATION', 'DISCHARGE_LOCATION', 'INSURANCE', 'ETHNICITY']\n",
        "mimic_hf = pd.get_dummies(mimic_hf, columns=categorical)\n",
        "mimic_hf = mimic_hf * 1\n",
        "mimic_hf.head()"
      ]
    },
    {
      "cell_type": "code",
      "execution_count": 26,
      "metadata": {
        "id": "D4id3QnYoEz_"
      },
      "outputs": [],
      "source": [
        "from sklearn.model_selection import train_test_split\n",
        "X = mimic_hf.drop(columns=['heart_failure'])\n",
        "y = mimic_hf['heart_failure']"
      ]
    },
    {
      "cell_type": "code",
      "execution_count": 27,
      "metadata": {
        "colab": {
          "base_uri": "https://localhost:8080/"
        },
        "id": "3BmK5-0LoR38",
        "outputId": "ae925bf9-97ce-4220-ace8-4173c6cc6457"
      },
      "outputs": [
        {
          "data": {
            "text/plain": [
              "(58951, 58951)"
            ]
          },
          "execution_count": 27,
          "metadata": {},
          "output_type": "execute_result"
        }
      ],
      "source": [
        "len(X), len(y) # no. samples"
      ]
    },
    {
      "cell_type": "code",
      "execution_count": 28,
      "metadata": {
        "colab": {
          "base_uri": "https://localhost:8080/"
        },
        "id": "RXEO-gLjoTlq",
        "outputId": "f5f28bff-459c-4011-bc03-e2c3d9762f47"
      },
      "outputs": [
        {
          "name": "stdout",
          "output_type": "stream",
          "text": [
            "First 5 samples of X:    HADM_ID  length_of_stay  ADMISSION_TYPE_0  ADMISSION_TYPE_1  \\\n",
            "0   165315       -0.691485                 0                 1   \n",
            "1   152223       -0.370263                 1                 0   \n",
            "2   124321       -0.289957                 0                 1   \n",
            "3   161859       -0.611179                 0                 1   \n",
            "4   129635       -0.530874                 0                 1   \n",
            "\n",
            "   ADMISSION_TYPE_2  ADMISSION_TYPE_3  DIAGNOSIS_0  DIAGNOSIS_1  DIAGNOSIS_2  \\\n",
            "0                 0                 0            0            0            0   \n",
            "1                 0                 0            0            0            0   \n",
            "2                 0                 0            0            0            0   \n",
            "3                 0                 0            0            0            0   \n",
            "4                 0                 0            0            0            0   \n",
            "\n",
            "   DIAGNOSIS_3  ...  ETHNICITY_31  ETHNICITY_32  ETHNICITY_33  ETHNICITY_34  \\\n",
            "0            0  ...             0             0             0             0   \n",
            "1            0  ...             0             0             0             0   \n",
            "2            0  ...             0             0             0             0   \n",
            "3            0  ...             0             0             0             0   \n",
            "4            0  ...             0             0             0             0   \n",
            "\n",
            "   ETHNICITY_35  ETHNICITY_36  ETHNICITY_37  ETHNICITY_38  ETHNICITY_39  \\\n",
            "0             0             1             0             0             0   \n",
            "1             0             1             0             0             0   \n",
            "2             0             1             0             0             0   \n",
            "3             0             1             0             0             0   \n",
            "4             0             1             0             0             0   \n",
            "\n",
            "   ETHNICITY_40  \n",
            "0             0  \n",
            "1             0  \n",
            "2             0  \n",
            "3             0  \n",
            "4             0  \n",
            "\n",
            "[5 rows x 15773 columns]\n",
            "First 5 samples of Y: 0    0\n",
            "1    0\n",
            "2    0\n",
            "3    0\n",
            "4    0\n",
            "Name: heart_failure, dtype: int32\n"
          ]
        }
      ],
      "source": [
        "print(f\"First 5 samples of X: {X[:5]}\")\n",
        "print(f\"First 5 samples of Y: {y[:5]}\")"
      ]
    },
    {
      "cell_type": "code",
      "execution_count": 29,
      "metadata": {
        "colab": {
          "base_uri": "https://localhost:8080/"
        },
        "id": "T-pKuAH3oUw7",
        "outputId": "d5e7b5f2-7f83-4fe0-bb32-aaa3c7d9c325"
      },
      "outputs": [
        {
          "name": "stdout",
          "output_type": "stream",
          "text": [
            "Number of features in X: 15773\n"
          ]
        }
      ],
      "source": [
        "num_features = X.shape[1]\n",
        "print(f\"Number of features in X: {num_features}\")"
      ]
    },
    {
      "cell_type": "code",
      "execution_count": 30,
      "metadata": {
        "colab": {
          "base_uri": "https://localhost:8080/"
        },
        "id": "2REbkQOTo70W",
        "outputId": "e690273b-a856-4c7a-ece4-0208f559b09a"
      },
      "outputs": [
        {
          "data": {
            "text/plain": [
              "((58951, 15773), (58951,))"
            ]
          },
          "execution_count": 30,
          "metadata": {},
          "output_type": "execute_result"
        }
      ],
      "source": [
        "X.shape, y.shape"
      ]
    },
    {
      "cell_type": "code",
      "execution_count": 31,
      "metadata": {
        "colab": {
          "base_uri": "https://localhost:8080/",
          "height": 35
        },
        "id": "fwebR-DlpC6X",
        "outputId": "237b5df8-6e11-4c1c-ab04-cc262ba16be4"
      },
      "outputs": [
        {
          "data": {
            "text/plain": [
              "'2.0.1+cpu'"
            ]
          },
          "execution_count": 31,
          "metadata": {},
          "output_type": "execute_result"
        }
      ],
      "source": [
        "import torch\n",
        "torch.__version__"
      ]
    },
    {
      "cell_type": "code",
      "execution_count": 32,
      "metadata": {
        "colab": {
          "base_uri": "https://localhost:8080/"
        },
        "id": "EiRarydypFFB",
        "outputId": "b6081c7e-e524-4c76-950a-eadb17485a73"
      },
      "outputs": [
        {
          "data": {
            "text/plain": [
              "' print(type(X), X.dtype)\\nprint(type(y), X.dtype)\\n '"
            ]
          },
          "execution_count": 32,
          "metadata": {},
          "output_type": "execute_result"
        }
      ],
      "source": [
        "\"\"\" print(type(X), X.dtype)\n",
        "print(type(y), X.dtype)\n",
        " \"\"\""
      ]
    },
    {
      "cell_type": "code",
      "execution_count": 33,
      "metadata": {},
      "outputs": [],
      "source": [
        "X_train, X_test, y_train, y_test = train_test_split(X, y, test_size=0.2, random_state=22)"
      ]
    },
    {
      "cell_type": "code",
      "execution_count": 34,
      "metadata": {
        "colab": {
          "base_uri": "https://localhost:8080/"
        },
        "id": "LNFb8Qsrq57W",
        "outputId": "76d3e3e2-cd18-40d3-cdd4-9382fa8d26b9"
      },
      "outputs": [
        {
          "data": {
            "text/plain": [
              "(47160, 11791, 47160, 11791)"
            ]
          },
          "execution_count": 34,
          "metadata": {},
          "output_type": "execute_result"
        }
      ],
      "source": [
        "len(X_train), len(X_test), len(y_train), len(y_test)\n"
      ]
    },
    {
      "cell_type": "markdown",
      "metadata": {},
      "source": [
        "## Training"
      ]
    },
    {
      "cell_type": "code",
      "execution_count": 35,
      "metadata": {
        "colab": {
          "base_uri": "https://localhost:8080/"
        },
        "id": "c0s3D-19pG62",
        "outputId": "3128922d-45bf-4308-9187-c9378adbe04a"
      },
      "outputs": [
        {
          "ename": "MemoryError",
          "evalue": "Unable to allocate 5.54 GiB for an array with shape (15773, 47160) and data type float64",
          "output_type": "error",
          "traceback": [
            "\u001b[1;31m---------------------------------------------------------------------------\u001b[0m",
            "\u001b[1;31mMemoryError\u001b[0m                               Traceback (most recent call last)",
            "Cell \u001b[1;32mIn[35], line 2\u001b[0m\n\u001b[0;32m      1\u001b[0m \u001b[39m# convert data to tensors\u001b[39;00m\n\u001b[1;32m----> 2\u001b[0m X_train_tensor \u001b[39m=\u001b[39m torch\u001b[39m.\u001b[39mtensor(X_train\u001b[39m.\u001b[39;49mvalues, dtype\u001b[39m=\u001b[39mtorch\u001b[39m.\u001b[39mfloat32)\n\u001b[0;32m      3\u001b[0m y_train_tensor \u001b[39m=\u001b[39m torch\u001b[39m.\u001b[39mtensor(y_train\u001b[39m.\u001b[39mvalues, dtype\u001b[39m=\u001b[39mtorch\u001b[39m.\u001b[39mfloat32)\u001b[39m.\u001b[39munsqueeze(\u001b[39m1\u001b[39m)  \u001b[39m# extra dim for the label\u001b[39;00m\n\u001b[0;32m      5\u001b[0m X_test_tensor \u001b[39m=\u001b[39m torch\u001b[39m.\u001b[39mtensor(X_test\u001b[39m.\u001b[39mvalues, dtype\u001b[39m=\u001b[39mtorch\u001b[39m.\u001b[39mfloat32)\n",
            "File \u001b[1;32mc:\\Users\\heloi\\Desktop\\repos\\hf-mlp\\venv\\lib\\site-packages\\pandas\\core\\frame.py:11360\u001b[0m, in \u001b[0;36mDataFrame.values\u001b[1;34m(self)\u001b[0m\n\u001b[0;32m  11286\u001b[0m \u001b[39m@property\u001b[39m\n\u001b[0;32m  11287\u001b[0m \u001b[39mdef\u001b[39;00m \u001b[39mvalues\u001b[39m(\u001b[39mself\u001b[39m) \u001b[39m-\u001b[39m\u001b[39m>\u001b[39m np\u001b[39m.\u001b[39mndarray:\n\u001b[0;32m  11288\u001b[0m \u001b[39m    \u001b[39m\u001b[39m\"\"\"\u001b[39;00m\n\u001b[0;32m  11289\u001b[0m \u001b[39m    Return a Numpy representation of the DataFrame.\u001b[39;00m\n\u001b[0;32m  11290\u001b[0m \n\u001b[1;32m   (...)\u001b[0m\n\u001b[0;32m  11358\u001b[0m \u001b[39m           ['monkey', nan, None]], dtype=object)\u001b[39;00m\n\u001b[0;32m  11359\u001b[0m \u001b[39m    \"\"\"\u001b[39;00m\n\u001b[1;32m> 11360\u001b[0m     \u001b[39mreturn\u001b[39;00m \u001b[39mself\u001b[39;49m\u001b[39m.\u001b[39;49m_mgr\u001b[39m.\u001b[39;49mas_array()\n",
            "File \u001b[1;32mc:\\Users\\heloi\\Desktop\\repos\\hf-mlp\\venv\\lib\\site-packages\\pandas\\core\\internals\\managers.py:1732\u001b[0m, in \u001b[0;36mBlockManager.as_array\u001b[1;34m(self, dtype, copy, na_value)\u001b[0m\n\u001b[0;32m   1730\u001b[0m         arr\u001b[39m.\u001b[39mflags\u001b[39m.\u001b[39mwriteable \u001b[39m=\u001b[39m \u001b[39mFalse\u001b[39;00m\n\u001b[0;32m   1731\u001b[0m \u001b[39melse\u001b[39;00m:\n\u001b[1;32m-> 1732\u001b[0m     arr \u001b[39m=\u001b[39m \u001b[39mself\u001b[39;49m\u001b[39m.\u001b[39;49m_interleave(dtype\u001b[39m=\u001b[39;49mdtype, na_value\u001b[39m=\u001b[39;49mna_value)\n\u001b[0;32m   1733\u001b[0m     \u001b[39m# The underlying data was copied within _interleave, so no need\u001b[39;00m\n\u001b[0;32m   1734\u001b[0m     \u001b[39m# to further copy if copy=True or setting na_value\u001b[39;00m\n\u001b[0;32m   1736\u001b[0m \u001b[39mif\u001b[39;00m na_value \u001b[39mis\u001b[39;00m \u001b[39mnot\u001b[39;00m lib\u001b[39m.\u001b[39mno_default:\n",
            "File \u001b[1;32mc:\\Users\\heloi\\Desktop\\repos\\hf-mlp\\venv\\lib\\site-packages\\pandas\\core\\internals\\managers.py:1768\u001b[0m, in \u001b[0;36mBlockManager._interleave\u001b[1;34m(self, dtype, na_value)\u001b[0m\n\u001b[0;32m   1765\u001b[0m \u001b[39melif\u001b[39;00m is_dtype_equal(dtype, \u001b[39mstr\u001b[39m):\n\u001b[0;32m   1766\u001b[0m     dtype \u001b[39m=\u001b[39m np\u001b[39m.\u001b[39mdtype(\u001b[39m\"\u001b[39m\u001b[39mobject\u001b[39m\u001b[39m\"\u001b[39m)\n\u001b[1;32m-> 1768\u001b[0m result \u001b[39m=\u001b[39m np\u001b[39m.\u001b[39;49mempty(\u001b[39mself\u001b[39;49m\u001b[39m.\u001b[39;49mshape, dtype\u001b[39m=\u001b[39;49mdtype)\n\u001b[0;32m   1770\u001b[0m itemmask \u001b[39m=\u001b[39m np\u001b[39m.\u001b[39mzeros(\u001b[39mself\u001b[39m\u001b[39m.\u001b[39mshape[\u001b[39m0\u001b[39m])\n\u001b[0;32m   1772\u001b[0m \u001b[39mif\u001b[39;00m dtype \u001b[39m==\u001b[39m np\u001b[39m.\u001b[39mdtype(\u001b[39m\"\u001b[39m\u001b[39mobject\u001b[39m\u001b[39m\"\u001b[39m) \u001b[39mand\u001b[39;00m na_value \u001b[39mis\u001b[39;00m lib\u001b[39m.\u001b[39mno_default:\n\u001b[0;32m   1773\u001b[0m     \u001b[39m# much more performant than using to_numpy below\u001b[39;00m\n",
            "\u001b[1;31mMemoryError\u001b[0m: Unable to allocate 5.54 GiB for an array with shape (15773, 47160) and data type float64"
          ]
        }
      ],
      "source": [
        "# convert data to tensors\n",
        "X_train_tensor = torch.tensor(X_train.values, dtype=torch.float32)\n",
        "y_train_tensor = torch.tensor(y_train.values, dtype=torch.float32).unsqueeze(1)  # extra dim for the label\n",
        "\n",
        "X_test_tensor = torch.tensor(X_test.values, dtype=torch.float32)\n",
        "y_test_tensor = torch.tensor(y_test.values, dtype=torch.float32).unsqueeze(1)  # extra dim for the label\n"
      ]
    },
    {
      "cell_type": "code",
      "execution_count": null,
      "metadata": {},
      "outputs": [],
      "source": [
        "# creating custom dataset\n",
        "from torch.utils.data import Dataset, DataLoader\n",
        "\n",
        "class MIMICDataset(Dataset):\n",
        "    def __init__(self, X, y):\n",
        "        self.X = X\n",
        "        self.y = y\n",
        "\n",
        "    def __len__(self):\n",
        "        return len(self.X)\n",
        "\n",
        "    def __getitem__(self, idx):\n",
        "        return self.X[idx], self.y[idx]"
      ]
    },
    {
      "cell_type": "code",
      "execution_count": null,
      "metadata": {},
      "outputs": [],
      "source": [
        "# creating data loaders\n",
        "BATCH_SIZE = 32  \n",
        "\n",
        "train_dataset = MIMICDataset(X_train_tensor, y_train_tensor)\n",
        "train_loader = DataLoader(train_dataset, batch_size=BATCH_SIZE, shuffle=True)\n",
        "\n",
        "test_dataset = MIMICDataset(X_test_tensor, y_test_tensor)\n",
        "test_loader = DataLoader(test_dataset, batch_size=BATCH_SIZE, shuffle=False)"
      ]
    },
    {
      "cell_type": "code",
      "execution_count": null,
      "metadata": {},
      "outputs": [
        {
          "data": {
            "text/plain": [
              "(torch.Size([32, 6982]), torch.Size([32, 1]))"
            ]
          },
          "execution_count": 52,
          "metadata": {},
          "output_type": "execute_result"
        }
      ],
      "source": [
        "train_features_batch, train_labels_batch = next(iter(train_loader))\n",
        "train_features_batch.shape, train_labels_batch.shape # 32 batches with 6989 features; 32 batches with 1 feature (label)"
      ]
    },
    {
      "cell_type": "code",
      "execution_count": null,
      "metadata": {
        "colab": {
          "base_uri": "https://localhost:8080/",
          "height": 35
        },
        "id": "Taj73zACq-7N",
        "outputId": "15d90071-8e5b-4e81-ce31-055abf7e4c26"
      },
      "outputs": [
        {
          "data": {
            "text/plain": [
              "'cpu'"
            ]
          },
          "execution_count": 53,
          "metadata": {},
          "output_type": "execute_result"
        }
      ],
      "source": [
        "import torch\n",
        "from torch import nn\n",
        "\n",
        "device = \"cuda\" if torch.cuda.is_available() else \"cpu\"\n",
        "device"
      ]
    },
    {
      "cell_type": "code",
      "execution_count": null,
      "metadata": {
        "id": "1j7QcXLCrSWi"
      },
      "outputs": [],
      "source": [
        "class MLP_MIMIC_V0(nn.Module):\n",
        "  def __init__(self):\n",
        "    super().__init__()\n",
        "\n",
        "    self.layer_stack = nn.Sequential(\n",
        "    nn.Linear(in_features=6982, out_features=246),\n",
        "    nn.ReLU(),\n",
        "    nn.Linear(in_features=246, out_features=246),\n",
        "    nn.ReLU(),\n",
        "    nn.Linear(in_features=246, out_features=1))\n",
        "\n",
        "  def forward(self, x):\n",
        "    return self.layer_stack(x)\n",
        "\n",
        "model_0 = MLP_MIMIC_V0().to(device)"
      ]
    },
    {
      "cell_type": "code",
      "execution_count": null,
      "metadata": {
        "colab": {
          "base_uri": "https://localhost:8080/"
        },
        "id": "aqfYmXz_sA3Q",
        "outputId": "93ed4ac3-39e3-4124-90b5-b7da5b050d2b"
      },
      "outputs": [
        {
          "data": {
            "text/plain": [
              "OrderedDict([('layer_stack.0.weight',\n",
              "              tensor([[-2.2571e-03,  4.5418e-03,  2.9593e-03,  ...,  8.0916e-03,\n",
              "                        5.5424e-03,  2.3908e-04],\n",
              "                      [ 1.1755e-02, -8.7055e-04, -4.7095e-05,  ...,  6.5226e-03,\n",
              "                       -3.5955e-03, -3.9453e-03],\n",
              "                      [ 1.1442e-02,  8.7581e-03, -2.7364e-03,  ..., -6.3023e-03,\n",
              "                       -1.1028e-02,  8.4560e-03],\n",
              "                      ...,\n",
              "                      [ 3.5533e-04,  1.1110e-02, -8.9284e-03,  ...,  1.4281e-03,\n",
              "                       -3.5735e-03, -9.9069e-03],\n",
              "                      [ 9.5482e-03, -9.1822e-03,  1.4685e-03,  ...,  1.9274e-03,\n",
              "                        7.0596e-03, -3.6706e-03],\n",
              "                      [ 8.2408e-03, -5.1042e-03, -2.5936e-03,  ...,  3.9663e-03,\n",
              "                       -1.3665e-04,  8.3492e-03]])),\n",
              "             ('layer_stack.0.bias',\n",
              "              tensor([ 4.9522e-04, -6.1923e-03,  8.2187e-03, -1.0885e-02, -1.1279e-02,\n",
              "                       1.0288e-02,  8.8745e-04, -3.7580e-03, -6.5930e-03,  6.1969e-04,\n",
              "                       2.3860e-04,  1.1800e-02,  5.1128e-03, -1.5503e-03, -6.2196e-03,\n",
              "                       9.1140e-03,  6.2281e-03, -5.9792e-03,  4.1083e-03,  4.5463e-03,\n",
              "                       5.6298e-03, -6.3463e-03,  6.7122e-03,  2.8834e-03, -1.2210e-03,\n",
              "                      -4.9255e-03, -1.5695e-03, -1.1722e-02, -7.5512e-04, -8.1694e-04,\n",
              "                       3.6226e-03, -6.8930e-03,  5.4038e-03, -8.4130e-03,  3.7425e-03,\n",
              "                      -8.9718e-03,  7.7261e-03, -1.0697e-02, -7.0135e-03, -6.9663e-03,\n",
              "                       4.2637e-03, -2.0305e-03, -8.5495e-03,  9.0926e-03, -3.3529e-03,\n",
              "                       5.7241e-04,  6.8988e-03,  7.0863e-03, -3.9643e-04, -2.9320e-03,\n",
              "                      -7.5434e-03,  7.6920e-03, -1.0125e-02, -8.9660e-04, -3.9901e-03,\n",
              "                      -6.0063e-03, -7.2668e-03,  5.1802e-03,  1.5724e-03, -1.1562e-02,\n",
              "                       6.1323e-03,  1.1044e-02, -5.2846e-03, -9.6512e-04,  4.2447e-03,\n",
              "                       2.6476e-03, -6.6108e-03, -5.1067e-03,  3.2032e-03,  4.8109e-03,\n",
              "                       8.5959e-03,  1.0184e-02,  9.8603e-03,  5.1559e-03,  7.3312e-03,\n",
              "                      -9.2795e-03, -9.7065e-03, -2.4707e-03,  2.5519e-03,  3.3643e-03,\n",
              "                       7.7919e-04, -7.4584e-03,  6.7324e-03,  7.0036e-03,  5.1958e-03,\n",
              "                      -9.3160e-03,  1.5223e-03, -5.7029e-03, -7.9604e-03, -1.0203e-02,\n",
              "                      -2.7604e-04,  3.2462e-03,  9.9086e-03,  6.0862e-03,  5.1465e-03,\n",
              "                       5.7867e-03, -7.3320e-03,  2.6337e-03, -2.6690e-03,  1.0032e-02,\n",
              "                       1.0850e-03, -1.5876e-03, -1.1022e-02, -5.4302e-03, -1.1372e-02,\n",
              "                      -9.7062e-03,  1.6806e-03,  3.8554e-03,  1.4713e-04,  7.3140e-03,\n",
              "                       6.9382e-03,  5.8682e-03, -7.7393e-03,  3.8082e-03,  5.1293e-03,\n",
              "                       8.9374e-03, -4.2773e-03, -1.0092e-02, -1.3560e-03, -2.7174e-03,\n",
              "                      -1.5231e-03, -2.4817e-03, -5.9008e-03, -8.1122e-03, -3.8769e-03,\n",
              "                      -1.1140e-02, -1.1926e-02, -6.2632e-03,  1.8722e-03, -1.9738e-03,\n",
              "                       2.0528e-03,  5.9461e-03,  9.5641e-03, -6.1659e-03, -3.4913e-03,\n",
              "                       5.0631e-03,  3.0213e-03,  7.7854e-03, -1.1307e-02, -5.4803e-03,\n",
              "                       3.7695e-03,  1.1592e-02, -9.0681e-03, -5.0042e-03,  1.1073e-02,\n",
              "                       2.5744e-05, -9.4586e-03, -6.9186e-03,  1.1097e-02, -6.7013e-03,\n",
              "                      -1.0962e-02,  2.0857e-03,  8.2795e-03,  9.3424e-03,  5.3155e-03,\n",
              "                       1.1274e-02,  7.9171e-03, -3.2724e-03, -1.0249e-02, -1.4527e-03,\n",
              "                       1.0619e-02, -3.3701e-03,  7.7536e-03, -2.8238e-03, -4.9883e-03,\n",
              "                      -5.0678e-03, -4.7943e-03,  7.8837e-03,  4.3395e-04, -8.3011e-03,\n",
              "                       1.1445e-02, -5.4379e-03,  4.8050e-04, -9.6084e-03, -8.6315e-06,\n",
              "                      -3.5071e-03,  1.1388e-02, -1.1229e-02, -4.6268e-03,  6.7772e-03,\n",
              "                       7.0108e-03, -2.6895e-03,  3.4948e-03,  5.2814e-03,  2.8583e-04,\n",
              "                       2.2937e-03,  7.2963e-03, -4.5905e-03, -2.3906e-03,  7.8680e-04,\n",
              "                      -1.5128e-03, -3.2758e-03, -3.6771e-03,  1.0502e-02,  9.9938e-03,\n",
              "                       7.7075e-03,  4.8701e-04, -1.1297e-02,  2.1583e-03, -2.1099e-03,\n",
              "                       7.7024e-03,  6.6504e-03,  8.8552e-04,  3.4720e-03, -1.0618e-02,\n",
              "                       1.0379e-03, -1.9871e-03,  7.8658e-03, -9.6759e-03,  5.4482e-03,\n",
              "                       7.8835e-03,  7.5302e-03, -4.5736e-03, -8.4487e-03,  8.5672e-03,\n",
              "                       2.8908e-03,  3.5450e-03, -7.7644e-03,  9.6212e-03,  4.9459e-03,\n",
              "                      -4.3513e-03,  7.1670e-03, -3.3760e-03, -2.1354e-03, -2.2497e-03,\n",
              "                       6.9099e-03,  3.6868e-03,  5.8475e-03,  9.7880e-04,  8.8226e-03,\n",
              "                       1.1830e-02, -8.8215e-06,  8.5730e-03, -4.3267e-04, -5.4171e-03,\n",
              "                       6.0499e-03, -1.0167e-03, -9.7892e-03,  9.8705e-03, -4.2240e-03,\n",
              "                       1.7432e-03,  2.7131e-03,  4.4720e-03, -1.1236e-02,  4.1740e-03,\n",
              "                      -1.0572e-03])),\n",
              "             ('layer_stack.2.weight',\n",
              "              tensor([[ 0.0146, -0.0361,  0.0060,  ...,  0.0196, -0.0053, -0.0031],\n",
              "                      [-0.0045, -0.0526, -0.0295,  ..., -0.0502,  0.0511,  0.0305],\n",
              "                      [ 0.0145, -0.0190,  0.0535,  ..., -0.0312,  0.0306, -0.0431],\n",
              "                      ...,\n",
              "                      [-0.0210, -0.0409,  0.0635,  ...,  0.0349,  0.0206, -0.0205],\n",
              "                      [ 0.0274, -0.0431,  0.0422,  ...,  0.0483,  0.0251,  0.0438],\n",
              "                      [-0.0404,  0.0149, -0.0320,  ..., -0.0197,  0.0180,  0.0378]])),\n",
              "             ('layer_stack.2.bias',\n",
              "              tensor([-4.6657e-02, -4.7332e-02,  1.1210e-02,  1.4139e-02, -4.3894e-02,\n",
              "                       1.5159e-03,  1.5438e-02, -4.7886e-02,  7.5083e-03, -4.4721e-02,\n",
              "                       1.6573e-02, -4.3313e-02, -2.7391e-02,  1.5232e-02,  6.3622e-02,\n",
              "                      -5.0410e-02,  6.9740e-03,  2.8370e-02, -5.8715e-02,  4.6124e-02,\n",
              "                      -4.7056e-02, -3.1956e-02, -4.4876e-02, -5.6037e-02,  2.2323e-02,\n",
              "                      -2.5775e-02,  5.1164e-02,  6.5372e-03, -4.8754e-02,  4.0013e-02,\n",
              "                       1.0739e-02, -2.6368e-02,  5.9390e-02,  2.7357e-02, -5.1543e-02,\n",
              "                       6.3285e-02, -5.7760e-03, -4.4416e-04,  1.7720e-02,  3.5062e-02,\n",
              "                      -2.6350e-02,  5.9843e-02,  6.2756e-02, -3.8296e-02, -3.6161e-02,\n",
              "                      -1.2048e-02,  2.6970e-02,  1.1193e-02,  4.2880e-02, -5.0419e-02,\n",
              "                      -3.8972e-02,  5.3007e-02,  5.0459e-02,  3.3424e-02, -4.7325e-02,\n",
              "                      -3.2132e-02,  4.5679e-02, -2.0861e-02, -9.8571e-03, -5.9540e-02,\n",
              "                       2.8590e-02,  1.2368e-02,  2.0248e-02, -5.7025e-02, -5.6108e-02,\n",
              "                      -6.0143e-02, -1.8431e-02,  7.6162e-03, -6.2970e-03, -1.5042e-02,\n",
              "                       4.5575e-02, -1.1542e-02,  3.1391e-02,  6.2292e-02, -2.3296e-02,\n",
              "                      -4.8906e-02,  3.1557e-02, -4.0996e-02,  8.5400e-03, -2.7421e-02,\n",
              "                       8.2840e-03,  3.1465e-02,  2.2046e-02,  1.2937e-02, -5.2970e-02,\n",
              "                       1.1186e-02,  6.1703e-02, -2.1378e-02, -4.7147e-02,  4.0878e-02,\n",
              "                       5.1361e-03,  3.0328e-02,  2.1526e-02, -1.1517e-02, -4.9927e-02,\n",
              "                      -2.9551e-03,  3.3534e-02,  2.9498e-02,  2.2938e-02,  4.2472e-02,\n",
              "                      -2.1217e-02,  4.7965e-02, -4.3482e-02,  3.3863e-02,  5.8712e-04,\n",
              "                      -2.8884e-02,  3.6963e-02,  4.6091e-02,  2.2332e-02, -2.0770e-02,\n",
              "                       6.1303e-02, -4.4875e-02,  2.5388e-02, -7.0238e-03,  2.1697e-02,\n",
              "                      -4.0554e-02,  1.1162e-02,  2.4524e-02,  5.2427e-02, -5.3972e-02,\n",
              "                       6.9356e-03, -3.5924e-02, -4.3839e-02, -5.0373e-02,  4.9491e-02,\n",
              "                      -5.1500e-02, -6.2685e-02, -3.8696e-02,  2.6028e-02,  9.8083e-03,\n",
              "                      -3.2991e-03,  2.3355e-02,  1.4728e-02, -5.6093e-02,  2.2237e-02,\n",
              "                       8.3945e-03, -4.7162e-02, -6.2499e-02,  5.3782e-02,  2.3147e-02,\n",
              "                       5.5921e-02,  2.1046e-02, -1.8722e-02,  1.3874e-02, -4.8563e-02,\n",
              "                       5.2318e-02,  4.3653e-02,  3.1138e-03,  2.6847e-02, -4.7765e-02,\n",
              "                      -5.6849e-02, -4.4220e-02,  6.0954e-02,  3.4142e-02, -1.4248e-02,\n",
              "                       2.6407e-02,  1.1630e-02,  5.4443e-02, -2.0612e-03,  5.9749e-02,\n",
              "                      -4.6473e-02,  1.6403e-03,  3.4531e-02, -4.0027e-02,  3.9589e-02,\n",
              "                      -1.9121e-02,  1.0681e-02, -1.4251e-02,  2.0349e-02, -3.7567e-02,\n",
              "                      -4.5560e-02, -3.8003e-02,  7.4930e-03, -1.4593e-02,  4.7121e-02,\n",
              "                       5.9112e-02, -3.7151e-02, -5.0878e-02,  6.3403e-02, -5.2451e-02,\n",
              "                       6.0834e-02,  5.1607e-02, -1.2018e-03,  3.5535e-03,  5.6984e-02,\n",
              "                      -3.6975e-02, -5.3606e-02, -3.2892e-02, -2.4669e-02,  1.1316e-02,\n",
              "                       3.2102e-02, -1.4953e-03, -4.0015e-02, -3.7999e-02, -5.9794e-02,\n",
              "                      -1.7680e-02,  3.5416e-03,  4.8597e-02,  4.9723e-02, -5.7329e-02,\n",
              "                       5.1650e-02, -5.5733e-02, -6.0491e-02,  2.8396e-02,  5.9495e-02,\n",
              "                      -6.2595e-02, -1.0311e-02, -5.1159e-02, -2.8170e-02, -2.4487e-02,\n",
              "                      -1.6848e-02, -3.7763e-02,  4.4707e-02, -2.7555e-02, -3.4523e-02,\n",
              "                       1.7017e-02,  9.6232e-03, -7.0378e-05, -2.4458e-02, -4.7571e-02,\n",
              "                       5.3537e-02, -3.4348e-02,  5.0586e-02,  4.6419e-02,  2.0934e-02,\n",
              "                       5.5402e-02,  4.4382e-02,  1.6658e-02,  2.6544e-02,  5.6770e-02,\n",
              "                       1.4477e-03, -4.8102e-02,  1.2468e-03,  1.5954e-02,  4.0361e-02,\n",
              "                      -6.0812e-02, -4.2688e-02, -1.4748e-02, -5.4005e-02, -5.5692e-02,\n",
              "                      -4.3779e-02,  5.1903e-02,  3.8852e-02,  6.7367e-03,  5.1405e-02,\n",
              "                       3.1928e-02])),\n",
              "             ('layer_stack.4.weight',\n",
              "              tensor([[ 0.0477, -0.0122, -0.0420, -0.0352,  0.0124, -0.0328, -0.0090, -0.0441,\n",
              "                       -0.0238,  0.0178,  0.0544, -0.0225, -0.0256, -0.0162,  0.0465,  0.0471,\n",
              "                        0.0395,  0.0601,  0.0488, -0.0235, -0.0542, -0.0022, -0.0457,  0.0021,\n",
              "                       -0.0014, -0.0234, -0.0200,  0.0545, -0.0311, -0.0062, -0.0211, -0.0209,\n",
              "                       -0.0054,  0.0213, -0.0231,  0.0430,  0.0614,  0.0069, -0.0467, -0.0119,\n",
              "                       -0.0566, -0.0629, -0.0572,  0.0197, -0.0181,  0.0156,  0.0227,  0.0165,\n",
              "                        0.0284, -0.0258,  0.0233, -0.0008, -0.0155, -0.0185,  0.0286,  0.0470,\n",
              "                        0.0170,  0.0432,  0.0590, -0.0455,  0.0431,  0.0125,  0.0124, -0.0598,\n",
              "                       -0.0038,  0.0500,  0.0401,  0.0553, -0.0458, -0.0012, -0.0628, -0.0145,\n",
              "                        0.0270,  0.0443, -0.0017,  0.0045,  0.0228, -0.0323, -0.0491,  0.0321,\n",
              "                        0.0480,  0.0179, -0.0477,  0.0075, -0.0177, -0.0083, -0.0226,  0.0076,\n",
              "                       -0.0536, -0.0562,  0.0026,  0.0245,  0.0468,  0.0465,  0.0163, -0.0493,\n",
              "                        0.0104,  0.0573,  0.0416, -0.0068,  0.0570, -0.0519,  0.0339, -0.0061,\n",
              "                       -0.0076, -0.0616,  0.0111, -0.0293, -0.0595,  0.0450, -0.0370, -0.0352,\n",
              "                       -0.0374, -0.0049,  0.0170, -0.0410, -0.0457,  0.0010, -0.0226, -0.0347,\n",
              "                       -0.0504,  0.0607, -0.0076,  0.0021, -0.0431, -0.0093,  0.0497,  0.0191,\n",
              "                       -0.0280,  0.0250,  0.0485,  0.0381,  0.0384, -0.0218, -0.0495, -0.0193,\n",
              "                       -0.0357,  0.0034,  0.0546,  0.0432, -0.0108, -0.0405,  0.0549,  0.0275,\n",
              "                       -0.0434, -0.0589, -0.0127, -0.0377,  0.0211,  0.0346,  0.0401,  0.0483,\n",
              "                       -0.0196, -0.0561, -0.0539,  0.0208, -0.0239,  0.0603, -0.0159,  0.0371,\n",
              "                        0.0016, -0.0548, -0.0327,  0.0474,  0.0480, -0.0593, -0.0496,  0.0173,\n",
              "                       -0.0005, -0.0080,  0.0584, -0.0546,  0.0269,  0.0280,  0.0634,  0.0094,\n",
              "                       -0.0426, -0.0515, -0.0581, -0.0400,  0.0052,  0.0263, -0.0548, -0.0459,\n",
              "                       -0.0166,  0.0502,  0.0128,  0.0428,  0.0072,  0.0636, -0.0581, -0.0274,\n",
              "                       -0.0592, -0.0512, -0.0089, -0.0105, -0.0172,  0.0383, -0.0024, -0.0636,\n",
              "                        0.0035,  0.0494,  0.0604, -0.0165,  0.0600,  0.0632, -0.0373, -0.0362,\n",
              "                       -0.0342, -0.0028,  0.0211,  0.0060,  0.0032,  0.0294, -0.0505,  0.0452,\n",
              "                        0.0405, -0.0211, -0.0212, -0.0150, -0.0406, -0.0535,  0.0211, -0.0165,\n",
              "                       -0.0288, -0.0533, -0.0384,  0.0577,  0.0022, -0.0462, -0.0091, -0.0558,\n",
              "                        0.0576,  0.0378,  0.0127,  0.0160,  0.0331, -0.0011, -0.0108,  0.0229,\n",
              "                       -0.0416,  0.0313,  0.0362, -0.0566,  0.0093, -0.0605]])),\n",
              "             ('layer_stack.4.bias', tensor([-0.0429]))])"
            ]
          },
          "execution_count": 55,
          "metadata": {},
          "output_type": "execute_result"
        }
      ],
      "source": [
        "model_0.state_dict()\n"
      ]
    },
    {
      "cell_type": "code",
      "execution_count": null,
      "metadata": {
        "id": "TKtYQfkhsMMc"
      },
      "outputs": [],
      "source": [
        "loss_fn = nn.BCEWithLogitsLoss() # binary cross entropy loss with built in sigmoid; pos_weight=pos_weight use is optional\n",
        "\n",
        "optimizer = torch.optim.Adam(params=model_0.parameters(), lr=0.01)"
      ]
    },
    {
      "cell_type": "code",
      "execution_count": null,
      "metadata": {
        "id": "aktFvR4EsOw9"
      },
      "outputs": [],
      "source": [
        "def accuracy_fn(y_true, y_pred):\n",
        "  correct = torch.eq(y_true, y_pred).sum().item()\n",
        "  acc = (correct/len(y_pred)) * 100\n",
        "  return acc"
      ]
    },
    {
      "cell_type": "code",
      "execution_count": null,
      "metadata": {
        "colab": {
          "base_uri": "https://localhost:8080/"
        },
        "id": "pHxk8361sQEy",
        "outputId": "9e488515-f769-4c1d-8974-54198d021c0f"
      },
      "outputs": [
        {
          "data": {
            "text/plain": [
              "MLP_MIMIC_V0(\n",
              "  (layer_stack): Sequential(\n",
              "    (0): Linear(in_features=6982, out_features=246, bias=True)\n",
              "    (1): ReLU()\n",
              "    (2): Linear(in_features=246, out_features=246, bias=True)\n",
              "    (3): ReLU()\n",
              "    (4): Linear(in_features=246, out_features=1, bias=True)\n",
              "  )\n",
              ")"
            ]
          },
          "execution_count": 59,
          "metadata": {},
          "output_type": "execute_result"
        }
      ],
      "source": [
        "model_0"
      ]
    },
    {
      "cell_type": "code",
      "execution_count": 60,
      "metadata": {
        "colab": {
          "base_uri": "https://localhost:8080/"
        },
        "id": "MN7Gc8azsZgi",
        "outputId": "3f94c03f-6a86-4e36-8547-d4ce2f8f3765"
      },
      "outputs": [
        {
          "name": "stdout",
          "output_type": "stream",
          "text": [
            "Epoch: 1 | Train loss: 8.469 | Train acc: 61.679 | Test loss: 0.661 | Test acc: 63.062\n",
            "Epoch: 2 | Train loss: 0.665 | Train acc: 61.825 | Test loss: 0.661 | Test acc: 63.062\n",
            "Epoch: 3 | Train loss: 0.665 | Train acc: 61.822 | Test loss: 0.659 | Test acc: 63.062\n"
          ]
        }
      ],
      "source": [
        "# training loop for model_0\n",
        "torch.manual_seed(22)\n",
        "torch.cuda.manual_seed(22)\n",
        "model_0.to(device)\n",
        "\n",
        "# for tracking model progress\n",
        "epoch_count_0 = []\n",
        "train_loss_values_0 = []\n",
        "train_acc_values_0 = []\n",
        "test_loss_values_0 = []\n",
        "test_acc_values_0 = []\n",
        "\n",
        "# epochs\n",
        "epochs = 3\n",
        "\n",
        "for epoch in range(epochs):\n",
        "    model_0.train()\n",
        "    running_train_loss = 0.0\n",
        "    running_train_acc = 0.0\n",
        "    \n",
        "    # train loop w dataloaders\n",
        "    for batch_X, batch_y in train_loader:\n",
        "        batch_X, batch_y = batch_X.to(device), batch_y.to(device)\n",
        "        \n",
        "        y_logits = model_0(batch_X).squeeze(1)\n",
        "        batch_y = batch_y.squeeze(1)\n",
        "        y_pred = torch.round(torch.sigmoid(y_logits))\n",
        "        \n",
        "        train_loss = loss_fn(y_logits, batch_y)\n",
        "        train_acc = accuracy_fn(y_true=batch_y, y_pred=y_pred)\n",
        "        \n",
        "        optimizer.zero_grad()\n",
        "        train_loss.backward()\n",
        "        optimizer.step()\n",
        "\n",
        "        running_train_loss += train_loss\n",
        "        running_train_acc += train_acc\n",
        "    \n",
        "    # avg out the loss and accuracy over the entire dataset\n",
        "    average_train_loss = running_train_loss / len(train_loader)\n",
        "    average_train_acc = running_train_acc / len(train_loader)\n",
        "\n",
        "    # test loop w dataloaders\n",
        "    model_0.eval()\n",
        "    running_test_loss = 0.0\n",
        "    running_test_acc = 0.0\n",
        "    \n",
        "    with torch.inference_mode():\n",
        "        for batch_X, batch_y in test_loader:\n",
        "            batch_X, batch_y = batch_X.to(device), batch_y.to(device)\n",
        "            \n",
        "            test_logits = model_0(batch_X).squeeze(1)\n",
        "            batch_y = batch_y.squeeze(1)\n",
        "            test_pred = torch.round(torch.sigmoid(test_logits))\n",
        "            \n",
        "            test_loss = loss_fn(test_logits, batch_y)\n",
        "            test_acc = accuracy_fn(y_true=batch_y, y_pred=test_pred)\n",
        "            \n",
        "            running_test_loss += test_loss\n",
        "            running_test_acc += test_acc\n",
        "    \n",
        "    average_test_loss = running_test_loss / len(test_loader)\n",
        "    average_test_acc = running_test_acc / len(test_loader)\n",
        "\n",
        "    epoch_count_0.append(epoch)\n",
        "    train_loss_values_0.append(average_train_loss)\n",
        "    train_acc_values_0.append(average_train_acc)\n",
        "    test_loss_values_0.append(average_test_loss)\n",
        "    test_acc_values_0.append(average_test_acc)\n",
        "\n",
        "    print(f\"Epoch: {epoch + 1} | Train loss: {average_train_loss:.3f} | Train acc: {average_train_acc:.3f} | Test loss: {average_test_loss:.3f} | Test acc: {average_test_acc:.3f}\")\n"
      ]
    },
    {
      "cell_type": "code",
      "execution_count": 61,
      "metadata": {},
      "outputs": [],
      "source": [
        "class MLP_MIMIC_V1(nn.Module):\n",
        "    def __init__(self):\n",
        "        super().__init__()\n",
        "\n",
        "        self.layer_stack = nn.Sequential(\n",
        "            nn.Linear(in_features=6982, out_features=512),\n",
        "            nn.BatchNorm1d(512),\n",
        "            nn.ReLU(),\n",
        "            nn.Dropout(0.5),\n",
        "\n",
        "            nn.Linear(in_features=512, out_features=256),\n",
        "            nn.BatchNorm1d(256),\n",
        "            nn.ReLU(),\n",
        "            nn.Dropout(0.5),\n",
        "\n",
        "            nn.Linear(in_features=256, out_features=128),\n",
        "            nn.BatchNorm1d(128),\n",
        "            nn.ReLU(),\n",
        "            nn.Dropout(0.5),\n",
        "\n",
        "            nn.Linear(in_features=128, out_features=1)\n",
        "        )\n",
        "\n",
        "    def forward(self, x):\n",
        "        return self.layer_stack(x)\n",
        "\n",
        "model_1 = MLP_MIMIC_V1().to(device)\n"
      ]
    },
    {
      "cell_type": "code",
      "execution_count": 62,
      "metadata": {},
      "outputs": [
        {
          "name": "stdout",
          "output_type": "stream",
          "text": [
            "Epoch: 1 | Train loss: 0.679 | Train acc: 60.077 | Test loss: 0.661 | Test acc: 63.062\n",
            "Epoch: 2 | Train loss: 0.668 | Train acc: 61.593 | Test loss: 0.659 | Test acc: 63.062\n",
            "Epoch: 3 | Train loss: 0.666 | Train acc: 61.757 | Test loss: 0.659 | Test acc: 63.062\n"
          ]
        }
      ],
      "source": [
        "loss_fn = nn.BCEWithLogitsLoss() # binary cross entropy loss with built in sigmoid\n",
        "optimizer = torch.optim.Adam(params=model_1.parameters(), lr=0.01)\n",
        "\n",
        "# training loop for model_1\n",
        "torch.manual_seed(22)\n",
        "torch.cuda.manual_seed(22)\n",
        "model_1.to(device)\n",
        "\n",
        "# for tracking model progress\n",
        "epoch_count_1 = []\n",
        "train_loss_values_1 = []\n",
        "train_acc_values_1 = []\n",
        "test_loss_values_1 = []\n",
        "test_acc_values_1 = []\n",
        "\n",
        "# epochs\n",
        "epochs = 3\n",
        "\n",
        "for epoch in range(epochs):\n",
        "    model_1.train()\n",
        "    running_train_loss = 0.0\n",
        "    running_train_acc = 0.0\n",
        "    \n",
        "    # train loop w dataloaders\n",
        "    for batch_X, batch_y in train_loader:\n",
        "        batch_X, batch_y = batch_X.to(device), batch_y.to(device)\n",
        "        \n",
        "        y_logits = model_1(batch_X).squeeze(1)\n",
        "        batch_y = batch_y.squeeze(1)\n",
        "        y_pred = torch.round(torch.sigmoid(y_logits))\n",
        "        \n",
        "        train_loss = loss_fn(y_logits, batch_y)\n",
        "        train_acc = accuracy_fn(y_true=batch_y, y_pred=y_pred)\n",
        "        \n",
        "        optimizer.zero_grad()\n",
        "        train_loss.backward()\n",
        "        optimizer.step()\n",
        "\n",
        "        running_train_loss += train_loss\n",
        "        running_train_acc += train_acc\n",
        "    \n",
        "    # avg out the loss and accuracy over the entire dataset\n",
        "    average_train_loss = running_train_loss / len(train_loader)\n",
        "    average_train_acc = running_train_acc / len(train_loader)\n",
        "\n",
        "    # test loop w dataloaders\n",
        "    model_1.eval()\n",
        "    running_test_loss = 0.0\n",
        "    running_test_acc = 0.0\n",
        "    \n",
        "    with torch.inference_mode():\n",
        "        for batch_X, batch_y in test_loader:\n",
        "            batch_X, batch_y = batch_X.to(device), batch_y.to(device)\n",
        "            \n",
        "            test_logits = model_1(batch_X).squeeze(1)\n",
        "            batch_y = batch_y.squeeze(1)\n",
        "            test_pred = torch.round(torch.sigmoid(test_logits))\n",
        "            \n",
        "            test_loss = loss_fn(test_logits, batch_y)\n",
        "            test_acc = accuracy_fn(y_true=batch_y, y_pred=test_pred)\n",
        "            \n",
        "            running_test_loss += test_loss\n",
        "            running_test_acc += test_acc\n",
        "    \n",
        "    average_test_loss = running_test_loss / len(test_loader)\n",
        "    average_test_acc = running_test_acc / len(test_loader)\n",
        "\n",
        "    epoch_count_1.append(epoch)\n",
        "    train_loss_values_1.append(average_train_loss)\n",
        "    train_acc_values_1.append(average_train_acc)\n",
        "    test_loss_values_1.append(average_test_loss)\n",
        "    test_acc_values_1.append(average_test_acc)\n",
        "\n",
        "    print(f\"Epoch: {epoch + 1} | Train loss: {average_train_loss:.3f} | Train acc: {average_train_acc:.3f} | Test loss: {average_test_loss:.3f} | Test acc: {average_test_acc:.3f}\")\n"
      ]
    },
    {
      "cell_type": "markdown",
      "metadata": {},
      "source": [
        "## Model evaluations"
      ]
    },
    {
      "cell_type": "markdown",
      "metadata": {},
      "source": [
        "### Model 0"
      ]
    },
    {
      "cell_type": "code",
      "execution_count": 64,
      "metadata": {
        "colab": {
          "base_uri": "https://localhost:8080/",
          "height": 472
        },
        "id": "0hh-WkWTuGrF",
        "outputId": "d5d6d0ef-44f5-4d67-f3a3-5b1896f0e221"
      },
      "outputs": [
        {
          "data": {
            "image/png": "[encoded data removed]",
            "text/plain": [
              "<Figure size 640x480 with 1 Axes>"
            ]
          },
          "metadata": {},
          "output_type": "display_data"
        }
      ],
      "source": [
        "import matplotlib.pyplot as plt\n",
        "import numpy as np\n",
        "\n",
        "plt.plot(epoch_count_0, np.array(torch.tensor(train_loss_values_0).numpy()), label=\"Train loss\")\n",
        "plt.plot(epoch_count_0, np.array(torch.tensor(test_loss_values_0).numpy()), label=\"Test loss\")\n",
        "plt.title(\"Train and test loss - Model 0\")\n",
        "plt.ylabel(\"Loss\")\n",
        "plt.xlabel(\"Epochs\")\n",
        "plt.legend();"
      ]
    },
    {
      "cell_type": "code",
      "execution_count": 66,
      "metadata": {
        "colab": {
          "base_uri": "https://localhost:8080/",
          "height": 329
        },
        "id": "FC8Ai8ZjPFmA",
        "outputId": "762056b0-dcf7-402f-89f3-508ff7adf5fa"
      },
      "outputs": [
        {
          "data": {
            "image/png": "[encoded data removed]",
            "text/plain": [
              "<Figure size 1200x600 with 1 Axes>"
            ]
          },
          "metadata": {},
          "output_type": "display_data"
        }
      ],
      "source": [
        "plt.figure(figsize=(12, 6))\n",
        "\n",
        "plt.plot(epoch_count_0, train_acc_values_0, '-o', label='Train Accuracy', color='blue')\n",
        "plt.plot(epoch_count_0, test_acc_values_0, '-o', label='Test Accuracy', color='red')\n",
        "\n",
        "plt.title('Train and test accuracy - Model 0')\n",
        "plt.xlabel('Epochs')\n",
        "plt.ylabel('Accuracy')\n",
        "plt.legend()\n",
        "plt.grid(True)\n",
        "plt.tight_layout()\n",
        "\n",
        "plt.show()"
      ]
    },
    {
      "cell_type": "code",
      "execution_count": 69,
      "metadata": {
        "colab": {
          "base_uri": "https://localhost:8080/",
          "height": 472
        },
        "id": "8N3vPCXJMxfs",
        "outputId": "7456a30f-f32e-4acf-9f31-9a32e67e019e"
      },
      "outputs": [
        {
          "name": "stdout",
          "output_type": "stream",
          "text": [
            "AUC for MLP Model 0: 0.5000\n"
          ]
        },
        {
          "data": {
            "image/png": "[encoded data removed]",
            "text/plain": [
              "<Figure size 640x480 with 1 Axes>"
            ]
          },
          "metadata": {},
          "output_type": "display_data"
        }
      ],
      "source": [
        "from sklearn.metrics import roc_curve, auc\n",
        "\n",
        "all_test_probabilities = []\n",
        "all_true_labels = []\n",
        "\n",
        "# iterating w test loader\n",
        "with torch.inference_mode():\n",
        "    for batch_X, batch_y in test_loader:\n",
        "        # device agnostic \n",
        "        batch_X = batch_X.cuda() if next(model_0.parameters()).is_cuda else batch_X\n",
        "        batch_y = batch_y.cuda() if next(model_0.parameters()).is_cuda else batch_y\n",
        "        \n",
        "        test_logits = model_0(batch_X).squeeze()\n",
        "        test_probabilities = torch.sigmoid(test_logits).cpu().numpy()\n",
        "        \n",
        "        all_test_probabilities.extend(test_probabilities)\n",
        "        all_true_labels.extend(batch_y.cpu().numpy())\n",
        "\n",
        "# false positive and true positive rates and thresholds\n",
        "fpr, tpr, thresholds = roc_curve(all_true_labels, all_test_probabilities)\n",
        "\n",
        "# calculate auc\n",
        "roc_auc = auc(fpr, tpr)\n",
        "\n",
        "# print auc\n",
        "print(f\"AUC for MLP Model 0: {roc_auc:.4f}\")\n",
        "\n",
        "# plot roc and auc\n",
        "plt.figure()\n",
        "plt.plot(fpr, tpr, color='darkorange', lw=2, label=f'ROC curve (area = {roc_auc:.2f})')\n",
        "plt.plot([0, 1], [0, 1], color='navy', lw=2, linestyle='--')  # random classifier diagonal\n",
        "plt.xlim([0.0, 1.0])\n",
        "plt.ylim([0.0, 1.05])\n",
        "plt.xlabel('False Positive Rate')\n",
        "plt.ylabel('True Positive Rate')\n",
        "plt.title('ROC Curve - MLP Model 0')\n",
        "plt.legend(loc=\"lower right\")\n",
        "plt.show()\n"
      ]
    },
    {
      "cell_type": "markdown",
      "metadata": {},
      "source": [
        "### Model 1"
      ]
    },
    {
      "cell_type": "code",
      "execution_count": 70,
      "metadata": {
        "colab": {
          "base_uri": "https://localhost:8080/",
          "height": 472
        },
        "id": "rkTgfoBsIPr0",
        "outputId": "57817e9e-57b8-4623-c4b3-8599e49f3dbf"
      },
      "outputs": [
        {
          "data": {
            "image/png": "[encoded data removed]",
            "text/plain": [
              "<Figure size 640x480 with 1 Axes>"
            ]
          },
          "metadata": {},
          "output_type": "display_data"
        }
      ],
      "source": [
        "plt.plot(epoch_count_1, np.array(torch.tensor(train_loss_values_1).numpy()), label=\"Train loss\")\n",
        "plt.plot(epoch_count_1, np.array(torch.tensor(test_loss_values_1).numpy()), label=\"Test loss\")\n",
        "plt.title(\"Train and test loss - Model 1\")\n",
        "plt.ylabel(\"Loss\")\n",
        "plt.xlabel(\"Epochs\")\n",
        "plt.legend();"
      ]
    },
    {
      "cell_type": "code",
      "execution_count": 71,
      "metadata": {
        "colab": {
          "base_uri": "https://localhost:8080/",
          "height": 329
        },
        "id": "S57VEQEFPQMZ",
        "outputId": "26312cf5-a60b-4142-cfb2-1269aca090a8"
      },
      "outputs": [
        {
          "data": {
            "image/png": "[encoded data removed]",
            "text/plain": [
              "<Figure size 1200x600 with 1 Axes>"
            ]
          },
          "metadata": {},
          "output_type": "display_data"
        }
      ],
      "source": [
        "plt.figure(figsize=(12, 6))\n",
        "\n",
        "plt.plot(epoch_count_1, train_acc_values_1, '-o', label='Train Accuracy', color='blue')\n",
        "plt.plot(epoch_count_1, test_acc_values_1, '-o', label='Test Accuracy', color='red')\n",
        "\n",
        "plt.title('Train and test accuracy - Model 1')\n",
        "plt.xlabel('Epochs')\n",
        "plt.ylabel('Accuracy')\n",
        "plt.legend()\n",
        "plt.grid(True)\n",
        "plt.tight_layout()\n",
        "\n",
        "plt.show()"
      ]
    },
    {
      "cell_type": "code",
      "execution_count": 72,
      "metadata": {
        "colab": {
          "base_uri": "https://localhost:8080/"
        },
        "id": "mwxhg6X2JShN",
        "outputId": "dff6faa6-8a32-4d19-f318-8d77e341d7b4"
      },
      "outputs": [
        {
          "name": "stdout",
          "output_type": "stream",
          "text": [
            "AUC for MLP Model 1: 0.4864\n"
          ]
        },
        {
          "data": {
            "image/png": "[encoded data removed]",
            "text/plain": [
              "<Figure size 640x480 with 1 Axes>"
            ]
          },
          "metadata": {},
          "output_type": "display_data"
        }
      ],
      "source": [
        "all_test_probabilities = []\n",
        "all_true_labels = []\n",
        "\n",
        "# iterating w test loader\n",
        "with torch.inference_mode():\n",
        "    for batch_X, batch_y in test_loader:\n",
        "        # device agnostic \n",
        "        batch_X = batch_X.cuda() if next(model_1.parameters()).is_cuda else batch_X\n",
        "        batch_y = batch_y.cuda() if next(model_1.parameters()).is_cuda else batch_y\n",
        "        \n",
        "        test_logits = model_1(batch_X).squeeze()\n",
        "        test_probabilities = torch.sigmoid(test_logits).cpu().numpy()\n",
        "        \n",
        "        all_test_probabilities.extend(test_probabilities)\n",
        "        all_true_labels.extend(batch_y.cpu().numpy())\n",
        "\n",
        "# false positive and true positive rates and thresholds\n",
        "fpr, tpr, thresholds = roc_curve(all_true_labels, all_test_probabilities)\n",
        "\n",
        "# calculate auc\n",
        "roc_auc = auc(fpr, tpr)\n",
        "\n",
        "# print auc\n",
        "print(f\"AUC for MLP Model 1: {roc_auc:.4f}\")\n",
        "\n",
        "# plot roc and auc\n",
        "plt.figure()\n",
        "plt.plot(fpr, tpr, color='darkorange', lw=2, label=f'ROC curve (area = {roc_auc:.2f})')\n",
        "plt.plot([0, 1], [0, 1], color='navy', lw=2, linestyle='--')  # random classifier diagonal\n",
        "plt.xlim([0.0, 1.0])\n",
        "plt.ylim([0.0, 1.05])\n",
        "plt.xlabel('False Positive Rate')\n",
        "plt.ylabel('True Positive Rate')\n",
        "plt.title('ROC Curve - MLP Model 1')\n",
        "plt.legend(loc=\"lower right\")\n",
        "plt.show()\n"
      ]
    },
    {
      "cell_type": "code",
      "execution_count": 74,
      "metadata": {
        "colab": {
          "base_uri": "https://localhost:8080/",
          "height": 516
        },
        "id": "SUuJhO-8Uuoz",
        "outputId": "86dd459f-9e74-426e-f3f5-ca1e342f2314"
      },
      "outputs": [
        {
          "data": {
            "image/png": "[encoded data removed]",
            "text/plain": [
              "<Figure size 1000x700 with 1 Axes>"
            ]
          },
          "metadata": {},
          "output_type": "display_data"
        },
        {
          "name": "stdout",
          "output_type": "stream",
          "text": [
            "Accuracy: 0.63\n",
            "AUC: 0.51\n"
          ]
        }
      ],
      "source": [
        "import matplotlib.pyplot as plt\n",
        "from sklearn.linear_model import LogisticRegression\n",
        "from sklearn.metrics import accuracy_score, roc_auc_score, roc_curve\n",
        "\n",
        "# logistic regression model\n",
        "logreg = LogisticRegression(max_iter=1000)\n",
        "logreg.fit(X_train, y_train.ravel())\n",
        "\n",
        "# predict probs\n",
        "y_pred_prob = logreg.predict_proba(X_test)[:,1]\n",
        "\n",
        "# compute accuracy\n",
        "y_pred = logreg.predict(X_test)\n",
        "accuracy = accuracy_score(y_test.ravel(), y_pred)\n",
        "\n",
        "# compute auc\n",
        "auc = roc_auc_score(y_test.ravel(), y_pred_prob)\n",
        "\n",
        "# compute and plot roc curve\n",
        "fpr, tpr, thresholds = roc_curve(y_test.ravel(), y_pred_prob)\n",
        "plt.figure(figsize=(10, 7))\n",
        "plt.plot(fpr, tpr, label=f'AUC: {auc:.2f}')\n",
        "plt.plot([0, 1], [0, 1], linestyle='--', color='red')\n",
        "plt.xlabel('False Positive Rate')\n",
        "plt.ylabel('True Positive Rate')\n",
        "plt.title('ROC Curve')\n",
        "plt.legend()\n",
        "plt.show()\n",
        "\n",
        "print(f\"Accuracy: {accuracy:.2f}\")\n",
        "print(f\"AUC: {auc:.2f}\")\n"
      ]
    }
  ],
  "metadata": {
    "accelerator": "GPU",
    "colab": {
      "gpuType": "T4",
      "provenance": []
    },
    "kernelspec": {
      "display_name": "Python 3",
      "name": "python3"
    },
    "language_info": {
      "codemirror_mode": {
        "name": "ipython",
        "version": 3
      },
      "file_extension": ".py",
      "mimetype": "text/x-python",
      "name": "python",
      "nbconvert_exporter": "python",
      "pygments_lexer": "ipython3",
      "version": "3.9.13"
    }
  },
  "nbformat": 4,
  "nbformat_minor": 0
}
