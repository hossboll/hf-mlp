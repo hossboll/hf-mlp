{
  "cells": [
    {
      "cell_type": "markdown",
      "metadata": {},
      "source": [
        "## Heart failure prediction based on the MIMIC-III dataset\n",
        "This notebook provides a basic code to preprocess the MIMIC-III dataset. It can be used both on Google Colab or in your local machine.\n",
        "Tables ADMISSIONS and DIAGNOSES were selected and transformed to be further used in the MLP model. The categorical features are converted to numbers and the numerical ones are scaled for inputting in the PyTorch models."
      ]
    },
    {
      "cell_type": "code",
      "execution_count": 2,
      "metadata": {
        "colab": {
          "base_uri": "https://localhost:8080/"
        },
        "id": "8Jo221tlG8d5",
        "outputId": "bbf74371-0b54-40bb-e5a4-e6c5895476f0"
      },
      "outputs": [
        {
          "data": {
            "text/plain": [
              "\" # if using google drive, mounting drive for mimic-iii access\\nfrom google.colab import drive\\ndrive.mount('/content/drive') \""
            ]
          },
          "execution_count": 2,
          "metadata": {},
          "output_type": "execute_result"
        }
      ],
      "source": [
        "\"\"\" # if using google drive, mounting drive for mimic-iii access\n",
        "from google.colab import drive\n",
        "drive.mount('/content/drive') \"\"\""
      ]
    },
    {
      "cell_type": "code",
      "execution_count": 3,
      "metadata": {
        "colab": {
          "base_uri": "https://localhost:8080/"
        },
        "id": "zqPZ608UHuQt",
        "outputId": "643ea1b8-8351-49c0-fe62-4f1095b5150e"
      },
      "outputs": [],
      "source": [
        "import pandas as pd\n",
        "\n",
        "# add the path to the files\n",
        "# if they are in your google drive, it will look something like this:\n",
        "# /content/drive/MyDrive/Colab Notebooks/mimic-iii-demo/ADMISSIONS.csv\n",
        "\n",
        "admissions_path = \"data\\mimic-iii\\ADMISSIONS.csv\"\n",
        "diagnoses_path = \"data\\mimic-iii\\DIAGNOSES_ICD.csv\"\n",
        "\n",
        "# loading data\n",
        "admissions = pd.read_csv(admissions_path)\n",
        "diagnoses = pd.read_csv(diagnoses_path)"
      ]
    },
    {
      "cell_type": "code",
      "execution_count": 4,
      "metadata": {
        "colab": {
          "base_uri": "https://localhost:8080/",
          "height": 478
        },
        "id": "FxfCvDvUKYO_",
        "outputId": "387f1938-06f1-43b2-eeb6-92fecb23403c"
      },
      "outputs": [
        {
          "name": "stdout",
          "output_type": "stream",
          "text": [
            "\n",
            "Admissions table, containing data about patients admissions:\n"
          ]
        },
        {
          "data": {
            "text/html": [
              "<div>\n",
              "<style scoped>\n",
              "    .dataframe tbody tr th:only-of-type {\n",
              "        vertical-align: middle;\n",
              "    }\n",
              "\n",
              "    .dataframe tbody tr th {\n",
              "        vertical-align: top;\n",
              "    }\n",
              "\n",
              "    .dataframe thead th {\n",
              "        text-align: right;\n",
              "    }\n",
              "</style>\n",
              "<table border=\"1\" class=\"dataframe\">\n",
              "  <thead>\n",
              "    <tr style=\"text-align: right;\">\n",
              "      <th></th>\n",
              "      <th>ROW_ID</th>\n",
              "      <th>SUBJECT_ID</th>\n",
              "      <th>HADM_ID</th>\n",
              "      <th>ADMITTIME</th>\n",
              "      <th>DISCHTIME</th>\n",
              "      <th>DEATHTIME</th>\n",
              "      <th>ADMISSION_TYPE</th>\n",
              "      <th>ADMISSION_LOCATION</th>\n",
              "      <th>DISCHARGE_LOCATION</th>\n",
              "      <th>INSURANCE</th>\n",
              "      <th>LANGUAGE</th>\n",
              "      <th>RELIGION</th>\n",
              "      <th>MARITAL_STATUS</th>\n",
              "      <th>ETHNICITY</th>\n",
              "      <th>EDREGTIME</th>\n",
              "      <th>EDOUTTIME</th>\n",
              "      <th>DIAGNOSIS</th>\n",
              "      <th>HOSPITAL_EXPIRE_FLAG</th>\n",
              "      <th>HAS_CHARTEVENTS_DATA</th>\n",
              "    </tr>\n",
              "  </thead>\n",
              "  <tbody>\n",
              "    <tr>\n",
              "      <th>0</th>\n",
              "      <td>21</td>\n",
              "      <td>22</td>\n",
              "      <td>165315</td>\n",
              "      <td>2196-04-09 12:26:00</td>\n",
              "      <td>2196-04-10 15:54:00</td>\n",
              "      <td>NaN</td>\n",
              "      <td>EMERGENCY</td>\n",
              "      <td>EMERGENCY ROOM ADMIT</td>\n",
              "      <td>DISC-TRAN CANCER/CHLDRN H</td>\n",
              "      <td>Private</td>\n",
              "      <td>NaN</td>\n",
              "      <td>UNOBTAINABLE</td>\n",
              "      <td>MARRIED</td>\n",
              "      <td>WHITE</td>\n",
              "      <td>2196-04-09 10:06:00</td>\n",
              "      <td>2196-04-09 13:24:00</td>\n",
              "      <td>BENZODIAZEPINE OVERDOSE</td>\n",
              "      <td>0</td>\n",
              "      <td>1</td>\n",
              "    </tr>\n",
              "    <tr>\n",
              "      <th>1</th>\n",
              "      <td>22</td>\n",
              "      <td>23</td>\n",
              "      <td>152223</td>\n",
              "      <td>2153-09-03 07:15:00</td>\n",
              "      <td>2153-09-08 19:10:00</td>\n",
              "      <td>NaN</td>\n",
              "      <td>ELECTIVE</td>\n",
              "      <td>PHYS REFERRAL/NORMAL DELI</td>\n",
              "      <td>HOME HEALTH CARE</td>\n",
              "      <td>Medicare</td>\n",
              "      <td>NaN</td>\n",
              "      <td>CATHOLIC</td>\n",
              "      <td>MARRIED</td>\n",
              "      <td>WHITE</td>\n",
              "      <td>NaN</td>\n",
              "      <td>NaN</td>\n",
              "      <td>CORONARY ARTERY DISEASE\\CORONARY ARTERY BYPASS...</td>\n",
              "      <td>0</td>\n",
              "      <td>1</td>\n",
              "    </tr>\n",
              "    <tr>\n",
              "      <th>2</th>\n",
              "      <td>23</td>\n",
              "      <td>23</td>\n",
              "      <td>124321</td>\n",
              "      <td>2157-10-18 19:34:00</td>\n",
              "      <td>2157-10-25 14:00:00</td>\n",
              "      <td>NaN</td>\n",
              "      <td>EMERGENCY</td>\n",
              "      <td>TRANSFER FROM HOSP/EXTRAM</td>\n",
              "      <td>HOME HEALTH CARE</td>\n",
              "      <td>Medicare</td>\n",
              "      <td>ENGL</td>\n",
              "      <td>CATHOLIC</td>\n",
              "      <td>MARRIED</td>\n",
              "      <td>WHITE</td>\n",
              "      <td>NaN</td>\n",
              "      <td>NaN</td>\n",
              "      <td>BRAIN MASS</td>\n",
              "      <td>0</td>\n",
              "      <td>1</td>\n",
              "    </tr>\n",
              "    <tr>\n",
              "      <th>3</th>\n",
              "      <td>24</td>\n",
              "      <td>24</td>\n",
              "      <td>161859</td>\n",
              "      <td>2139-06-06 16:14:00</td>\n",
              "      <td>2139-06-09 12:48:00</td>\n",
              "      <td>NaN</td>\n",
              "      <td>EMERGENCY</td>\n",
              "      <td>TRANSFER FROM HOSP/EXTRAM</td>\n",
              "      <td>HOME</td>\n",
              "      <td>Private</td>\n",
              "      <td>NaN</td>\n",
              "      <td>PROTESTANT QUAKER</td>\n",
              "      <td>SINGLE</td>\n",
              "      <td>WHITE</td>\n",
              "      <td>NaN</td>\n",
              "      <td>NaN</td>\n",
              "      <td>INTERIOR MYOCARDIAL INFARCTION</td>\n",
              "      <td>0</td>\n",
              "      <td>1</td>\n",
              "    </tr>\n",
              "    <tr>\n",
              "      <th>4</th>\n",
              "      <td>25</td>\n",
              "      <td>25</td>\n",
              "      <td>129635</td>\n",
              "      <td>2160-11-02 02:06:00</td>\n",
              "      <td>2160-11-05 14:55:00</td>\n",
              "      <td>NaN</td>\n",
              "      <td>EMERGENCY</td>\n",
              "      <td>EMERGENCY ROOM ADMIT</td>\n",
              "      <td>HOME</td>\n",
              "      <td>Private</td>\n",
              "      <td>NaN</td>\n",
              "      <td>UNOBTAINABLE</td>\n",
              "      <td>MARRIED</td>\n",
              "      <td>WHITE</td>\n",
              "      <td>2160-11-02 01:01:00</td>\n",
              "      <td>2160-11-02 04:27:00</td>\n",
              "      <td>ACUTE CORONARY SYNDROME</td>\n",
              "      <td>0</td>\n",
              "      <td>1</td>\n",
              "    </tr>\n",
              "  </tbody>\n",
              "</table>\n",
              "</div>"
            ],
            "text/plain": [
              "   ROW_ID  SUBJECT_ID  HADM_ID            ADMITTIME            DISCHTIME  \\\n",
              "0      21          22   165315  2196-04-09 12:26:00  2196-04-10 15:54:00   \n",
              "1      22          23   152223  2153-09-03 07:15:00  2153-09-08 19:10:00   \n",
              "2      23          23   124321  2157-10-18 19:34:00  2157-10-25 14:00:00   \n",
              "3      24          24   161859  2139-06-06 16:14:00  2139-06-09 12:48:00   \n",
              "4      25          25   129635  2160-11-02 02:06:00  2160-11-05 14:55:00   \n",
              "\n",
              "  DEATHTIME ADMISSION_TYPE         ADMISSION_LOCATION  \\\n",
              "0       NaN      EMERGENCY       EMERGENCY ROOM ADMIT   \n",
              "1       NaN       ELECTIVE  PHYS REFERRAL/NORMAL DELI   \n",
              "2       NaN      EMERGENCY  TRANSFER FROM HOSP/EXTRAM   \n",
              "3       NaN      EMERGENCY  TRANSFER FROM HOSP/EXTRAM   \n",
              "4       NaN      EMERGENCY       EMERGENCY ROOM ADMIT   \n",
              "\n",
              "          DISCHARGE_LOCATION INSURANCE LANGUAGE           RELIGION  \\\n",
              "0  DISC-TRAN CANCER/CHLDRN H   Private      NaN       UNOBTAINABLE   \n",
              "1           HOME HEALTH CARE  Medicare      NaN           CATHOLIC   \n",
              "2           HOME HEALTH CARE  Medicare     ENGL           CATHOLIC   \n",
              "3                       HOME   Private      NaN  PROTESTANT QUAKER   \n",
              "4                       HOME   Private      NaN       UNOBTAINABLE   \n",
              "\n",
              "  MARITAL_STATUS ETHNICITY            EDREGTIME            EDOUTTIME  \\\n",
              "0        MARRIED     WHITE  2196-04-09 10:06:00  2196-04-09 13:24:00   \n",
              "1        MARRIED     WHITE                  NaN                  NaN   \n",
              "2        MARRIED     WHITE                  NaN                  NaN   \n",
              "3         SINGLE     WHITE                  NaN                  NaN   \n",
              "4        MARRIED     WHITE  2160-11-02 01:01:00  2160-11-02 04:27:00   \n",
              "\n",
              "                                           DIAGNOSIS  HOSPITAL_EXPIRE_FLAG  \\\n",
              "0                            BENZODIAZEPINE OVERDOSE                     0   \n",
              "1  CORONARY ARTERY DISEASE\\CORONARY ARTERY BYPASS...                     0   \n",
              "2                                         BRAIN MASS                     0   \n",
              "3                     INTERIOR MYOCARDIAL INFARCTION                     0   \n",
              "4                            ACUTE CORONARY SYNDROME                     0   \n",
              "\n",
              "   HAS_CHARTEVENTS_DATA  \n",
              "0                     1  \n",
              "1                     1  \n",
              "2                     1  \n",
              "3                     1  \n",
              "4                     1  "
            ]
          },
          "execution_count": 4,
          "metadata": {},
          "output_type": "execute_result"
        }
      ],
      "source": [
        "print(\"\\nAdmissions table, containing data about patients admissions:\")\n",
        "admissions.head()"
      ]
    },
    {
      "cell_type": "code",
      "execution_count": 5,
      "metadata": {
        "colab": {
          "base_uri": "https://localhost:8080/",
          "height": 241
        },
        "id": "QJujKXGbMs3C",
        "outputId": "01bbeeec-29fa-4bc7-d0dc-cdd488759db3"
      },
      "outputs": [
        {
          "name": "stdout",
          "output_type": "stream",
          "text": [
            "\n",
            "Diagnoses table, containing data about patients' diagnoses based on ICD codes:\n"
          ]
        },
        {
          "data": {
            "text/html": [
              "<div>\n",
              "<style scoped>\n",
              "    .dataframe tbody tr th:only-of-type {\n",
              "        vertical-align: middle;\n",
              "    }\n",
              "\n",
              "    .dataframe tbody tr th {\n",
              "        vertical-align: top;\n",
              "    }\n",
              "\n",
              "    .dataframe thead th {\n",
              "        text-align: right;\n",
              "    }\n",
              "</style>\n",
              "<table border=\"1\" class=\"dataframe\">\n",
              "  <thead>\n",
              "    <tr style=\"text-align: right;\">\n",
              "      <th></th>\n",
              "      <th>ROW_ID</th>\n",
              "      <th>SUBJECT_ID</th>\n",
              "      <th>HADM_ID</th>\n",
              "      <th>SEQ_NUM</th>\n",
              "      <th>ICD9_CODE</th>\n",
              "    </tr>\n",
              "  </thead>\n",
              "  <tbody>\n",
              "    <tr>\n",
              "      <th>0</th>\n",
              "      <td>1297</td>\n",
              "      <td>109</td>\n",
              "      <td>172335</td>\n",
              "      <td>1.0</td>\n",
              "      <td>40301</td>\n",
              "    </tr>\n",
              "    <tr>\n",
              "      <th>1</th>\n",
              "      <td>1298</td>\n",
              "      <td>109</td>\n",
              "      <td>172335</td>\n",
              "      <td>2.0</td>\n",
              "      <td>486</td>\n",
              "    </tr>\n",
              "    <tr>\n",
              "      <th>2</th>\n",
              "      <td>1299</td>\n",
              "      <td>109</td>\n",
              "      <td>172335</td>\n",
              "      <td>3.0</td>\n",
              "      <td>58281</td>\n",
              "    </tr>\n",
              "    <tr>\n",
              "      <th>3</th>\n",
              "      <td>1300</td>\n",
              "      <td>109</td>\n",
              "      <td>172335</td>\n",
              "      <td>4.0</td>\n",
              "      <td>5855</td>\n",
              "    </tr>\n",
              "    <tr>\n",
              "      <th>4</th>\n",
              "      <td>1301</td>\n",
              "      <td>109</td>\n",
              "      <td>172335</td>\n",
              "      <td>5.0</td>\n",
              "      <td>4254</td>\n",
              "    </tr>\n",
              "  </tbody>\n",
              "</table>\n",
              "</div>"
            ],
            "text/plain": [
              "   ROW_ID  SUBJECT_ID  HADM_ID  SEQ_NUM ICD9_CODE\n",
              "0    1297         109   172335      1.0     40301\n",
              "1    1298         109   172335      2.0       486\n",
              "2    1299         109   172335      3.0     58281\n",
              "3    1300         109   172335      4.0      5855\n",
              "4    1301         109   172335      5.0      4254"
            ]
          },
          "execution_count": 5,
          "metadata": {},
          "output_type": "execute_result"
        }
      ],
      "source": [
        "print(\"\\nDiagnoses table, containing data about patients' diagnoses based on ICD codes:\")\n",
        "diagnoses.head()"
      ]
    },
    {
      "cell_type": "code",
      "execution_count": 6,
      "metadata": {
        "colab": {
          "base_uri": "https://localhost:8080/"
        },
        "id": "6MfGdjszMwOY",
        "outputId": "18f36449-3307-40bb-ed81-f58cbafb0f4c"
      },
      "outputs": [
        {
          "name": "stdout",
          "output_type": "stream",
          "text": [
            "\n",
            "Missing values in Admissions:\n",
            "ROW_ID                      0\n",
            "SUBJECT_ID                  0\n",
            "HADM_ID                     0\n",
            "ADMITTIME                   0\n",
            "DISCHTIME                   0\n",
            "DEATHTIME               53122\n",
            "ADMISSION_TYPE              0\n",
            "ADMISSION_LOCATION          0\n",
            "DISCHARGE_LOCATION          0\n",
            "INSURANCE                   0\n",
            "LANGUAGE                25332\n",
            "RELIGION                  458\n",
            "MARITAL_STATUS          10128\n",
            "ETHNICITY                   0\n",
            "EDREGTIME               28099\n",
            "EDOUTTIME               28099\n",
            "DIAGNOSIS                  25\n",
            "HOSPITAL_EXPIRE_FLAG        0\n",
            "HAS_CHARTEVENTS_DATA        0\n",
            "dtype: int64\n",
            "\n",
            "Missing values in Diagnoses:\n",
            "ROW_ID         0\n",
            "SUBJECT_ID     0\n",
            "HADM_ID        0\n",
            "SEQ_NUM       47\n",
            "ICD9_CODE     47\n",
            "dtype: int64\n"
          ]
        }
      ],
      "source": [
        "# checking for missing values\n",
        "print(\"\\nMissing values in Admissions:\")\n",
        "print(admissions.isnull().sum())\n",
        "\n",
        "print(\"\\nMissing values in Diagnoses:\")\n",
        "print(diagnoses.isnull().sum())"
      ]
    },
    {
      "cell_type": "code",
      "execution_count": 7,
      "metadata": {
        "id": "S4cuGBqEQJTX"
      },
      "outputs": [],
      "source": [
        "# first, remove patients with less than 2 encounters\n",
        "admissions = admissions.groupby('SUBJECT_ID').filter(lambda x: len(x['HADM_ID']) > 1)"
      ]
    },
    {
      "cell_type": "code",
      "execution_count": 8,
      "metadata": {
        "id": "lySkAOtNQs79"
      },
      "outputs": [
        {
          "data": {
            "text/plain": [
              "(19993, 19)"
            ]
          },
          "execution_count": 8,
          "metadata": {},
          "output_type": "execute_result"
        }
      ],
      "source": [
        "admissions.shape"
      ]
    },
    {
      "cell_type": "code",
      "execution_count": 9,
      "metadata": {
        "colab": {
          "base_uri": "https://localhost:8080/"
        },
        "id": "dJAKXGQfEpBt",
        "outputId": "49927115-d8f2-4e52-f0cc-60f492553e43"
      },
      "outputs": [
        {
          "name": "stdout",
          "output_type": "stream",
          "text": [
            "Number of unique patients with multiple visits: 7537\n"
          ]
        }
      ],
      "source": [
        "filtered_admissions = admissions.groupby('SUBJECT_ID').filter(lambda x: len(x['HADM_ID']) > 1)\n",
        "unique_patients_with_multiple_visits = filtered_admissions['SUBJECT_ID'].nunique()\n",
        "print(f\"Number of unique patients with multiple visits: {unique_patients_with_multiple_visits}\")"
      ]
    },
    {
      "cell_type": "code",
      "execution_count": 10,
      "metadata": {
        "colab": {
          "base_uri": "https://localhost:8080/"
        },
        "id": "KXM8CEOqFsoR",
        "outputId": "0c8955e4-f0c6-4f72-f5f0-c3672502f73d"
      },
      "outputs": [
        {
          "name": "stdout",
          "output_type": "stream",
          "text": [
            "Total number of patients: 7537\n"
          ]
        }
      ],
      "source": [
        "unique_subject_ids_count = admissions['SUBJECT_ID'].nunique()\n",
        "print(f\"Total number of patients: {unique_subject_ids_count}\")"
      ]
    },
    {
      "cell_type": "code",
      "execution_count": 11,
      "metadata": {},
      "outputs": [
        {
          "name": "stdout",
          "output_type": "stream",
          "text": [
            "    ROW_ID  SUBJECT_ID  HADM_ID           ADMITTIME           DISCHTIME  \\\n",
            "1       22          23   152223 2153-09-03 07:15:00 2153-09-08 19:10:00   \n",
            "2       23          23   124321 2157-10-18 19:34:00 2157-10-25 14:00:00   \n",
            "12      33          34   115799 2186-07-18 16:46:00 2186-07-20 16:00:00   \n",
            "13      34          34   144319 2191-02-23 05:23:00 2191-02-25 20:20:00   \n",
            "15      36          36   182104 2131-04-30 07:15:00 2131-05-08 14:00:00   \n",
            "\n",
            "   DEATHTIME ADMISSION_TYPE         ADMISSION_LOCATION DISCHARGE_LOCATION  \\\n",
            "1        NaN       ELECTIVE  PHYS REFERRAL/NORMAL DELI   HOME HEALTH CARE   \n",
            "2        NaN      EMERGENCY  TRANSFER FROM HOSP/EXTRAM   HOME HEALTH CARE   \n",
            "12       NaN      EMERGENCY  TRANSFER FROM HOSP/EXTRAM               HOME   \n",
            "13       NaN      EMERGENCY  CLINIC REFERRAL/PREMATURE   HOME HEALTH CARE   \n",
            "15       NaN      EMERGENCY  CLINIC REFERRAL/PREMATURE   HOME HEALTH CARE   \n",
            "\n",
            "   INSURANCE LANGUAGE       RELIGION MARITAL_STATUS ETHNICITY  \\\n",
            "1   Medicare      NaN       CATHOLIC        MARRIED     WHITE   \n",
            "2   Medicare     ENGL       CATHOLIC        MARRIED     WHITE   \n",
            "12  Medicare     ENGL       CATHOLIC        MARRIED     WHITE   \n",
            "13  Medicare     ENGL       CATHOLIC        MARRIED     WHITE   \n",
            "15  Medicare     ENGL  NOT SPECIFIED        MARRIED     WHITE   \n",
            "\n",
            "              EDREGTIME            EDOUTTIME  \\\n",
            "1                   NaN                  NaN   \n",
            "2                   NaN                  NaN   \n",
            "12                  NaN                  NaN   \n",
            "13  2191-02-23 04:23:00  2191-02-23 07:25:00   \n",
            "15                  NaN                  NaN   \n",
            "\n",
            "                                            DIAGNOSIS  HOSPITAL_EXPIRE_FLAG  \\\n",
            "1   CORONARY ARTERY DISEASE\\CORONARY ARTERY BYPASS...                     0   \n",
            "2                                          BRAIN MASS                     0   \n",
            "12                                    CHEST PAIN\\CATH                     0   \n",
            "13                                        BRADYCARDIA                     0   \n",
            "15  CORONARY ARTERY DISEASE\\CORONARY ARTERY BYPASS...                     0   \n",
            "\n",
            "    HAS_CHARTEVENTS_DATA  length_of_stay  \n",
            "1                      1               5  \n",
            "2                      1               6  \n",
            "12                     1               1  \n",
            "13                     1               2  \n",
            "15                     1               8  \n"
          ]
        }
      ],
      "source": [
        "# adding a column with length of stay\n",
        "admissions['ADMITTIME'] = pd.to_datetime(admissions['ADMITTIME'], format='%Y-%m-%d %H:%M:%S', errors='coerce')\n",
        "admissions['DISCHTIME'] = pd.to_datetime(admissions['DISCHTIME'], format='%Y-%m-%d %H:%M:%S', errors='coerce')\n",
        "\n",
        "admissions['length_of_stay'] = (admissions['DISCHTIME'] - admissions['ADMITTIME']).dt.days\n",
        "print(admissions.head())"
      ]
    },
    {
      "cell_type": "code",
      "execution_count": 12,
      "metadata": {
        "colab": {
          "base_uri": "https://localhost:8080/"
        },
        "id": "3_7kK80pNjul",
        "outputId": "2c0a868e-357f-41a6-a6eb-567b7cf438a1"
      },
      "outputs": [
        {
          "name": "stdout",
          "output_type": "stream",
          "text": [
            "    HADM_ID ADMISSION_TYPE                                          DIAGNOSIS  \\\n",
            "1    152223       ELECTIVE  CORONARY ARTERY DISEASE\\CORONARY ARTERY BYPASS...   \n",
            "2    124321      EMERGENCY                                         BRAIN MASS   \n",
            "12   115799      EMERGENCY                                    CHEST PAIN\\CATH   \n",
            "13   144319      EMERGENCY                                        BRADYCARDIA   \n",
            "15   182104      EMERGENCY  CORONARY ARTERY DISEASE\\CORONARY ARTERY BYPASS...   \n",
            "\n",
            "           ADMISSION_LOCATION DISCHARGE_LOCATION INSURANCE ETHNICITY  \\\n",
            "1   PHYS REFERRAL/NORMAL DELI   HOME HEALTH CARE  Medicare     WHITE   \n",
            "2   TRANSFER FROM HOSP/EXTRAM   HOME HEALTH CARE  Medicare     WHITE   \n",
            "12  TRANSFER FROM HOSP/EXTRAM               HOME  Medicare     WHITE   \n",
            "13  CLINIC REFERRAL/PREMATURE   HOME HEALTH CARE  Medicare     WHITE   \n",
            "15  CLINIC REFERRAL/PREMATURE   HOME HEALTH CARE  Medicare     WHITE   \n",
            "\n",
            "    length_of_stay  \n",
            "1                5  \n",
            "2                6  \n",
            "12               1  \n",
            "13               2  \n",
            "15               8  \n",
            "\n",
            "Missing values in selected Admissions:\n",
            "HADM_ID                0\n",
            "ADMISSION_TYPE         0\n",
            "DIAGNOSIS             23\n",
            "ADMISSION_LOCATION     0\n",
            "DISCHARGE_LOCATION     0\n",
            "INSURANCE              0\n",
            "ETHNICITY              0\n",
            "length_of_stay         0\n",
            "dtype: int64\n"
          ]
        }
      ],
      "source": [
        "# selecting only important attributes\n",
        "select_adm = ['HADM_ID', 'ADMISSION_TYPE', 'DIAGNOSIS', 'ADMISSION_LOCATION', 'DISCHARGE_LOCATION', 'INSURANCE', 'ETHNICITY', 'length_of_stay']\n",
        "\n",
        "adms = admissions[select_adm]\n",
        "print(adms.head())\n",
        "print(\"\\nMissing values in selected Admissions:\")\n",
        "print(adms.isnull().sum())"
      ]
    },
    {
      "cell_type": "code",
      "execution_count": 13,
      "metadata": {
        "colab": {
          "base_uri": "https://localhost:8080/"
        },
        "id": "KMzrsrfhUD5N",
        "outputId": "3f1dcaa6-4ca9-46ab-c43f-cc74780cf2c5"
      },
      "outputs": [
        {
          "name": "stdout",
          "output_type": "stream",
          "text": [
            "   HADM_ID ICD9_CODE\n",
            "0   172335     40301\n",
            "1   172335       486\n",
            "2   172335     58281\n",
            "3   172335      5855\n",
            "4   172335      4254\n",
            "\n",
            "Missing values in selected Diagnoses:\n",
            "HADM_ID       0\n",
            "ICD9_CODE    47\n",
            "dtype: int64\n"
          ]
        }
      ],
      "source": [
        "# for diagnosis, hospital admission id, and icd-9 codes\n",
        "# goal: diagnose HF in an admission\n",
        "diags = diagnoses[['HADM_ID','ICD9_CODE']]\n",
        "print(diags.head())\n",
        "print(\"\\nMissing values in selected Diagnoses:\")\n",
        "print(diags.isnull().sum())"
      ]
    },
    {
      "cell_type": "code",
      "execution_count": 14,
      "metadata": {
        "colab": {
          "base_uri": "https://localhost:8080/",
          "height": 206
        },
        "id": "xXqpRGr4VNCp",
        "outputId": "ae6d2131-68d7-41e5-9f33-fe5a373b39e7"
      },
      "outputs": [
        {
          "data": {
            "text/html": [
              "<div>\n",
              "<style scoped>\n",
              "    .dataframe tbody tr th:only-of-type {\n",
              "        vertical-align: middle;\n",
              "    }\n",
              "\n",
              "    .dataframe tbody tr th {\n",
              "        vertical-align: top;\n",
              "    }\n",
              "\n",
              "    .dataframe thead th {\n",
              "        text-align: right;\n",
              "    }\n",
              "</style>\n",
              "<table border=\"1\" class=\"dataframe\">\n",
              "  <thead>\n",
              "    <tr style=\"text-align: right;\">\n",
              "      <th></th>\n",
              "      <th>HADM_ID</th>\n",
              "      <th>ICD9_CODE</th>\n",
              "      <th>heart_failure</th>\n",
              "    </tr>\n",
              "  </thead>\n",
              "  <tbody>\n",
              "    <tr>\n",
              "      <th>0</th>\n",
              "      <td>172335</td>\n",
              "      <td>40301</td>\n",
              "      <td>0</td>\n",
              "    </tr>\n",
              "    <tr>\n",
              "      <th>1</th>\n",
              "      <td>172335</td>\n",
              "      <td>486</td>\n",
              "      <td>0</td>\n",
              "    </tr>\n",
              "    <tr>\n",
              "      <th>2</th>\n",
              "      <td>172335</td>\n",
              "      <td>58281</td>\n",
              "      <td>0</td>\n",
              "    </tr>\n",
              "    <tr>\n",
              "      <th>3</th>\n",
              "      <td>172335</td>\n",
              "      <td>5855</td>\n",
              "      <td>0</td>\n",
              "    </tr>\n",
              "    <tr>\n",
              "      <th>4</th>\n",
              "      <td>172335</td>\n",
              "      <td>4254</td>\n",
              "      <td>1</td>\n",
              "    </tr>\n",
              "  </tbody>\n",
              "</table>\n",
              "</div>"
            ],
            "text/plain": [
              "   HADM_ID ICD9_CODE  heart_failure\n",
              "0   172335     40301              0\n",
              "1   172335       486              0\n",
              "2   172335     58281              0\n",
              "3   172335      5855              0\n",
              "4   172335      4254              1"
            ]
          },
          "execution_count": 14,
          "metadata": {},
          "output_type": "execute_result"
        }
      ],
      "source": [
        "# extracting heart failure diagnosis for binary labels\n",
        "hf_icd9_codes = ['4250', '4251', '4252', '4253', '4254', '4255', '4257', '4258', '4259', '42983',\n",
        "                 '42830', '42832', '42840', '42842',\n",
        "                 '39891', '4280', '4281', '42820', '42822', '4289',\n",
        "                 '40211', '40291',\n",
        "                 '40411', '40491',\n",
        "                 '4168', '4169'\n",
        "                 ]\n",
        "\n",
        "# new binary label column indicating heart failure = 1\n",
        "diags = diagnoses[['HADM_ID', 'ICD9_CODE']].copy()\n",
        "diags['heart_failure'] = diags['ICD9_CODE'].isin(hf_icd9_codes).astype(int)\n",
        "diags.head()"
      ]
    },
    {
      "cell_type": "code",
      "execution_count": 15,
      "metadata": {},
      "outputs": [
        {
          "data": {
            "text/html": [
              "<div>\n",
              "<style scoped>\n",
              "    .dataframe tbody tr th:only-of-type {\n",
              "        vertical-align: middle;\n",
              "    }\n",
              "\n",
              "    .dataframe tbody tr th {\n",
              "        vertical-align: top;\n",
              "    }\n",
              "\n",
              "    .dataframe thead th {\n",
              "        text-align: right;\n",
              "    }\n",
              "</style>\n",
              "<table border=\"1\" class=\"dataframe\">\n",
              "  <thead>\n",
              "    <tr style=\"text-align: right;\">\n",
              "      <th></th>\n",
              "      <th>HADM_ID</th>\n",
              "      <th>heart_failure</th>\n",
              "    </tr>\n",
              "  </thead>\n",
              "  <tbody>\n",
              "    <tr>\n",
              "      <th>0</th>\n",
              "      <td>100001</td>\n",
              "      <td>0</td>\n",
              "    </tr>\n",
              "    <tr>\n",
              "      <th>1</th>\n",
              "      <td>100003</td>\n",
              "      <td>0</td>\n",
              "    </tr>\n",
              "    <tr>\n",
              "      <th>2</th>\n",
              "      <td>100006</td>\n",
              "      <td>0</td>\n",
              "    </tr>\n",
              "    <tr>\n",
              "      <th>3</th>\n",
              "      <td>100007</td>\n",
              "      <td>0</td>\n",
              "    </tr>\n",
              "    <tr>\n",
              "      <th>4</th>\n",
              "      <td>100009</td>\n",
              "      <td>0</td>\n",
              "    </tr>\n",
              "  </tbody>\n",
              "</table>\n",
              "</div>"
            ],
            "text/plain": [
              "   HADM_ID  heart_failure\n",
              "0   100001              0\n",
              "1   100003              0\n",
              "2   100006              0\n",
              "3   100007              0\n",
              "4   100009              0"
            ]
          },
          "execution_count": 15,
          "metadata": {},
          "output_type": "execute_result"
        }
      ],
      "source": [
        "diags = diags.groupby('HADM_ID').agg({\n",
        "    'heart_failure': 'max'\n",
        "}).reset_index()\n",
        "diags.head()"
      ]
    },
    {
      "cell_type": "code",
      "execution_count": 16,
      "metadata": {
        "colab": {
          "base_uri": "https://localhost:8080/",
          "height": 270
        },
        "id": "LhweDR53Wose",
        "outputId": "fb5ca830-1f9f-4b23-e093-361472fd2bb3"
      },
      "outputs": [
        {
          "data": {
            "text/html": [
              "<div>\n",
              "<style scoped>\n",
              "    .dataframe tbody tr th:only-of-type {\n",
              "        vertical-align: middle;\n",
              "    }\n",
              "\n",
              "    .dataframe tbody tr th {\n",
              "        vertical-align: top;\n",
              "    }\n",
              "\n",
              "    .dataframe thead th {\n",
              "        text-align: right;\n",
              "    }\n",
              "</style>\n",
              "<table border=\"1\" class=\"dataframe\">\n",
              "  <thead>\n",
              "    <tr style=\"text-align: right;\">\n",
              "      <th></th>\n",
              "      <th>HADM_ID</th>\n",
              "      <th>ADMISSION_TYPE</th>\n",
              "      <th>DIAGNOSIS</th>\n",
              "      <th>ADMISSION_LOCATION</th>\n",
              "      <th>DISCHARGE_LOCATION</th>\n",
              "      <th>INSURANCE</th>\n",
              "      <th>ETHNICITY</th>\n",
              "      <th>length_of_stay</th>\n",
              "      <th>heart_failure</th>\n",
              "    </tr>\n",
              "  </thead>\n",
              "  <tbody>\n",
              "    <tr>\n",
              "      <th>0</th>\n",
              "      <td>152223</td>\n",
              "      <td>ELECTIVE</td>\n",
              "      <td>CORONARY ARTERY DISEASE\\CORONARY ARTERY BYPASS...</td>\n",
              "      <td>PHYS REFERRAL/NORMAL DELI</td>\n",
              "      <td>HOME HEALTH CARE</td>\n",
              "      <td>Medicare</td>\n",
              "      <td>WHITE</td>\n",
              "      <td>5</td>\n",
              "      <td>0</td>\n",
              "    </tr>\n",
              "    <tr>\n",
              "      <th>1</th>\n",
              "      <td>124321</td>\n",
              "      <td>EMERGENCY</td>\n",
              "      <td>BRAIN MASS</td>\n",
              "      <td>TRANSFER FROM HOSP/EXTRAM</td>\n",
              "      <td>HOME HEALTH CARE</td>\n",
              "      <td>Medicare</td>\n",
              "      <td>WHITE</td>\n",
              "      <td>6</td>\n",
              "      <td>0</td>\n",
              "    </tr>\n",
              "    <tr>\n",
              "      <th>2</th>\n",
              "      <td>115799</td>\n",
              "      <td>EMERGENCY</td>\n",
              "      <td>CHEST PAIN\\CATH</td>\n",
              "      <td>TRANSFER FROM HOSP/EXTRAM</td>\n",
              "      <td>HOME</td>\n",
              "      <td>Medicare</td>\n",
              "      <td>WHITE</td>\n",
              "      <td>1</td>\n",
              "      <td>1</td>\n",
              "    </tr>\n",
              "    <tr>\n",
              "      <th>3</th>\n",
              "      <td>144319</td>\n",
              "      <td>EMERGENCY</td>\n",
              "      <td>BRADYCARDIA</td>\n",
              "      <td>CLINIC REFERRAL/PREMATURE</td>\n",
              "      <td>HOME HEALTH CARE</td>\n",
              "      <td>Medicare</td>\n",
              "      <td>WHITE</td>\n",
              "      <td>2</td>\n",
              "      <td>1</td>\n",
              "    </tr>\n",
              "    <tr>\n",
              "      <th>4</th>\n",
              "      <td>182104</td>\n",
              "      <td>EMERGENCY</td>\n",
              "      <td>CORONARY ARTERY DISEASE\\CORONARY ARTERY BYPASS...</td>\n",
              "      <td>CLINIC REFERRAL/PREMATURE</td>\n",
              "      <td>HOME HEALTH CARE</td>\n",
              "      <td>Medicare</td>\n",
              "      <td>WHITE</td>\n",
              "      <td>8</td>\n",
              "      <td>0</td>\n",
              "    </tr>\n",
              "  </tbody>\n",
              "</table>\n",
              "</div>"
            ],
            "text/plain": [
              "   HADM_ID ADMISSION_TYPE                                          DIAGNOSIS  \\\n",
              "0   152223       ELECTIVE  CORONARY ARTERY DISEASE\\CORONARY ARTERY BYPASS...   \n",
              "1   124321      EMERGENCY                                         BRAIN MASS   \n",
              "2   115799      EMERGENCY                                    CHEST PAIN\\CATH   \n",
              "3   144319      EMERGENCY                                        BRADYCARDIA   \n",
              "4   182104      EMERGENCY  CORONARY ARTERY DISEASE\\CORONARY ARTERY BYPASS...   \n",
              "\n",
              "          ADMISSION_LOCATION DISCHARGE_LOCATION INSURANCE ETHNICITY  \\\n",
              "0  PHYS REFERRAL/NORMAL DELI   HOME HEALTH CARE  Medicare     WHITE   \n",
              "1  TRANSFER FROM HOSP/EXTRAM   HOME HEALTH CARE  Medicare     WHITE   \n",
              "2  TRANSFER FROM HOSP/EXTRAM               HOME  Medicare     WHITE   \n",
              "3  CLINIC REFERRAL/PREMATURE   HOME HEALTH CARE  Medicare     WHITE   \n",
              "4  CLINIC REFERRAL/PREMATURE   HOME HEALTH CARE  Medicare     WHITE   \n",
              "\n",
              "   length_of_stay  heart_failure  \n",
              "0               5              0  \n",
              "1               6              0  \n",
              "2               1              1  \n",
              "3               2              1  \n",
              "4               8              0  "
            ]
          },
          "execution_count": 16,
          "metadata": {},
          "output_type": "execute_result"
        }
      ],
      "source": [
        "# merging data in a single dataframe\n",
        "mimic_hf = pd.merge(adms, diags, on=['HADM_ID'], how='inner')\n",
        "mimic_hf.head()"
      ]
    },
    {
      "cell_type": "code",
      "execution_count": 17,
      "metadata": {
        "colab": {
          "base_uri": "https://localhost:8080/"
        },
        "id": "l5tiuH5EWTm1",
        "outputId": "1f23db62-e4b0-4e37-937c-4dd3e92f1cfc"
      },
      "outputs": [
        {
          "name": "stdout",
          "output_type": "stream",
          "text": [
            "\n",
            "Frequencies of heart failure (1 = prevalence in an encounter; 0 = non-prevalence):\n",
            "heart_failure\n",
            "0    12410\n",
            "1     7583\n",
            "Name: count, dtype: int64)\n"
          ]
        }
      ],
      "source": [
        "heart_failure_frequencies = mimic_hf['heart_failure'].value_counts()\n",
        "print(f\"\\nFrequencies of heart failure (1 = prevalence in an encounter; 0 = non-prevalence):\\n{heart_failure_frequencies})\")"
      ]
    },
    {
      "cell_type": "code",
      "execution_count": 18,
      "metadata": {
        "colab": {
          "base_uri": "https://localhost:8080/",
          "height": 472
        },
        "id": "uVpmdCzJOOG7",
        "outputId": "6a73a281-1dae-4706-a37f-60ea7491f41c"
      },
      "outputs": [
        {
          "data": {
            "image/png": "[encoded data removed]",
            "text/plain": [
              "<Figure size 640x480 with 1 Axes>"
            ]
          },
          "metadata": {},
          "output_type": "display_data"
        }
      ],
      "source": [
        "# visualizing the classes\n",
        "import matplotlib.pyplot as plt\n",
        "\n",
        "# hf percentages in dataset\n",
        "total = sum(heart_failure_frequencies)\n",
        "percentages = (heart_failure_frequencies / total) * 100\n",
        "\n",
        "# hf value counts\n",
        "ax = heart_failure_frequencies.plot(kind='bar', color='black')\n",
        "plt.title('Heart failure frequencies')\n",
        "plt.xlabel('Heart failure ocurrence')\n",
        "plt.ylabel('Count')\n",
        "plt.xticks(rotation=0)\n",
        "\n",
        "# annotating bars\n",
        "for idx, rect in enumerate(ax.patches):\n",
        "    height = rect.get_height()\n",
        "    ax.text(rect.get_x() + rect.get_width()/2., height + 5,\n",
        "            '{:.1f}%'.format(percentages[idx]),\n",
        "            ha='center', va='bottom', color='black')\n",
        "\n",
        "plt.show()"
      ]
    },
    {
      "cell_type": "code",
      "execution_count": 19,
      "metadata": {},
      "outputs": [
        {
          "data": {
            "text/plain": [
              "tensor([1.6366])"
            ]
          },
          "execution_count": 19,
          "metadata": {},
          "output_type": "execute_result"
        }
      ],
      "source": [
        "# [for optional weighted loss] calculating pos_weight based on heart_failure_frequencies\n",
        "import torch \n",
        "\n",
        "non_hf_frequency = heart_failure_frequencies[0]\n",
        "hf_frequency = heart_failure_frequencies[1]\n",
        "\n",
        "pos_weight = torch.tensor([non_hf_frequency / hf_frequency], dtype=torch.float32)\n",
        "pos_weight"
      ]
    },
    {
      "cell_type": "code",
      "execution_count": 20,
      "metadata": {
        "colab": {
          "base_uri": "https://localhost:8080/"
        },
        "id": "wQusCHPafgv7",
        "outputId": "364ad26b-803a-46d8-d72a-9407e49b2886"
      },
      "outputs": [
        {
          "data": {
            "text/plain": [
              "(19993, 9)"
            ]
          },
          "execution_count": 20,
          "metadata": {},
          "output_type": "execute_result"
        }
      ],
      "source": [
        "mimic_hf.shape"
      ]
    },
    {
      "cell_type": "code",
      "execution_count": 21,
      "metadata": {
        "colab": {
          "base_uri": "https://localhost:8080/"
        },
        "id": "UDcswt_snMKc",
        "outputId": "3c6ceb86-0f29-4970-991e-b5a1c1588e7b"
      },
      "outputs": [
        {
          "data": {
            "text/html": [
              "<div>\n",
              "<style scoped>\n",
              "    .dataframe tbody tr th:only-of-type {\n",
              "        vertical-align: middle;\n",
              "    }\n",
              "\n",
              "    .dataframe tbody tr th {\n",
              "        vertical-align: top;\n",
              "    }\n",
              "\n",
              "    .dataframe thead th {\n",
              "        text-align: right;\n",
              "    }\n",
              "</style>\n",
              "<table border=\"1\" class=\"dataframe\">\n",
              "  <thead>\n",
              "    <tr style=\"text-align: right;\">\n",
              "      <th></th>\n",
              "      <th>HADM_ID</th>\n",
              "      <th>ADMISSION_TYPE</th>\n",
              "      <th>DIAGNOSIS</th>\n",
              "      <th>ADMISSION_LOCATION</th>\n",
              "      <th>DISCHARGE_LOCATION</th>\n",
              "      <th>INSURANCE</th>\n",
              "      <th>ETHNICITY</th>\n",
              "      <th>length_of_stay</th>\n",
              "      <th>heart_failure</th>\n",
              "    </tr>\n",
              "  </thead>\n",
              "  <tbody>\n",
              "    <tr>\n",
              "      <th>0</th>\n",
              "      <td>152223</td>\n",
              "      <td>ELECTIVE</td>\n",
              "      <td>CORONARY ARTERY DISEASE\\CORONARY ARTERY BYPASS...</td>\n",
              "      <td>PHYS REFERRAL/NORMAL DELI</td>\n",
              "      <td>HOME HEALTH CARE</td>\n",
              "      <td>Medicare</td>\n",
              "      <td>WHITE</td>\n",
              "      <td>-0.428852</td>\n",
              "      <td>0</td>\n",
              "    </tr>\n",
              "    <tr>\n",
              "      <th>1</th>\n",
              "      <td>124321</td>\n",
              "      <td>EMERGENCY</td>\n",
              "      <td>BRAIN MASS</td>\n",
              "      <td>TRANSFER FROM HOSP/EXTRAM</td>\n",
              "      <td>HOME HEALTH CARE</td>\n",
              "      <td>Medicare</td>\n",
              "      <td>WHITE</td>\n",
              "      <td>-0.346227</td>\n",
              "      <td>0</td>\n",
              "    </tr>\n",
              "    <tr>\n",
              "      <th>2</th>\n",
              "      <td>115799</td>\n",
              "      <td>EMERGENCY</td>\n",
              "      <td>CHEST PAIN\\CATH</td>\n",
              "      <td>TRANSFER FROM HOSP/EXTRAM</td>\n",
              "      <td>HOME</td>\n",
              "      <td>Medicare</td>\n",
              "      <td>WHITE</td>\n",
              "      <td>-0.759354</td>\n",
              "      <td>1</td>\n",
              "    </tr>\n",
              "    <tr>\n",
              "      <th>3</th>\n",
              "      <td>144319</td>\n",
              "      <td>EMERGENCY</td>\n",
              "      <td>BRADYCARDIA</td>\n",
              "      <td>CLINIC REFERRAL/PREMATURE</td>\n",
              "      <td>HOME HEALTH CARE</td>\n",
              "      <td>Medicare</td>\n",
              "      <td>WHITE</td>\n",
              "      <td>-0.676729</td>\n",
              "      <td>1</td>\n",
              "    </tr>\n",
              "    <tr>\n",
              "      <th>4</th>\n",
              "      <td>182104</td>\n",
              "      <td>EMERGENCY</td>\n",
              "      <td>CORONARY ARTERY DISEASE\\CORONARY ARTERY BYPASS...</td>\n",
              "      <td>CLINIC REFERRAL/PREMATURE</td>\n",
              "      <td>HOME HEALTH CARE</td>\n",
              "      <td>Medicare</td>\n",
              "      <td>WHITE</td>\n",
              "      <td>-0.180976</td>\n",
              "      <td>0</td>\n",
              "    </tr>\n",
              "  </tbody>\n",
              "</table>\n",
              "</div>"
            ],
            "text/plain": [
              "   HADM_ID ADMISSION_TYPE                                          DIAGNOSIS  \\\n",
              "0   152223       ELECTIVE  CORONARY ARTERY DISEASE\\CORONARY ARTERY BYPASS...   \n",
              "1   124321      EMERGENCY                                         BRAIN MASS   \n",
              "2   115799      EMERGENCY                                    CHEST PAIN\\CATH   \n",
              "3   144319      EMERGENCY                                        BRADYCARDIA   \n",
              "4   182104      EMERGENCY  CORONARY ARTERY DISEASE\\CORONARY ARTERY BYPASS...   \n",
              "\n",
              "          ADMISSION_LOCATION DISCHARGE_LOCATION INSURANCE ETHNICITY  \\\n",
              "0  PHYS REFERRAL/NORMAL DELI   HOME HEALTH CARE  Medicare     WHITE   \n",
              "1  TRANSFER FROM HOSP/EXTRAM   HOME HEALTH CARE  Medicare     WHITE   \n",
              "2  TRANSFER FROM HOSP/EXTRAM               HOME  Medicare     WHITE   \n",
              "3  CLINIC REFERRAL/PREMATURE   HOME HEALTH CARE  Medicare     WHITE   \n",
              "4  CLINIC REFERRAL/PREMATURE   HOME HEALTH CARE  Medicare     WHITE   \n",
              "\n",
              "   length_of_stay  heart_failure  \n",
              "0       -0.428852              0  \n",
              "1       -0.346227              0  \n",
              "2       -0.759354              1  \n",
              "3       -0.676729              1  \n",
              "4       -0.180976              0  "
            ]
          },
          "execution_count": 21,
          "metadata": {},
          "output_type": "execute_result"
        }
      ],
      "source": [
        "from sklearn.preprocessing import StandardScaler\n",
        "scaler = StandardScaler()\n",
        "\n",
        "# scaling numerical length_of_stay column\n",
        "mimic_hf['length_of_stay_scaled'] = scaler.fit_transform(mimic_hf[['length_of_stay']])\n",
        "\n",
        "# replacing the original length_of_stay column with the scaled values\n",
        "mimic_hf['length_of_stay'] = mimic_hf['length_of_stay_scaled']\n",
        "\n",
        "# dropping length_of_stay_scaled column\n",
        "mimic_hf = mimic_hf.drop('length_of_stay_scaled', axis=1)\n",
        "mimic_hf.head()"
      ]
    },
    {
      "cell_type": "code",
      "execution_count": 22,
      "metadata": {},
      "outputs": [
        {
          "name": "stdout",
          "output_type": "stream",
          "text": [
            "\n",
            "Missing values in mimic_hf:\n",
            "HADM_ID                0\n",
            "ADMISSION_TYPE         0\n",
            "DIAGNOSIS             23\n",
            "ADMISSION_LOCATION     0\n",
            "DISCHARGE_LOCATION     0\n",
            "INSURANCE              0\n",
            "ETHNICITY              0\n",
            "length_of_stay         0\n",
            "heart_failure          0\n",
            "dtype: int64\n"
          ]
        }
      ],
      "source": [
        "print(\"\\nMissing values in mimic_hf:\")\n",
        "print(mimic_hf.isnull().sum())"
      ]
    },
    {
      "cell_type": "code",
      "execution_count": 23,
      "metadata": {},
      "outputs": [],
      "source": [
        "mimic_hf = mimic_hf.dropna(subset=['DIAGNOSIS']) # dropping entries that have missing values for diagnosis (not that many)"
      ]
    },
    {
      "cell_type": "code",
      "execution_count": 24,
      "metadata": {},
      "outputs": [
        {
          "name": "stdout",
          "output_type": "stream",
          "text": [
            "\n",
            "Missing values in mimic_hf:\n",
            "HADM_ID               0\n",
            "ADMISSION_TYPE        0\n",
            "DIAGNOSIS             0\n",
            "ADMISSION_LOCATION    0\n",
            "DISCHARGE_LOCATION    0\n",
            "INSURANCE             0\n",
            "ETHNICITY             0\n",
            "length_of_stay        0\n",
            "heart_failure         0\n",
            "dtype: int64\n"
          ]
        }
      ],
      "source": [
        "# check for missing values, there shouldnt be any now\n",
        "print(\"\\nMissing values in mimic_hf:\")\n",
        "print(mimic_hf.isnull().sum())"
      ]
    },
    {
      "cell_type": "markdown",
      "metadata": {},
      "source": [
        "### Feature analysis"
      ]
    },
    {
      "cell_type": "code",
      "execution_count": 25,
      "metadata": {},
      "outputs": [
        {
          "data": {
            "image/png": "[encoded data removed]",
            "text/plain": [
              "<Figure size 1200x600 with 1 Axes>"
            ]
          },
          "metadata": {},
          "output_type": "display_data"
        }
      ],
      "source": [
        "from sklearn.preprocessing import LabelEncoder\n",
        "from sklearn.ensemble import RandomForestClassifier\n",
        "from sklearn.feature_selection import mutual_info_classif\n",
        "import matplotlib.pyplot as plt\n",
        "\n",
        "# label encoding for categoricals\n",
        "label_encoders = {}\n",
        "categorical_columns = ['ADMISSION_TYPE', 'DIAGNOSIS', 'ADMISSION_LOCATION', 'DISCHARGE_LOCATION', 'INSURANCE', 'ETHNICITY']\n",
        "\n",
        "for col in categorical_columns:\n",
        "    le = LabelEncoder()\n",
        "    mimic_hf[col] = le.fit_transform(mimic_hf[col])\n",
        "    label_encoders[col] = le\n",
        "\n",
        "# feature importance analysis w random forest\n",
        "X = mimic_hf.drop(columns=['HADM_ID', 'heart_failure'])\n",
        "y = mimic_hf['heart_failure']\n",
        "\n",
        "clf = RandomForestClassifier()\n",
        "clf.fit(X, y)\n",
        "importances_rf = clf.feature_importances_\n",
        "\n",
        "# feature importance analysis w mutual information\n",
        "mi = mutual_info_classif(X, y)\n",
        "\n",
        "# visualizing feature importance, in terms of heart_failure column\n",
        "features = X.columns\n",
        "\n",
        "plt.figure(figsize=(12, 6))\n",
        "plt.bar(features, importances_rf, label=\"Random Forest\", alpha=0.6)\n",
        "plt.bar(features, mi, label=\"Mutual Information\", alpha=0.6)\n",
        "plt.ylabel(\"Importance\")\n",
        "plt.xlabel(\"Features\")\n",
        "plt.title(\"Feature Importance Comparison\")\n",
        "plt.xticks(rotation=45)\n",
        "plt.legend()\n",
        "plt.show()\n"
      ]
    },
    {
      "cell_type": "markdown",
      "metadata": {},
      "source": [
        "### Preprocessing"
      ]
    },
    {
      "cell_type": "code",
      "execution_count": 26,
      "metadata": {
        "colab": {
          "base_uri": "https://localhost:8080/",
          "height": 317
        },
        "id": "l93wc64Cmq1r",
        "outputId": "330638eb-5861-44bd-98ed-9beee4e44659"
      },
      "outputs": [
        {
          "data": {
            "text/html": [
              "<div>\n",
              "<style scoped>\n",
              "    .dataframe tbody tr th:only-of-type {\n",
              "        vertical-align: middle;\n",
              "    }\n",
              "\n",
              "    .dataframe tbody tr th {\n",
              "        vertical-align: top;\n",
              "    }\n",
              "\n",
              "    .dataframe thead th {\n",
              "        text-align: right;\n",
              "    }\n",
              "</style>\n",
              "<table border=\"1\" class=\"dataframe\">\n",
              "  <thead>\n",
              "    <tr style=\"text-align: right;\">\n",
              "      <th></th>\n",
              "      <th>HADM_ID</th>\n",
              "      <th>length_of_stay</th>\n",
              "      <th>heart_failure</th>\n",
              "      <th>ADMISSION_TYPE_0</th>\n",
              "      <th>ADMISSION_TYPE_1</th>\n",
              "      <th>ADMISSION_TYPE_2</th>\n",
              "      <th>ADMISSION_TYPE_3</th>\n",
              "      <th>DIAGNOSIS_0</th>\n",
              "      <th>DIAGNOSIS_1</th>\n",
              "      <th>DIAGNOSIS_2</th>\n",
              "      <th>...</th>\n",
              "      <th>ETHNICITY_29</th>\n",
              "      <th>ETHNICITY_30</th>\n",
              "      <th>ETHNICITY_31</th>\n",
              "      <th>ETHNICITY_32</th>\n",
              "      <th>ETHNICITY_33</th>\n",
              "      <th>ETHNICITY_34</th>\n",
              "      <th>ETHNICITY_35</th>\n",
              "      <th>ETHNICITY_36</th>\n",
              "      <th>ETHNICITY_37</th>\n",
              "      <th>ETHNICITY_38</th>\n",
              "    </tr>\n",
              "  </thead>\n",
              "  <tbody>\n",
              "    <tr>\n",
              "      <th>0</th>\n",
              "      <td>152223</td>\n",
              "      <td>-0.428852</td>\n",
              "      <td>0</td>\n",
              "      <td>1</td>\n",
              "      <td>0</td>\n",
              "      <td>0</td>\n",
              "      <td>0</td>\n",
              "      <td>0</td>\n",
              "      <td>0</td>\n",
              "      <td>0</td>\n",
              "      <td>...</td>\n",
              "      <td>0</td>\n",
              "      <td>0</td>\n",
              "      <td>0</td>\n",
              "      <td>0</td>\n",
              "      <td>0</td>\n",
              "      <td>1</td>\n",
              "      <td>0</td>\n",
              "      <td>0</td>\n",
              "      <td>0</td>\n",
              "      <td>0</td>\n",
              "    </tr>\n",
              "    <tr>\n",
              "      <th>1</th>\n",
              "      <td>124321</td>\n",
              "      <td>-0.346227</td>\n",
              "      <td>0</td>\n",
              "      <td>0</td>\n",
              "      <td>1</td>\n",
              "      <td>0</td>\n",
              "      <td>0</td>\n",
              "      <td>0</td>\n",
              "      <td>0</td>\n",
              "      <td>0</td>\n",
              "      <td>...</td>\n",
              "      <td>0</td>\n",
              "      <td>0</td>\n",
              "      <td>0</td>\n",
              "      <td>0</td>\n",
              "      <td>0</td>\n",
              "      <td>1</td>\n",
              "      <td>0</td>\n",
              "      <td>0</td>\n",
              "      <td>0</td>\n",
              "      <td>0</td>\n",
              "    </tr>\n",
              "    <tr>\n",
              "      <th>2</th>\n",
              "      <td>115799</td>\n",
              "      <td>-0.759354</td>\n",
              "      <td>1</td>\n",
              "      <td>0</td>\n",
              "      <td>1</td>\n",
              "      <td>0</td>\n",
              "      <td>0</td>\n",
              "      <td>0</td>\n",
              "      <td>0</td>\n",
              "      <td>0</td>\n",
              "      <td>...</td>\n",
              "      <td>0</td>\n",
              "      <td>0</td>\n",
              "      <td>0</td>\n",
              "      <td>0</td>\n",
              "      <td>0</td>\n",
              "      <td>1</td>\n",
              "      <td>0</td>\n",
              "      <td>0</td>\n",
              "      <td>0</td>\n",
              "      <td>0</td>\n",
              "    </tr>\n",
              "    <tr>\n",
              "      <th>3</th>\n",
              "      <td>144319</td>\n",
              "      <td>-0.676729</td>\n",
              "      <td>1</td>\n",
              "      <td>0</td>\n",
              "      <td>1</td>\n",
              "      <td>0</td>\n",
              "      <td>0</td>\n",
              "      <td>0</td>\n",
              "      <td>0</td>\n",
              "      <td>0</td>\n",
              "      <td>...</td>\n",
              "      <td>0</td>\n",
              "      <td>0</td>\n",
              "      <td>0</td>\n",
              "      <td>0</td>\n",
              "      <td>0</td>\n",
              "      <td>1</td>\n",
              "      <td>0</td>\n",
              "      <td>0</td>\n",
              "      <td>0</td>\n",
              "      <td>0</td>\n",
              "    </tr>\n",
              "    <tr>\n",
              "      <th>4</th>\n",
              "      <td>182104</td>\n",
              "      <td>-0.180976</td>\n",
              "      <td>0</td>\n",
              "      <td>0</td>\n",
              "      <td>1</td>\n",
              "      <td>0</td>\n",
              "      <td>0</td>\n",
              "      <td>0</td>\n",
              "      <td>0</td>\n",
              "      <td>0</td>\n",
              "      <td>...</td>\n",
              "      <td>0</td>\n",
              "      <td>0</td>\n",
              "      <td>0</td>\n",
              "      <td>0</td>\n",
              "      <td>0</td>\n",
              "      <td>1</td>\n",
              "      <td>0</td>\n",
              "      <td>0</td>\n",
              "      <td>0</td>\n",
              "      <td>0</td>\n",
              "    </tr>\n",
              "  </tbody>\n",
              "</table>\n",
              "<p>5 rows × 6983 columns</p>\n",
              "</div>"
            ],
            "text/plain": [
              "   HADM_ID  length_of_stay  heart_failure  ADMISSION_TYPE_0  ADMISSION_TYPE_1  \\\n",
              "0   152223       -0.428852              0                 1                 0   \n",
              "1   124321       -0.346227              0                 0                 1   \n",
              "2   115799       -0.759354              1                 0                 1   \n",
              "3   144319       -0.676729              1                 0                 1   \n",
              "4   182104       -0.180976              0                 0                 1   \n",
              "\n",
              "   ADMISSION_TYPE_2  ADMISSION_TYPE_3  DIAGNOSIS_0  DIAGNOSIS_1  DIAGNOSIS_2  \\\n",
              "0                 0                 0            0            0            0   \n",
              "1                 0                 0            0            0            0   \n",
              "2                 0                 0            0            0            0   \n",
              "3                 0                 0            0            0            0   \n",
              "4                 0                 0            0            0            0   \n",
              "\n",
              "   ...  ETHNICITY_29  ETHNICITY_30  ETHNICITY_31  ETHNICITY_32  ETHNICITY_33  \\\n",
              "0  ...             0             0             0             0             0   \n",
              "1  ...             0             0             0             0             0   \n",
              "2  ...             0             0             0             0             0   \n",
              "3  ...             0             0             0             0             0   \n",
              "4  ...             0             0             0             0             0   \n",
              "\n",
              "   ETHNICITY_34  ETHNICITY_35  ETHNICITY_36  ETHNICITY_37  ETHNICITY_38  \n",
              "0             1             0             0             0             0  \n",
              "1             1             0             0             0             0  \n",
              "2             1             0             0             0             0  \n",
              "3             1             0             0             0             0  \n",
              "4             1             0             0             0             0  \n",
              "\n",
              "[5 rows x 6983 columns]"
            ]
          },
          "execution_count": 26,
          "metadata": {},
          "output_type": "execute_result"
        }
      ],
      "source": [
        "# transforming categorical data into one-hot\n",
        "categorical = ['ADMISSION_TYPE', 'DIAGNOSIS', 'ADMISSION_TYPE', 'ADMISSION_LOCATION', 'DISCHARGE_LOCATION', 'INSURANCE', 'ETHNICITY']\n",
        "mimic_hf = pd.get_dummies(mimic_hf, columns=categorical)\n",
        "mimic_hf = mimic_hf * 1\n",
        "mimic_hf.head()"
      ]
    },
    {
      "cell_type": "code",
      "execution_count": 27,
      "metadata": {
        "id": "D4id3QnYoEz_"
      },
      "outputs": [],
      "source": [
        "from sklearn.model_selection import train_test_split\n",
        "X = mimic_hf.drop(columns=['heart_failure'])\n",
        "y = mimic_hf['heart_failure']"
      ]
    },
    {
      "cell_type": "code",
      "execution_count": 28,
      "metadata": {
        "colab": {
          "base_uri": "https://localhost:8080/"
        },
        "id": "3BmK5-0LoR38",
        "outputId": "ae925bf9-97ce-4220-ace8-4173c6cc6457"
      },
      "outputs": [
        {
          "data": {
            "text/plain": [
              "(19970, 19970)"
            ]
          },
          "execution_count": 28,
          "metadata": {},
          "output_type": "execute_result"
        }
      ],
      "source": [
        "len(X), len(y) # no. samples"
      ]
    },
    {
      "cell_type": "code",
      "execution_count": 29,
      "metadata": {
        "colab": {
          "base_uri": "https://localhost:8080/"
        },
        "id": "RXEO-gLjoTlq",
        "outputId": "f5f28bff-459c-4011-bc03-e2c3d9762f47"
      },
      "outputs": [
        {
          "name": "stdout",
          "output_type": "stream",
          "text": [
            "First 5 samples of X:    HADM_ID  length_of_stay  ADMISSION_TYPE_0  ADMISSION_TYPE_1  \\\n",
            "0   152223       -0.428852                 1                 0   \n",
            "1   124321       -0.346227                 0                 1   \n",
            "2   115799       -0.759354                 0                 1   \n",
            "3   144319       -0.676729                 0                 1   \n",
            "4   182104       -0.180976                 0                 1   \n",
            "\n",
            "   ADMISSION_TYPE_2  ADMISSION_TYPE_3  DIAGNOSIS_0  DIAGNOSIS_1  DIAGNOSIS_2  \\\n",
            "0                 0                 0            0            0            0   \n",
            "1                 0                 0            0            0            0   \n",
            "2                 0                 0            0            0            0   \n",
            "3                 0                 0            0            0            0   \n",
            "4                 0                 0            0            0            0   \n",
            "\n",
            "   DIAGNOSIS_3  ...  ETHNICITY_29  ETHNICITY_30  ETHNICITY_31  ETHNICITY_32  \\\n",
            "0            0  ...             0             0             0             0   \n",
            "1            0  ...             0             0             0             0   \n",
            "2            0  ...             0             0             0             0   \n",
            "3            0  ...             0             0             0             0   \n",
            "4            0  ...             0             0             0             0   \n",
            "\n",
            "   ETHNICITY_33  ETHNICITY_34  ETHNICITY_35  ETHNICITY_36  ETHNICITY_37  \\\n",
            "0             0             1             0             0             0   \n",
            "1             0             1             0             0             0   \n",
            "2             0             1             0             0             0   \n",
            "3             0             1             0             0             0   \n",
            "4             0             1             0             0             0   \n",
            "\n",
            "   ETHNICITY_38  \n",
            "0             0  \n",
            "1             0  \n",
            "2             0  \n",
            "3             0  \n",
            "4             0  \n",
            "\n",
            "[5 rows x 6982 columns]\n",
            "First 5 samples of Y: 0    0\n",
            "1    0\n",
            "2    1\n",
            "3    1\n",
            "4    0\n",
            "Name: heart_failure, dtype: int32\n"
          ]
        }
      ],
      "source": [
        "print(f\"First 5 samples of X: {X[:5]}\")\n",
        "print(f\"First 5 samples of Y: {y[:5]}\")"
      ]
    },
    {
      "cell_type": "code",
      "execution_count": 30,
      "metadata": {
        "colab": {
          "base_uri": "https://localhost:8080/"
        },
        "id": "T-pKuAH3oUw7",
        "outputId": "d5e7b5f2-7f83-4fe0-bb32-aaa3c7d9c325"
      },
      "outputs": [
        {
          "name": "stdout",
          "output_type": "stream",
          "text": [
            "Number of features in X: 6982\n"
          ]
        }
      ],
      "source": [
        "num_features = X.shape[1]\n",
        "print(f\"Number of features in X: {num_features}\")"
      ]
    },
    {
      "cell_type": "code",
      "execution_count": 31,
      "metadata": {
        "colab": {
          "base_uri": "https://localhost:8080/"
        },
        "id": "2REbkQOTo70W",
        "outputId": "e690273b-a856-4c7a-ece4-0208f559b09a"
      },
      "outputs": [
        {
          "data": {
            "text/plain": [
              "((19970, 6982), (19970,))"
            ]
          },
          "execution_count": 31,
          "metadata": {},
          "output_type": "execute_result"
        }
      ],
      "source": [
        "X.shape, y.shape"
      ]
    },
    {
      "cell_type": "code",
      "execution_count": 32,
      "metadata": {
        "colab": {
          "base_uri": "https://localhost:8080/",
          "height": 35
        },
        "id": "fwebR-DlpC6X",
        "outputId": "237b5df8-6e11-4c1c-ab04-cc262ba16be4"
      },
      "outputs": [
        {
          "data": {
            "text/plain": [
              "'2.0.1+cpu'"
            ]
          },
          "execution_count": 32,
          "metadata": {},
          "output_type": "execute_result"
        }
      ],
      "source": [
        "import torch\n",
        "torch.__version__"
      ]
    },
    {
      "cell_type": "code",
      "execution_count": 33,
      "metadata": {
        "colab": {
          "base_uri": "https://localhost:8080/"
        },
        "id": "EiRarydypFFB",
        "outputId": "b6081c7e-e524-4c76-950a-eadb17485a73"
      },
      "outputs": [
        {
          "data": {
            "text/plain": [
              "' print(type(X), X.dtype)\\nprint(type(y), X.dtype)\\n '"
            ]
          },
          "execution_count": 33,
          "metadata": {},
          "output_type": "execute_result"
        }
      ],
      "source": [
        "\"\"\" print(type(X), X.dtype)\n",
        "print(type(y), X.dtype)\n",
        " \"\"\""
      ]
    },
    {
      "cell_type": "code",
      "execution_count": 34,
      "metadata": {},
      "outputs": [],
      "source": [
        "X_train, X_test, y_train, y_test = train_test_split(X, y, test_size=0.2, random_state=22)"
      ]
    },
    {
      "cell_type": "code",
      "execution_count": 35,
      "metadata": {
        "colab": {
          "base_uri": "https://localhost:8080/"
        },
        "id": "LNFb8Qsrq57W",
        "outputId": "76d3e3e2-cd18-40d3-cdd4-9382fa8d26b9"
      },
      "outputs": [
        {
          "data": {
            "text/plain": [
              "(15976, 3994, 15976, 3994)"
            ]
          },
          "execution_count": 35,
          "metadata": {},
          "output_type": "execute_result"
        }
      ],
      "source": [
        "len(X_train), len(X_test), len(y_train), len(y_test)\n"
      ]
    },
    {
      "cell_type": "markdown",
      "metadata": {},
      "source": [
        "## Training"
      ]
    },
    {
      "cell_type": "code",
      "execution_count": 36,
      "metadata": {
        "colab": {
          "base_uri": "https://localhost:8080/"
        },
        "id": "c0s3D-19pG62",
        "outputId": "3128922d-45bf-4308-9187-c9378adbe04a"
      },
      "outputs": [],
      "source": [
        "# convert data to tensors\n",
        "X_train_tensor = torch.tensor(X_train.values, dtype=torch.float32)\n",
        "y_train_tensor = torch.tensor(y_train.values, dtype=torch.float32).unsqueeze(1)  # extra dim for the label\n",
        "\n",
        "X_test_tensor = torch.tensor(X_test.values, dtype=torch.float32)\n",
        "y_test_tensor = torch.tensor(y_test.values, dtype=torch.float32).unsqueeze(1)  # extra dim for the label\n"
      ]
    },
    {
      "cell_type": "code",
      "execution_count": 37,
      "metadata": {},
      "outputs": [],
      "source": [
        "# creating custom dataset\n",
        "from torch.utils.data import Dataset, DataLoader\n",
        "\n",
        "class MIMICDataset(Dataset):\n",
        "    def __init__(self, X, y):\n",
        "        self.X = X\n",
        "        self.y = y\n",
        "\n",
        "    def __len__(self):\n",
        "        return len(self.X)\n",
        "\n",
        "    def __getitem__(self, idx):\n",
        "        return self.X[idx], self.y[idx]"
      ]
    },
    {
      "cell_type": "code",
      "execution_count": 38,
      "metadata": {},
      "outputs": [],
      "source": [
        "# creating data loaders\n",
        "BATCH_SIZE = 32  \n",
        "\n",
        "train_dataset = MIMICDataset(X_train_tensor, y_train_tensor)\n",
        "train_loader = DataLoader(train_dataset, batch_size=BATCH_SIZE, shuffle=True)\n",
        "\n",
        "test_dataset = MIMICDataset(X_test_tensor, y_test_tensor)\n",
        "test_loader = DataLoader(test_dataset, batch_size=BATCH_SIZE, shuffle=False)"
      ]
    },
    {
      "cell_type": "code",
      "execution_count": 39,
      "metadata": {},
      "outputs": [
        {
          "data": {
            "text/plain": [
              "(torch.Size([32, 6982]), torch.Size([32, 1]))"
            ]
          },
          "execution_count": 39,
          "metadata": {},
          "output_type": "execute_result"
        }
      ],
      "source": [
        "train_features_batch, train_labels_batch = next(iter(train_loader))\n",
        "train_features_batch.shape, train_labels_batch.shape # 32 batches with 6989 features; 32 batches with 1 feature (label)"
      ]
    },
    {
      "cell_type": "code",
      "execution_count": 40,
      "metadata": {
        "colab": {
          "base_uri": "https://localhost:8080/",
          "height": 35
        },
        "id": "Taj73zACq-7N",
        "outputId": "15d90071-8e5b-4e81-ce31-055abf7e4c26"
      },
      "outputs": [
        {
          "data": {
            "text/plain": [
              "'cpu'"
            ]
          },
          "execution_count": 40,
          "metadata": {},
          "output_type": "execute_result"
        }
      ],
      "source": [
        "import torch\n",
        "from torch import nn\n",
        "\n",
        "device = \"cuda\" if torch.cuda.is_available() else \"cpu\"\n",
        "device"
      ]
    },
    {
      "cell_type": "code",
      "execution_count": 41,
      "metadata": {
        "id": "1j7QcXLCrSWi"
      },
      "outputs": [],
      "source": [
        "class MLP_MIMIC_V0(nn.Module):\n",
        "  def __init__(self):\n",
        "    super().__init__()\n",
        "\n",
        "    self.layer_stack = nn.Sequential(\n",
        "    nn.Linear(in_features=6982, out_features=246),\n",
        "    nn.ReLU(),\n",
        "    nn.Linear(in_features=246, out_features=246),\n",
        "    nn.ReLU(),\n",
        "    nn.Linear(in_features=246, out_features=1))\n",
        "\n",
        "  def forward(self, x):\n",
        "    return self.layer_stack(x)\n",
        "\n",
        "model_0 = MLP_MIMIC_V0().to(device)"
      ]
    },
    {
      "cell_type": "code",
      "execution_count": 42,
      "metadata": {
        "colab": {
          "base_uri": "https://localhost:8080/"
        },
        "id": "aqfYmXz_sA3Q",
        "outputId": "93ed4ac3-39e3-4124-90b5-b7da5b050d2b"
      },
      "outputs": [
        {
          "data": {
            "text/plain": [
              "OrderedDict([('layer_stack.0.weight',\n",
              "              tensor([[-1.7221e-03, -9.0072e-03,  8.6580e-03,  ...,  4.6972e-03,\n",
              "                       -4.7612e-05,  8.7238e-03],\n",
              "                      [ 7.1300e-04, -3.1274e-03,  6.8649e-03,  ...,  9.4750e-03,\n",
              "                       -3.0901e-03, -6.1133e-03],\n",
              "                      [-8.7321e-03, -1.0539e-02, -6.0241e-03,  ...,  4.1308e-03,\n",
              "                       -1.1268e-02, -2.0936e-03],\n",
              "                      ...,\n",
              "                      [-1.1856e-02, -8.5663e-03, -1.1109e-02,  ...,  1.6728e-03,\n",
              "                       -5.2678e-03,  9.0020e-03],\n",
              "                      [ 1.0356e-02, -6.1366e-03, -1.9188e-03,  ...,  2.3731e-03,\n",
              "                        9.7632e-04,  3.0584e-03],\n",
              "                      [ 6.8608e-03,  8.0871e-03, -5.1741e-03,  ..., -8.1074e-03,\n",
              "                        6.9534e-04, -8.6279e-03]])),\n",
              "             ('layer_stack.0.bias',\n",
              "              tensor([-9.0387e-03, -6.3065e-03, -5.1274e-03,  1.0023e-02, -1.0388e-02,\n",
              "                      -9.9276e-03,  4.4790e-03, -1.1191e-02, -1.6342e-03, -1.6924e-03,\n",
              "                      -5.2593e-03,  9.6685e-03,  1.1804e-02, -1.0148e-02, -9.2763e-03,\n",
              "                      -1.1037e-02,  1.3428e-03, -1.6025e-03, -6.6970e-04,  7.6951e-03,\n",
              "                       1.0480e-02,  4.1779e-03, -1.0972e-02, -4.7354e-03, -9.1359e-03,\n",
              "                       9.2228e-03, -1.7145e-03, -2.6919e-03,  7.5791e-03, -1.0788e-02,\n",
              "                      -2.0567e-03,  6.7830e-03, -3.9844e-03, -7.7240e-03,  1.0555e-02,\n",
              "                       3.3188e-03,  8.5385e-03, -8.3312e-03,  8.7985e-03, -3.6566e-03,\n",
              "                      -8.9424e-03,  2.0761e-03, -1.1086e-02,  1.1852e-02,  1.1627e-02,\n",
              "                      -1.7098e-03,  5.9931e-03,  5.6293e-03, -8.9418e-03, -8.2179e-03,\n",
              "                      -5.4873e-03,  1.0137e-02,  1.2414e-03, -1.4928e-03, -1.1231e-02,\n",
              "                      -9.7477e-03,  1.2577e-03, -5.0199e-03,  8.9398e-03, -7.1817e-04,\n",
              "                      -3.6338e-03, -9.7970e-03,  1.0531e-02,  4.1883e-03, -7.9315e-03,\n",
              "                      -9.1041e-03, -6.2260e-03, -1.0316e-02, -1.0431e-02,  2.1992e-03,\n",
              "                      -5.3813e-03, -1.1171e-02, -1.2525e-03, -3.1691e-03,  1.6751e-03,\n",
              "                      -5.0441e-04, -4.8482e-04, -1.1800e-02,  3.0410e-03, -1.1271e-02,\n",
              "                      -5.0041e-03, -1.0999e-02, -1.5654e-03,  8.8876e-04, -1.0062e-02,\n",
              "                       1.0284e-02,  4.5887e-03,  5.9385e-03, -5.1061e-03,  2.9526e-04,\n",
              "                       5.0854e-03,  9.1684e-03, -6.5882e-03, -5.9614e-04, -1.0130e-02,\n",
              "                       8.0780e-03, -3.0243e-03, -4.9411e-04, -1.0766e-02,  1.0789e-02,\n",
              "                      -4.8392e-03, -1.0635e-02,  7.1542e-03, -5.0166e-03,  6.4247e-03,\n",
              "                       7.9995e-03,  9.5312e-04,  5.4463e-03,  7.5706e-04,  6.2475e-03,\n",
              "                       1.1252e-03, -5.1549e-03, -6.8587e-03, -2.3569e-03, -8.4840e-03,\n",
              "                      -9.6040e-03, -6.4397e-03, -1.0069e-02, -2.2237e-03, -2.1546e-03,\n",
              "                      -8.3227e-03,  1.6545e-03,  3.9423e-05,  9.8320e-03, -5.2953e-03,\n",
              "                      -2.2765e-04,  8.8248e-03,  1.5502e-03,  2.1211e-04, -1.1734e-02,\n",
              "                      -8.2300e-03,  7.8971e-03, -8.4148e-04,  1.0607e-02, -6.2776e-03,\n",
              "                       3.2803e-03,  4.0792e-04, -3.8620e-03, -1.0214e-02, -1.0656e-02,\n",
              "                       2.7067e-03,  1.0995e-03,  1.9230e-03,  8.7727e-03, -5.2142e-03,\n",
              "                      -1.0313e-02,  6.5160e-03, -7.9428e-03, -4.8817e-03,  8.9991e-03,\n",
              "                      -7.3168e-04, -1.1752e-02, -6.3343e-03,  1.3665e-03,  9.5297e-03,\n",
              "                      -1.0237e-02, -3.5240e-03,  9.5015e-03,  2.5811e-03,  6.5979e-03,\n",
              "                       2.2685e-03,  1.2049e-04, -1.1920e-02,  6.6387e-03, -7.1414e-03,\n",
              "                      -6.5924e-03,  1.1205e-02, -4.6543e-03,  1.0648e-02,  9.9144e-03,\n",
              "                       2.4778e-03,  8.9307e-03, -2.8166e-04,  7.9153e-04,  4.0603e-04,\n",
              "                      -6.7175e-04, -9.0233e-03,  2.1492e-03, -1.0777e-02, -5.1022e-03,\n",
              "                      -5.5890e-03,  1.1972e-03, -3.8042e-03,  1.6000e-03, -1.4654e-03,\n",
              "                      -4.1187e-03, -4.2245e-04, -7.0402e-03,  6.5268e-03,  8.4234e-03,\n",
              "                      -5.0626e-03,  1.7430e-03,  8.7102e-03, -6.9252e-03, -3.2941e-03,\n",
              "                       9.5680e-03, -1.0281e-03,  1.3416e-03,  8.9500e-03,  9.6206e-03,\n",
              "                      -5.2036e-03, -6.8525e-03,  3.0593e-04,  3.8576e-03,  5.4869e-03,\n",
              "                      -3.9882e-03, -3.5702e-03, -1.1960e-02,  3.1941e-04,  7.6803e-03,\n",
              "                       2.0781e-04,  8.9897e-03,  3.7924e-03, -2.1827e-03, -4.1928e-03,\n",
              "                       2.3474e-03,  1.1851e-03,  6.6328e-03,  9.0148e-03,  8.0059e-03,\n",
              "                      -8.0420e-03, -2.9562e-03,  7.6247e-03,  3.4551e-03,  1.4470e-03,\n",
              "                       6.9321e-03,  1.4013e-03,  7.9563e-03,  6.2294e-03, -2.0916e-03,\n",
              "                      -2.0201e-03, -9.4509e-03,  1.1657e-02, -8.0584e-03,  6.5469e-03,\n",
              "                      -5.3848e-03, -1.0504e-02,  1.1980e-04, -5.6627e-03,  4.7976e-03,\n",
              "                       1.1212e-02,  1.1137e-02,  3.3132e-03, -7.1914e-05,  6.6188e-03,\n",
              "                       2.5375e-03])),\n",
              "             ('layer_stack.2.weight',\n",
              "              tensor([[-0.0499,  0.0404, -0.0275,  ...,  0.0144, -0.0158,  0.0012],\n",
              "                      [ 0.0300,  0.0609, -0.0313,  ...,  0.0588,  0.0591, -0.0338],\n",
              "                      [-0.0107,  0.0508,  0.0411,  ..., -0.0322,  0.0027,  0.0114],\n",
              "                      ...,\n",
              "                      [ 0.0321,  0.0623, -0.0046,  ...,  0.0289, -0.0248,  0.0466],\n",
              "                      [ 0.0025,  0.0377, -0.0169,  ...,  0.0170,  0.0072,  0.0179],\n",
              "                      [-0.0122,  0.0617, -0.0220,  ...,  0.0636,  0.0004,  0.0603]])),\n",
              "             ('layer_stack.2.bias',\n",
              "              tensor([-0.0095, -0.0339,  0.0262, -0.0349,  0.0611, -0.0437,  0.0235, -0.0073,\n",
              "                      -0.0086,  0.0020, -0.0421,  0.0392, -0.0389, -0.0221, -0.0035,  0.0387,\n",
              "                      -0.0504, -0.0498, -0.0310, -0.0350,  0.0382,  0.0303,  0.0220,  0.0320,\n",
              "                      -0.0176,  0.0037, -0.0504,  0.0282, -0.0410,  0.0387, -0.0622,  0.0348,\n",
              "                      -0.0029, -0.0407,  0.0407, -0.0495, -0.0416,  0.0056,  0.0349, -0.0509,\n",
              "                       0.0435,  0.0596,  0.0438, -0.0048, -0.0413,  0.0589,  0.0025, -0.0101,\n",
              "                      -0.0533,  0.0448,  0.0266, -0.0071, -0.0031, -0.0278, -0.0339, -0.0360,\n",
              "                      -0.0508, -0.0100, -0.0231, -0.0551, -0.0097,  0.0434,  0.0460,  0.0275,\n",
              "                       0.0580,  0.0155, -0.0241,  0.0483,  0.0472,  0.0021, -0.0428, -0.0205,\n",
              "                       0.0608,  0.0003, -0.0422, -0.0138, -0.0006, -0.0430,  0.0419,  0.0630,\n",
              "                       0.0197,  0.0175, -0.0020,  0.0369,  0.0048,  0.0482, -0.0461, -0.0292,\n",
              "                       0.0223, -0.0423, -0.0181, -0.0196,  0.0487, -0.0425, -0.0551,  0.0514,\n",
              "                      -0.0318,  0.0121,  0.0304,  0.0148,  0.0587, -0.0333, -0.0085, -0.0229,\n",
              "                      -0.0195, -0.0404, -0.0341, -0.0594,  0.0082, -0.0633, -0.0384,  0.0200,\n",
              "                       0.0247,  0.0444,  0.0052, -0.0452, -0.0147, -0.0382, -0.0622,  0.0074,\n",
              "                      -0.0375,  0.0258, -0.0363,  0.0627,  0.0157, -0.0200, -0.0035, -0.0499,\n",
              "                      -0.0232,  0.0205,  0.0329,  0.0379,  0.0154,  0.0478,  0.0434, -0.0135,\n",
              "                       0.0120,  0.0037,  0.0389, -0.0355,  0.0159, -0.0290,  0.0230,  0.0027,\n",
              "                      -0.0120,  0.0075, -0.0099, -0.0006, -0.0442,  0.0330,  0.0253, -0.0580,\n",
              "                      -0.0578, -0.0537, -0.0209, -0.0337,  0.0401,  0.0019, -0.0230,  0.0147,\n",
              "                       0.0021,  0.0474, -0.0624, -0.0636, -0.0394,  0.0331,  0.0395, -0.0274,\n",
              "                       0.0608, -0.0373,  0.0281, -0.0052,  0.0557,  0.0535,  0.0023, -0.0045,\n",
              "                      -0.0576, -0.0181,  0.0421, -0.0453, -0.0269,  0.0313, -0.0044,  0.0005,\n",
              "                       0.0588,  0.0067, -0.0249,  0.0357,  0.0526,  0.0546, -0.0133, -0.0062,\n",
              "                       0.0444, -0.0342, -0.0166, -0.0020, -0.0043, -0.0558,  0.0244, -0.0444,\n",
              "                       0.0185, -0.0169, -0.0010,  0.0554, -0.0042, -0.0027,  0.0266, -0.0108,\n",
              "                       0.0551,  0.0145, -0.0461, -0.0146,  0.0577,  0.0595, -0.0603, -0.0138,\n",
              "                       0.0378, -0.0494, -0.0013,  0.0077, -0.0010,  0.0312,  0.0385,  0.0192,\n",
              "                      -0.0439,  0.0027, -0.0146, -0.0474,  0.0295, -0.0055, -0.0569, -0.0168,\n",
              "                       0.0398,  0.0081, -0.0330, -0.0287,  0.0324, -0.0225,  0.0424, -0.0469,\n",
              "                       0.0423,  0.0629,  0.0026,  0.0501, -0.0139, -0.0078])),\n",
              "             ('layer_stack.4.weight',\n",
              "              tensor([[ 5.9176e-02, -3.5889e-02, -4.4563e-02, -2.3715e-02,  5.8754e-02,\n",
              "                       -1.3660e-02, -1.1372e-02,  3.8429e-03, -4.1733e-02,  3.3218e-02,\n",
              "                       -4.2523e-02, -3.1425e-02,  4.5134e-03, -4.6173e-02,  4.6124e-02,\n",
              "                        2.3984e-02, -5.6423e-03,  5.3088e-02, -1.0885e-02,  6.1748e-02,\n",
              "                        4.5603e-02, -6.2089e-02,  5.2207e-02, -1.7263e-02, -6.0617e-02,\n",
              "                       -1.5797e-02,  5.5515e-02,  9.4399e-03,  4.2234e-02, -1.8321e-02,\n",
              "                       -2.4942e-02, -1.4057e-02, -4.4279e-02, -2.8093e-02,  1.7863e-03,\n",
              "                        2.8807e-03, -4.3578e-02,  2.9666e-02, -4.6274e-02,  4.5960e-02,\n",
              "                       -3.1958e-02, -4.6166e-02,  2.5860e-02,  1.1817e-02,  5.7085e-02,\n",
              "                        3.3103e-02, -4.7597e-02, -4.3303e-02,  5.7234e-02,  2.7596e-02,\n",
              "                       -1.6992e-02, -4.5107e-02,  1.7953e-02, -4.7971e-02,  3.0452e-02,\n",
              "                        1.6712e-02, -2.9209e-02,  5.4463e-02, -3.3750e-02, -1.4260e-02,\n",
              "                        1.0605e-02, -4.8091e-02,  4.9981e-02,  1.9073e-02,  2.9368e-02,\n",
              "                       -5.8127e-02, -5.4496e-02, -4.1302e-02, -5.0015e-02,  6.2609e-02,\n",
              "                        5.7090e-03, -5.8121e-02, -1.3908e-02, -6.9075e-03, -1.9680e-02,\n",
              "                       -1.8413e-02, -4.7910e-02,  5.8827e-02, -1.3068e-02, -2.4842e-02,\n",
              "                       -3.1152e-02,  9.5498e-03, -1.7088e-02, -5.3805e-02, -4.7698e-02,\n",
              "                        5.0628e-02, -4.2821e-02,  6.1810e-02,  8.4610e-03, -6.2170e-02,\n",
              "                        7.4580e-06, -2.4005e-02,  2.0713e-02, -5.9774e-03, -1.1814e-02,\n",
              "                        2.6800e-05,  5.7630e-02, -5.4687e-02,  2.0900e-02,  9.4416e-03,\n",
              "                        2.4605e-02, -2.2231e-02, -5.6978e-02,  5.4438e-02,  3.8097e-02,\n",
              "                       -2.5665e-02,  7.0975e-03,  6.2693e-02, -4.6902e-02,  1.1269e-03,\n",
              "                       -1.9311e-02,  3.9424e-02, -1.6853e-02, -4.7264e-02, -4.5043e-03,\n",
              "                       -4.1628e-02, -3.3326e-02,  4.4234e-02,  5.0564e-02, -8.5636e-03,\n",
              "                       -6.3325e-02,  5.1138e-02,  4.3764e-02,  3.1475e-02,  2.3238e-02,\n",
              "                       -1.6638e-02,  2.5229e-02,  2.6851e-02,  3.4332e-03, -5.4639e-02,\n",
              "                        7.2494e-03, -3.1257e-02, -5.5634e-03,  3.8143e-02, -6.2652e-02,\n",
              "                       -5.4517e-02, -1.4649e-02, -1.2011e-02,  4.7132e-03, -7.9387e-03,\n",
              "                        5.5512e-02,  5.1885e-02,  4.8720e-02,  5.7335e-02,  3.6662e-02,\n",
              "                        6.3520e-02, -1.6153e-02, -4.9042e-02,  4.6200e-03,  8.7216e-03,\n",
              "                       -4.8678e-02,  3.4473e-03,  5.8293e-03,  1.7858e-02, -6.3080e-02,\n",
              "                        1.2182e-03,  5.1231e-02,  1.3811e-02, -3.3918e-02, -3.7401e-02,\n",
              "                       -3.5146e-03, -2.2540e-03,  1.7281e-02,  5.3923e-02, -3.3418e-02,\n",
              "                        8.6952e-03,  2.5271e-02, -9.8660e-03,  3.4618e-02, -6.2323e-02,\n",
              "                       -3.2594e-02,  3.3099e-03, -3.6718e-02,  4.5381e-02,  4.0019e-02,\n",
              "                        4.8907e-02,  5.0728e-02,  5.8680e-02, -5.0548e-02, -4.4772e-02,\n",
              "                        3.7699e-02, -2.2990e-02,  1.5856e-02, -5.8438e-02, -4.1346e-03,\n",
              "                       -5.1706e-02, -4.5322e-02, -4.8844e-02,  4.6257e-02, -1.0592e-03,\n",
              "                        3.3401e-02,  1.3752e-02,  1.7194e-04, -3.2291e-02, -4.1821e-02,\n",
              "                       -4.7597e-02,  4.0344e-02,  5.1110e-02, -4.3678e-02, -1.0470e-02,\n",
              "                        9.6795e-03, -1.4516e-02, -4.6236e-02, -6.6630e-03,  3.2513e-02,\n",
              "                       -5.1011e-02,  5.4221e-02,  1.1324e-02,  4.7806e-02,  9.1132e-03,\n",
              "                        2.4671e-02, -1.8719e-02,  4.1138e-02,  4.0746e-02, -4.4776e-02,\n",
              "                       -8.9294e-03, -2.2028e-02,  5.5752e-02,  3.6790e-02,  4.4575e-02,\n",
              "                       -4.2652e-02, -2.9650e-02, -5.1094e-02, -3.2487e-03, -4.9011e-02,\n",
              "                       -2.9004e-02, -1.4640e-02, -4.8950e-02, -4.4986e-02,  6.1811e-02,\n",
              "                       -2.0109e-02,  3.2729e-02, -2.6305e-02,  6.3399e-02, -5.3668e-02,\n",
              "                        1.0128e-02, -3.4830e-02,  8.3576e-03,  4.4270e-02,  2.7268e-02,\n",
              "                        4.7901e-02,  4.3760e-02,  2.3747e-02,  1.8296e-02,  2.2299e-02,\n",
              "                        1.1290e-03]])),\n",
              "             ('layer_stack.4.bias', tensor([0.0018]))])"
            ]
          },
          "execution_count": 42,
          "metadata": {},
          "output_type": "execute_result"
        }
      ],
      "source": [
        "model_0.state_dict()\n"
      ]
    },
    {
      "cell_type": "code",
      "execution_count": 43,
      "metadata": {
        "id": "TKtYQfkhsMMc"
      },
      "outputs": [],
      "source": [
        "loss_fn = nn.BCEWithLogitsLoss() # binary cross entropy loss with built in sigmoid; pos_weight=pos_weight use is optional\n",
        "\n",
        "optimizer = torch.optim.Adam(params=model_0.parameters(), lr=0.01)"
      ]
    },
    {
      "cell_type": "code",
      "execution_count": 44,
      "metadata": {
        "id": "aktFvR4EsOw9"
      },
      "outputs": [],
      "source": [
        "def accuracy_fn(y_true, y_pred):\n",
        "  correct = torch.eq(y_true, y_pred).sum().item()\n",
        "  acc = (correct/len(y_pred)) * 100\n",
        "  return acc"
      ]
    },
    {
      "cell_type": "code",
      "execution_count": 45,
      "metadata": {
        "colab": {
          "base_uri": "https://localhost:8080/"
        },
        "id": "pHxk8361sQEy",
        "outputId": "9e488515-f769-4c1d-8974-54198d021c0f"
      },
      "outputs": [
        {
          "data": {
            "text/plain": [
              "MLP_MIMIC_V0(\n",
              "  (layer_stack): Sequential(\n",
              "    (0): Linear(in_features=6982, out_features=246, bias=True)\n",
              "    (1): ReLU()\n",
              "    (2): Linear(in_features=246, out_features=246, bias=True)\n",
              "    (3): ReLU()\n",
              "    (4): Linear(in_features=246, out_features=1, bias=True)\n",
              "  )\n",
              ")"
            ]
          },
          "execution_count": 45,
          "metadata": {},
          "output_type": "execute_result"
        }
      ],
      "source": [
        "model_0"
      ]
    },
    {
      "cell_type": "code",
      "execution_count": 46,
      "metadata": {
        "colab": {
          "base_uri": "https://localhost:8080/"
        },
        "id": "MN7Gc8azsZgi",
        "outputId": "3f94c03f-6a86-4e36-8547-d4ce2f8f3765"
      },
      "outputs": [
        {
          "name": "stdout",
          "output_type": "stream",
          "text": [
            "Epoch: 1 | Train loss: 8.533 | Train acc: 61.594 | Test loss: 0.667 | Test acc: 62.119\n",
            "Epoch: 2 | Train loss: 0.665 | Train acc: 62.013 | Test loss: 0.663 | Test acc: 62.119\n",
            "Epoch: 3 | Train loss: 0.665 | Train acc: 62.013 | Test loss: 0.664 | Test acc: 62.119\n"
          ]
        }
      ],
      "source": [
        "# training loop for model_0\n",
        "torch.manual_seed(22)\n",
        "torch.cuda.manual_seed(22)\n",
        "model_0.to(device)\n",
        "\n",
        "# for tracking model progress\n",
        "epoch_count_0 = []\n",
        "train_loss_values_0 = []\n",
        "train_acc_values_0 = []\n",
        "test_loss_values_0 = []\n",
        "test_acc_values_0 = []\n",
        "\n",
        "# epochs\n",
        "epochs = 3\n",
        "\n",
        "for epoch in range(epochs):\n",
        "    model_0.train()\n",
        "    running_train_loss = 0.0\n",
        "    running_train_acc = 0.0\n",
        "    \n",
        "    # train loop w dataloaders\n",
        "    for batch_X, batch_y in train_loader:\n",
        "        batch_X, batch_y = batch_X.to(device), batch_y.to(device)\n",
        "        \n",
        "        y_logits = model_0(batch_X).squeeze(1)\n",
        "        batch_y = batch_y.squeeze(1)\n",
        "        y_pred = torch.round(torch.sigmoid(y_logits))\n",
        "        \n",
        "        train_loss = loss_fn(y_logits, batch_y)\n",
        "        train_acc = accuracy_fn(y_true=batch_y, y_pred=y_pred)\n",
        "        \n",
        "        optimizer.zero_grad()\n",
        "        train_loss.backward()\n",
        "        optimizer.step()\n",
        "\n",
        "        running_train_loss += train_loss\n",
        "        running_train_acc += train_acc\n",
        "    \n",
        "    # avg out the loss and accuracy over the entire dataset\n",
        "    average_train_loss = running_train_loss / len(train_loader)\n",
        "    average_train_acc = running_train_acc / len(train_loader)\n",
        "\n",
        "    # test loop w dataloaders\n",
        "    model_0.eval()\n",
        "    running_test_loss = 0.0\n",
        "    running_test_acc = 0.0\n",
        "    \n",
        "    with torch.inference_mode():\n",
        "        for batch_X, batch_y in test_loader:\n",
        "            batch_X, batch_y = batch_X.to(device), batch_y.to(device)\n",
        "            \n",
        "            test_logits = model_0(batch_X).squeeze(1)\n",
        "            batch_y = batch_y.squeeze(1)\n",
        "            test_pred = torch.round(torch.sigmoid(test_logits))\n",
        "            \n",
        "            test_loss = loss_fn(test_logits, batch_y)\n",
        "            test_acc = accuracy_fn(y_true=batch_y, y_pred=test_pred)\n",
        "            \n",
        "            running_test_loss += test_loss\n",
        "            running_test_acc += test_acc\n",
        "    \n",
        "    average_test_loss = running_test_loss / len(test_loader)\n",
        "    average_test_acc = running_test_acc / len(test_loader)\n",
        "\n",
        "    epoch_count_0.append(epoch)\n",
        "    train_loss_values_0.append(average_train_loss)\n",
        "    train_acc_values_0.append(average_train_acc)\n",
        "    test_loss_values_0.append(average_test_loss)\n",
        "    test_acc_values_0.append(average_test_acc)\n",
        "\n",
        "    print(f\"Epoch: {epoch + 1} | Train loss: {average_train_loss:.3f} | Train acc: {average_train_acc:.3f} | Test loss: {average_test_loss:.3f} | Test acc: {average_test_acc:.3f}\")\n"
      ]
    },
    {
      "cell_type": "code",
      "execution_count": 47,
      "metadata": {},
      "outputs": [],
      "source": [
        "class MLP_MIMIC_V1(nn.Module):\n",
        "    def __init__(self):\n",
        "        super().__init__()\n",
        "\n",
        "        self.layer_stack = nn.Sequential(\n",
        "            nn.Linear(in_features=6982, out_features=512),\n",
        "            nn.BatchNorm1d(512),\n",
        "            nn.ReLU(),\n",
        "            nn.Dropout(0.5),\n",
        "\n",
        "            nn.Linear(in_features=512, out_features=256),\n",
        "            nn.BatchNorm1d(256),\n",
        "            nn.ReLU(),\n",
        "            nn.Dropout(0.5),\n",
        "\n",
        "            nn.Linear(in_features=256, out_features=128),\n",
        "            nn.BatchNorm1d(128),\n",
        "            nn.ReLU(),\n",
        "            nn.Dropout(0.5),\n",
        "\n",
        "            nn.Linear(in_features=128, out_features=1)\n",
        "        )\n",
        "\n",
        "    def forward(self, x):\n",
        "        return self.layer_stack(x)\n",
        "\n",
        "model_1 = MLP_MIMIC_V1().to(device)\n"
      ]
    },
    {
      "cell_type": "code",
      "execution_count": 48,
      "metadata": {},
      "outputs": [
        {
          "name": "stdout",
          "output_type": "stream",
          "text": [
            "Epoch: 1 | Train loss: 0.679 | Train acc: 60.594 | Test loss: 0.671 | Test acc: 62.119\n",
            "Epoch: 2 | Train loss: 0.667 | Train acc: 62.100 | Test loss: 0.668 | Test acc: 62.119\n",
            "Epoch: 3 | Train loss: 0.665 | Train acc: 61.975 | Test loss: 0.663 | Test acc: 62.119\n"
          ]
        }
      ],
      "source": [
        "loss_fn = nn.BCEWithLogitsLoss() # binary cross entropy loss with built in sigmoid\n",
        "optimizer = torch.optim.Adam(params=model_1.parameters(), lr=0.01)\n",
        "\n",
        "# training loop for model_1\n",
        "torch.manual_seed(22)\n",
        "torch.cuda.manual_seed(22)\n",
        "model_1.to(device)\n",
        "\n",
        "# for tracking model progress\n",
        "epoch_count_1 = []\n",
        "train_loss_values_1 = []\n",
        "train_acc_values_1 = []\n",
        "test_loss_values_1 = []\n",
        "test_acc_values_1 = []\n",
        "\n",
        "# epochs\n",
        "epochs = 3\n",
        "\n",
        "for epoch in range(epochs):\n",
        "    model_1.train()\n",
        "    running_train_loss = 0.0\n",
        "    running_train_acc = 0.0\n",
        "    \n",
        "    # train loop w dataloaders\n",
        "    for batch_X, batch_y in train_loader:\n",
        "        batch_X, batch_y = batch_X.to(device), batch_y.to(device)\n",
        "        \n",
        "        y_logits = model_1(batch_X).squeeze(1)\n",
        "        batch_y = batch_y.squeeze(1)\n",
        "        y_pred = torch.round(torch.sigmoid(y_logits))\n",
        "        \n",
        "        train_loss = loss_fn(y_logits, batch_y)\n",
        "        train_acc = accuracy_fn(y_true=batch_y, y_pred=y_pred)\n",
        "        \n",
        "        optimizer.zero_grad()\n",
        "        train_loss.backward()\n",
        "        optimizer.step()\n",
        "\n",
        "        running_train_loss += train_loss\n",
        "        running_train_acc += train_acc\n",
        "    \n",
        "    # avg out the loss and accuracy over the entire dataset\n",
        "    average_train_loss = running_train_loss / len(train_loader)\n",
        "    average_train_acc = running_train_acc / len(train_loader)\n",
        "\n",
        "    # test loop w dataloaders\n",
        "    model_1.eval()\n",
        "    running_test_loss = 0.0\n",
        "    running_test_acc = 0.0\n",
        "    \n",
        "    with torch.inference_mode():\n",
        "        for batch_X, batch_y in test_loader:\n",
        "            batch_X, batch_y = batch_X.to(device), batch_y.to(device)\n",
        "            \n",
        "            test_logits = model_1(batch_X).squeeze(1)\n",
        "            batch_y = batch_y.squeeze(1)\n",
        "            test_pred = torch.round(torch.sigmoid(test_logits))\n",
        "            \n",
        "            test_loss = loss_fn(test_logits, batch_y)\n",
        "            test_acc = accuracy_fn(y_true=batch_y, y_pred=test_pred)\n",
        "            \n",
        "            running_test_loss += test_loss\n",
        "            running_test_acc += test_acc\n",
        "    \n",
        "    average_test_loss = running_test_loss / len(test_loader)\n",
        "    average_test_acc = running_test_acc / len(test_loader)\n",
        "\n",
        "    epoch_count_1.append(epoch)\n",
        "    train_loss_values_1.append(average_train_loss)\n",
        "    train_acc_values_1.append(average_train_acc)\n",
        "    test_loss_values_1.append(average_test_loss)\n",
        "    test_acc_values_1.append(average_test_acc)\n",
        "\n",
        "    print(f\"Epoch: {epoch + 1} | Train loss: {average_train_loss:.3f} | Train acc: {average_train_acc:.3f} | Test loss: {average_test_loss:.3f} | Test acc: {average_test_acc:.3f}\")\n"
      ]
    },
    {
      "cell_type": "markdown",
      "metadata": {},
      "source": [
        "## Model evaluations"
      ]
    },
    {
      "cell_type": "markdown",
      "metadata": {},
      "source": [
        "### Model 0"
      ]
    },
    {
      "cell_type": "code",
      "execution_count": 49,
      "metadata": {
        "colab": {
          "base_uri": "https://localhost:8080/",
          "height": 472
        },
        "id": "0hh-WkWTuGrF",
        "outputId": "d5d6d0ef-44f5-4d67-f3a3-5b1896f0e221"
      },
      "outputs": [
        {
          "data": {
            "image/png": "[encoded data removed]",
            "text/plain": [
              "<Figure size 640x480 with 1 Axes>"
            ]
          },
          "metadata": {},
          "output_type": "display_data"
        }
      ],
      "source": [
        "import matplotlib.pyplot as plt\n",
        "import numpy as np\n",
        "\n",
        "plt.plot(epoch_count_0, np.array(torch.tensor(train_loss_values_0).numpy()), label=\"Train loss\")\n",
        "plt.plot(epoch_count_0, np.array(torch.tensor(test_loss_values_0).numpy()), label=\"Test loss\")\n",
        "plt.title(\"Train and test loss - Model 0\")\n",
        "plt.ylabel(\"Loss\")\n",
        "plt.xlabel(\"Epochs\")\n",
        "plt.legend();"
      ]
    },
    {
      "cell_type": "code",
      "execution_count": 50,
      "metadata": {
        "colab": {
          "base_uri": "https://localhost:8080/",
          "height": 329
        },
        "id": "FC8Ai8ZjPFmA",
        "outputId": "762056b0-dcf7-402f-89f3-508ff7adf5fa"
      },
      "outputs": [
        {
          "data": {
            "image/png": "[encoded data removed]",
            "text/plain": [
              "<Figure size 1200x600 with 1 Axes>"
            ]
          },
          "metadata": {},
          "output_type": "display_data"
        }
      ],
      "source": [
        "plt.figure(figsize=(12, 6))\n",
        "\n",
        "plt.plot(epoch_count_0, train_acc_values_0, '-o', label='Train Accuracy', color='blue')\n",
        "plt.plot(epoch_count_0, test_acc_values_0, '-o', label='Test Accuracy', color='red')\n",
        "\n",
        "plt.title('Train and test accuracy - Model 0')\n",
        "plt.xlabel('Epochs')\n",
        "plt.ylabel('Accuracy')\n",
        "plt.legend()\n",
        "plt.grid(True)\n",
        "plt.tight_layout()\n",
        "\n",
        "plt.show()"
      ]
    },
    {
      "cell_type": "code",
      "execution_count": 51,
      "metadata": {
        "colab": {
          "base_uri": "https://localhost:8080/",
          "height": 472
        },
        "id": "8N3vPCXJMxfs",
        "outputId": "7456a30f-f32e-4acf-9f31-9a32e67e019e"
      },
      "outputs": [
        {
          "name": "stdout",
          "output_type": "stream",
          "text": [
            "AUC for MLP Model 0: 0.5000\n"
          ]
        },
        {
          "data": {
            "image/png": "[encoded data removed]",
            "text/plain": [
              "<Figure size 640x480 with 1 Axes>"
            ]
          },
          "metadata": {},
          "output_type": "display_data"
        }
      ],
      "source": [
        "from sklearn.metrics import roc_curve, auc\n",
        "\n",
        "all_test_probabilities = []\n",
        "all_true_labels = []\n",
        "\n",
        "# iterating w test loader\n",
        "with torch.inference_mode():\n",
        "    for batch_X, batch_y in test_loader:\n",
        "        # device agnostic \n",
        "        batch_X = batch_X.cuda() if next(model_0.parameters()).is_cuda else batch_X\n",
        "        batch_y = batch_y.cuda() if next(model_0.parameters()).is_cuda else batch_y\n",
        "        \n",
        "        test_logits = model_0(batch_X).squeeze()\n",
        "        test_probabilities = torch.sigmoid(test_logits).cpu().numpy()\n",
        "        \n",
        "        all_test_probabilities.extend(test_probabilities)\n",
        "        all_true_labels.extend(batch_y.cpu().numpy())\n",
        "\n",
        "# false positive and true positive rates and thresholds\n",
        "fpr, tpr, thresholds = roc_curve(all_true_labels, all_test_probabilities)\n",
        "\n",
        "# calculate auc\n",
        "roc_auc = auc(fpr, tpr)\n",
        "\n",
        "# print auc\n",
        "print(f\"AUC for MLP Model 0: {roc_auc:.4f}\")\n",
        "\n",
        "# plot roc and auc\n",
        "plt.figure()\n",
        "plt.plot(fpr, tpr, color='darkorange', lw=2, label=f'ROC curve (area = {roc_auc:.2f})')\n",
        "plt.plot([0, 1], [0, 1], color='navy', lw=2, linestyle='--')  # random classifier diagonal\n",
        "plt.xlim([0.0, 1.0])\n",
        "plt.ylim([0.0, 1.05])\n",
        "plt.xlabel('False Positive Rate')\n",
        "plt.ylabel('True Positive Rate')\n",
        "plt.title('ROC Curve - MLP Model 0')\n",
        "plt.legend(loc=\"lower right\")\n",
        "plt.show()\n"
      ]
    },
    {
      "cell_type": "markdown",
      "metadata": {},
      "source": [
        "### Model 1"
      ]
    },
    {
      "cell_type": "code",
      "execution_count": 52,
      "metadata": {
        "colab": {
          "base_uri": "https://localhost:8080/",
          "height": 472
        },
        "id": "rkTgfoBsIPr0",
        "outputId": "57817e9e-57b8-4623-c4b3-8599e49f3dbf"
      },
      "outputs": [
        {
          "data": {
            "image/png": "[encoded data removed]",
            "text/plain": [
              "<Figure size 640x480 with 1 Axes>"
            ]
          },
          "metadata": {},
          "output_type": "display_data"
        }
      ],
      "source": [
        "plt.plot(epoch_count_1, np.array(torch.tensor(train_loss_values_1).numpy()), label=\"Train loss\")\n",
        "plt.plot(epoch_count_1, np.array(torch.tensor(test_loss_values_1).numpy()), label=\"Test loss\")\n",
        "plt.title(\"Train and test loss - Model 1\")\n",
        "plt.ylabel(\"Loss\")\n",
        "plt.xlabel(\"Epochs\")\n",
        "plt.legend();"
      ]
    },
    {
      "cell_type": "code",
      "execution_count": 53,
      "metadata": {
        "colab": {
          "base_uri": "https://localhost:8080/",
          "height": 329
        },
        "id": "S57VEQEFPQMZ",
        "outputId": "26312cf5-a60b-4142-cfb2-1269aca090a8"
      },
      "outputs": [
        {
          "data": {
            "image/png": "[encoded data removed]",
            "text/plain": [
              "<Figure size 1200x600 with 1 Axes>"
            ]
          },
          "metadata": {},
          "output_type": "display_data"
        }
      ],
      "source": [
        "plt.figure(figsize=(12, 6))\n",
        "\n",
        "plt.plot(epoch_count_1, train_acc_values_1, '-o', label='Train Accuracy', color='blue')\n",
        "plt.plot(epoch_count_1, test_acc_values_1, '-o', label='Test Accuracy', color='red')\n",
        "\n",
        "plt.title('Train and test accuracy - Model 1')\n",
        "plt.xlabel('Epochs')\n",
        "plt.ylabel('Accuracy')\n",
        "plt.legend()\n",
        "plt.grid(True)\n",
        "plt.tight_layout()\n",
        "\n",
        "plt.show()"
      ]
    },
    {
      "cell_type": "code",
      "execution_count": 54,
      "metadata": {
        "colab": {
          "base_uri": "https://localhost:8080/"
        },
        "id": "mwxhg6X2JShN",
        "outputId": "dff6faa6-8a32-4d19-f318-8d77e341d7b4"
      },
      "outputs": [
        {
          "name": "stdout",
          "output_type": "stream",
          "text": [
            "AUC for MLP Model 1: 0.5159\n"
          ]
        },
        {
          "data": {
            "image/png": "[encoded data removed]",
            "text/plain": [
              "<Figure size 640x480 with 1 Axes>"
            ]
          },
          "metadata": {},
          "output_type": "display_data"
        }
      ],
      "source": [
        "all_test_probabilities = []\n",
        "all_true_labels = []\n",
        "\n",
        "# iterating w test loader\n",
        "with torch.inference_mode():\n",
        "    for batch_X, batch_y in test_loader:\n",
        "        # device agnostic \n",
        "        batch_X = batch_X.cuda() if next(model_1.parameters()).is_cuda else batch_X\n",
        "        batch_y = batch_y.cuda() if next(model_1.parameters()).is_cuda else batch_y\n",
        "        \n",
        "        test_logits = model_1(batch_X).squeeze()\n",
        "        test_probabilities = torch.sigmoid(test_logits).cpu().numpy()\n",
        "        \n",
        "        all_test_probabilities.extend(test_probabilities)\n",
        "        all_true_labels.extend(batch_y.cpu().numpy())\n",
        "\n",
        "# false positive and true positive rates and thresholds\n",
        "fpr, tpr, thresholds = roc_curve(all_true_labels, all_test_probabilities)\n",
        "\n",
        "# calculate auc\n",
        "roc_auc = auc(fpr, tpr)\n",
        "\n",
        "# print auc\n",
        "print(f\"AUC for MLP Model 1: {roc_auc:.4f}\")\n",
        "\n",
        "# plot roc and auc\n",
        "plt.figure()\n",
        "plt.plot(fpr, tpr, color='darkorange', lw=2, label=f'ROC curve (area = {roc_auc:.2f})')\n",
        "plt.plot([0, 1], [0, 1], color='navy', lw=2, linestyle='--')  # random classifier diagonal\n",
        "plt.xlim([0.0, 1.0])\n",
        "plt.ylim([0.0, 1.05])\n",
        "plt.xlabel('False Positive Rate')\n",
        "plt.ylabel('True Positive Rate')\n",
        "plt.title('ROC Curve - MLP Model 1')\n",
        "plt.legend(loc=\"lower right\")\n",
        "plt.show()\n"
      ]
    },
    {
      "cell_type": "code",
      "execution_count": 74,
      "metadata": {
        "colab": {
          "base_uri": "https://localhost:8080/",
          "height": 516
        },
        "id": "SUuJhO-8Uuoz",
        "outputId": "86dd459f-9e74-426e-f3f5-ca1e342f2314"
      },
      "outputs": [
        {
          "data": {
            "image/png": "[encoded data removed]",
            "text/plain": [
              "<Figure size 1000x700 with 1 Axes>"
            ]
          },
          "metadata": {},
          "output_type": "display_data"
        },
        {
          "name": "stdout",
          "output_type": "stream",
          "text": [
            "Accuracy: 0.63\n",
            "AUC: 0.51\n"
          ]
        }
      ],
      "source": [
        "import matplotlib.pyplot as plt\n",
        "from sklearn.linear_model import LogisticRegression\n",
        "from sklearn.metrics import accuracy_score, roc_auc_score, roc_curve\n",
        "\n",
        "# logistic regression model\n",
        "logreg = LogisticRegression(max_iter=1000)\n",
        "logreg.fit(X_train, y_train.ravel())\n",
        "\n",
        "# predict probs\n",
        "y_pred_prob = logreg.predict_proba(X_test)[:,1]\n",
        "\n",
        "# compute accuracy\n",
        "y_pred = logreg.predict(X_test)\n",
        "accuracy = accuracy_score(y_test.ravel(), y_pred)\n",
        "\n",
        "# compute auc\n",
        "auc = roc_auc_score(y_test.ravel(), y_pred_prob)\n",
        "\n",
        "# compute and plot roc curve\n",
        "fpr, tpr, thresholds = roc_curve(y_test.ravel(), y_pred_prob)\n",
        "plt.figure(figsize=(10, 7))\n",
        "plt.plot(fpr, tpr, label=f'AUC: {auc:.2f}')\n",
        "plt.plot([0, 1], [0, 1], linestyle='--', color='red')\n",
        "plt.xlabel('False Positive Rate')\n",
        "plt.ylabel('True Positive Rate')\n",
        "plt.title('ROC Curve')\n",
        "plt.legend()\n",
        "plt.show()\n",
        "\n",
        "print(f\"Accuracy: {accuracy:.2f}\")\n",
        "print(f\"AUC: {auc:.2f}\") \n"
      ]
    }
  ],
  "metadata": {
    "accelerator": "GPU",
    "colab": {
      "gpuType": "T4",
      "provenance": []
    },
    "kernelspec": {
      "display_name": "Python 3",
      "name": "python3"
    },
    "language_info": {
      "codemirror_mode": {
        "name": "ipython",
        "version": 3
      },
      "file_extension": ".py",
      "mimetype": "text/x-python",
      "name": "python",
      "nbconvert_exporter": "python",
      "pygments_lexer": "ipython3",
      "version": "3.9.13"
    }
  },
  "nbformat": 4,
  "nbformat_minor": 0
}
